{
  "nbformat": 4,
  "nbformat_minor": 0,
  "metadata": {
    "colab": {
      "name": "ML11 - Ensemble.ipynb",
      "provenance": [],
      "collapsed_sections": [],
      "authorship_tag": "ABX9TyNzFRzxPJpMylCcjHtii2Px",
      "include_colab_link": true
    },
    "kernelspec": {
      "name": "python3",
      "display_name": "Python 3"
    }
  },
  "cells": [
    {
      "cell_type": "markdown",
      "metadata": {
        "id": "view-in-github",
        "colab_type": "text"
      },
      "source": [
        "<a href=\"https://colab.research.google.com/github/mabittar/Portfolio/blob/master/ML11_Ensemble.ipynb\" target=\"_parent\"><img src=\"https://colab.research.google.com/assets/colab-badge.svg\" alt=\"Open In Colab\"/></a>"
      ]
    },
    {
      "cell_type": "markdown",
      "metadata": {
        "id": "IVZWJ3lpRIBA",
        "colab_type": "text"
      },
      "source": [
        "# Método de Ensemble\n",
        "\n",
        "Por que usar apenas um modelo de machine learning, por apenas uma forma de fazer previsão? Imagine que você poderia aproveitar o melhor de cada mundo, usar os pontos fortes de cada estimador e até mesmo combiná-los.\n",
        "\n",
        "Esta notebook é apenas uma introdução de um conceito conhecido como Métodos de Ensemble.\n",
        "\n",
        "\n",
        "Me inspirei no [post](https://sigmoidal.ai/metodo-de-ensemble-vantagens-da-combinacao-de-diferentes-estimadores/) do [Marcelo Randolfo](https://www.linkedin.com/in/marcelo-randolfo/) para elaborar esse notebook, porém no post originial ele utiliza a base de dados da competição do [Kaggle](https://www.kaggle.com/c/titanic) sobre sobreviventes ao naufrágio do Titanic.\n",
        "\n",
        "<center><img alt=\"Titanic x Python\" width=\"30%\" src=\"https://sigmoidal.ai/wp-content/uploads/2019/07/Data-Science-Investigando-o-naufr%C3%A1gio-do-Titanic-2-1024x576.jpg\"></center>\n",
        "\n",
        "\n",
        "\n",
        "\n",
        "\n"
      ]
    },
    {
      "cell_type": "markdown",
      "metadata": {
        "id": "JeUp2R8Gp-MR",
        "colab_type": "text"
      },
      "source": [
        "## O dataset\n",
        "\n",
        "Como desafio pessoal, preferi utilizar outro dataset no meu exemplo. Os dados aqui foi retirado da [UC Irvine Machine Learning Repository](https://archive.ics.uci.edu/ml/index.php) e representa uma abordagem baseada em dados para *prever o sucesso do campanha de marketing* de um banco Português. \n",
        "\n",
        "<center><img alt=\"Telemarketing\" width=\"40%\" src=\"https://conteudo.movidesk.com/wp-content/uploads/2019/05/Blog-08-05-Telemarketing.jpg\"></center>\n",
        "\n",
        "\n",
        "\n",
        "A página com maiores informações sobre os dados pode ser acessada [aqui](https://archive.ics.uci.edu/ml/datasets/Bank+Marketing).\n",
        "\n",
        "O dataset é composto por 17 variáveis (colunas) e 45.211 entradas (linhas).\n",
        "\n"
      ]
    },
    {
      "cell_type": "markdown",
      "metadata": {
        "id": "wGoTEMJ2rg00",
        "colab_type": "text"
      },
      "source": [
        "### Dicionário de Varáveis:\n",
        "\n",
        "*Dados Pessoais:*\n",
        "\n",
        "   1 - age (numerico)\n",
        "\n",
        "   2 - job : categoria de trabalho (categórica) \n",
        "\n",
        "   3 - marital : estado civil (categórica)\n",
        "\n",
        "   4 - education : escolaridade (categórica)\n",
        "\n",
        "   5 - default: Inandimplente?  (binária)\n",
        "\n",
        "   6 - balance: rendimentos anuais em euros (numérica) \n",
        "\n",
        "   7 - housing: tem empréstimo residencial? (binária)\n",
        "   \n",
        "   8 - loan: tem empréstimo pessoal? (binária)\n",
        "\n",
        "*Relativos a campanha de marketing:*\n",
        "\n",
        "   9 - contact: typo do contato (categórica)\n",
        "   \n",
        "  10 - day: o dia do mês que foi feito o útimo contato. (numérica)\n",
        "\n",
        "  11 - month: o mês do último contato. (categórica: \"jan\", \"feb\", \"mar\", ..., \"nov\", \"dec\")\n",
        "\n",
        "  12 - duration: duração do último contato, em segundos (numérica)\n",
        "\n",
        "Outras Características:\n",
        "\n",
        "  13 - campaign: quantidade de contatos feitos durante a campanha com o cliente.(numérica)\n",
        "\n",
        "  14 - pdays: número de dias que se passaram desde o último contato. (numérica, -1 representa que o cliente ainda não foi contactado)\n",
        "  \n",
        "  15 - previous: número de contado feitos com o cliente. (numérica)\n",
        "\n",
        "  16 - poutcome: classificação de campanhas realizadas anteriormente (categórica: \"unknown\",\"other\",\"failure\",\"success\")\n",
        "\n",
        "**Variável Alvo:**\n",
        "\n",
        "  17 - y - O cliente assinou o termo? (binária: \"yes\",\"no\")"
      ]
    },
    {
      "cell_type": "code",
      "metadata": {
        "id": "6AzIitHpPerL",
        "colab_type": "code",
        "colab": {
          "base_uri": "https://localhost:8080/",
          "height": 217
        },
        "outputId": "276ac605-29cf-4158-d35e-e61f092ad45d"
      },
      "source": [
        "#primeiramente vamos baixar o dataset para a plataforma do GoogleColab\n",
        "from google.colab import files\n",
        "!wget https://archive.ics.uci.edu/ml/machine-learning-databases/00222/bank.zip\n"
      ],
      "execution_count": null,
      "outputs": [
        {
          "output_type": "stream",
          "text": [
            "--2020-08-31 20:47:34--  https://archive.ics.uci.edu/ml/machine-learning-databases/00222/bank.zip\n",
            "Resolving archive.ics.uci.edu (archive.ics.uci.edu)... 128.195.10.252\n",
            "Connecting to archive.ics.uci.edu (archive.ics.uci.edu)|128.195.10.252|:443... connected.\n",
            "HTTP request sent, awaiting response... 200 OK\n",
            "Length: 579043 (565K) [application/x-httpd-php]\n",
            "Saving to: ‘bank.zip’\n",
            "\n",
            "bank.zip            100%[===================>] 565.47K  2.20MB/s    in 0.3s    \n",
            "\n",
            "2020-08-31 20:47:35 (2.20 MB/s) - ‘bank.zip’ saved [579043/579043]\n",
            "\n"
          ],
          "name": "stdout"
        }
      ]
    },
    {
      "cell_type": "code",
      "metadata": {
        "id": "yCx8ODVZR7bE",
        "colab_type": "code",
        "colab": {
          "base_uri": "https://localhost:8080/",
          "height": 90
        },
        "outputId": "8baf3cad-cedf-451f-8934-139976c883e3"
      },
      "source": [
        "#como o arquivo esta no formato .zip iremos descompactá-lo\n",
        "!unzip \\*.zip  && rm *.zip"
      ],
      "execution_count": null,
      "outputs": [
        {
          "output_type": "stream",
          "text": [
            "Archive:  bank.zip\n",
            "  inflating: bank-full.csv           \n",
            "  inflating: bank-names.txt          \n",
            "  inflating: bank.csv                \n"
          ],
          "name": "stdout"
        }
      ]
    },
    {
      "cell_type": "markdown",
      "metadata": {
        "id": "Ssi4Wcg_R8xF",
        "colab_type": "text"
      },
      "source": [
        "Agora que estamos com o nosso dataset no Colab podemos importá-lo para utilização."
      ]
    },
    {
      "cell_type": "code",
      "metadata": {
        "id": "Jd2REcQ8SQIK",
        "colab_type": "code",
        "colab": {
          "base_uri": "https://localhost:8080/",
          "height": 198
        },
        "outputId": "82256d89-9728-4b08-c5cf-27992d89020d"
      },
      "source": [
        "import numpy as np\n",
        "import pandas as pd\n",
        "import matplotlib.pyplot as plt\n",
        "\n",
        "file_path = \"/content/bank-full.csv\"\n",
        "df = pd.read_csv(file_path, sep=';')\n",
        "df.head()"
      ],
      "execution_count": null,
      "outputs": [
        {
          "output_type": "execute_result",
          "data": {
            "text/html": [
              "<div>\n",
              "<style scoped>\n",
              "    .dataframe tbody tr th:only-of-type {\n",
              "        vertical-align: middle;\n",
              "    }\n",
              "\n",
              "    .dataframe tbody tr th {\n",
              "        vertical-align: top;\n",
              "    }\n",
              "\n",
              "    .dataframe thead th {\n",
              "        text-align: right;\n",
              "    }\n",
              "</style>\n",
              "<table border=\"1\" class=\"dataframe\">\n",
              "  <thead>\n",
              "    <tr style=\"text-align: right;\">\n",
              "      <th></th>\n",
              "      <th>age</th>\n",
              "      <th>job</th>\n",
              "      <th>marital</th>\n",
              "      <th>education</th>\n",
              "      <th>default</th>\n",
              "      <th>balance</th>\n",
              "      <th>housing</th>\n",
              "      <th>loan</th>\n",
              "      <th>contact</th>\n",
              "      <th>day</th>\n",
              "      <th>month</th>\n",
              "      <th>duration</th>\n",
              "      <th>campaign</th>\n",
              "      <th>pdays</th>\n",
              "      <th>previous</th>\n",
              "      <th>poutcome</th>\n",
              "      <th>y</th>\n",
              "    </tr>\n",
              "  </thead>\n",
              "  <tbody>\n",
              "    <tr>\n",
              "      <th>0</th>\n",
              "      <td>58</td>\n",
              "      <td>management</td>\n",
              "      <td>married</td>\n",
              "      <td>tertiary</td>\n",
              "      <td>no</td>\n",
              "      <td>2143</td>\n",
              "      <td>yes</td>\n",
              "      <td>no</td>\n",
              "      <td>unknown</td>\n",
              "      <td>5</td>\n",
              "      <td>may</td>\n",
              "      <td>261</td>\n",
              "      <td>1</td>\n",
              "      <td>-1</td>\n",
              "      <td>0</td>\n",
              "      <td>unknown</td>\n",
              "      <td>no</td>\n",
              "    </tr>\n",
              "    <tr>\n",
              "      <th>1</th>\n",
              "      <td>44</td>\n",
              "      <td>technician</td>\n",
              "      <td>single</td>\n",
              "      <td>secondary</td>\n",
              "      <td>no</td>\n",
              "      <td>29</td>\n",
              "      <td>yes</td>\n",
              "      <td>no</td>\n",
              "      <td>unknown</td>\n",
              "      <td>5</td>\n",
              "      <td>may</td>\n",
              "      <td>151</td>\n",
              "      <td>1</td>\n",
              "      <td>-1</td>\n",
              "      <td>0</td>\n",
              "      <td>unknown</td>\n",
              "      <td>no</td>\n",
              "    </tr>\n",
              "    <tr>\n",
              "      <th>2</th>\n",
              "      <td>33</td>\n",
              "      <td>entrepreneur</td>\n",
              "      <td>married</td>\n",
              "      <td>secondary</td>\n",
              "      <td>no</td>\n",
              "      <td>2</td>\n",
              "      <td>yes</td>\n",
              "      <td>yes</td>\n",
              "      <td>unknown</td>\n",
              "      <td>5</td>\n",
              "      <td>may</td>\n",
              "      <td>76</td>\n",
              "      <td>1</td>\n",
              "      <td>-1</td>\n",
              "      <td>0</td>\n",
              "      <td>unknown</td>\n",
              "      <td>no</td>\n",
              "    </tr>\n",
              "    <tr>\n",
              "      <th>3</th>\n",
              "      <td>47</td>\n",
              "      <td>blue-collar</td>\n",
              "      <td>married</td>\n",
              "      <td>unknown</td>\n",
              "      <td>no</td>\n",
              "      <td>1506</td>\n",
              "      <td>yes</td>\n",
              "      <td>no</td>\n",
              "      <td>unknown</td>\n",
              "      <td>5</td>\n",
              "      <td>may</td>\n",
              "      <td>92</td>\n",
              "      <td>1</td>\n",
              "      <td>-1</td>\n",
              "      <td>0</td>\n",
              "      <td>unknown</td>\n",
              "      <td>no</td>\n",
              "    </tr>\n",
              "    <tr>\n",
              "      <th>4</th>\n",
              "      <td>33</td>\n",
              "      <td>unknown</td>\n",
              "      <td>single</td>\n",
              "      <td>unknown</td>\n",
              "      <td>no</td>\n",
              "      <td>1</td>\n",
              "      <td>no</td>\n",
              "      <td>no</td>\n",
              "      <td>unknown</td>\n",
              "      <td>5</td>\n",
              "      <td>may</td>\n",
              "      <td>198</td>\n",
              "      <td>1</td>\n",
              "      <td>-1</td>\n",
              "      <td>0</td>\n",
              "      <td>unknown</td>\n",
              "      <td>no</td>\n",
              "    </tr>\n",
              "  </tbody>\n",
              "</table>\n",
              "</div>"
            ],
            "text/plain": [
              "   age           job  marital  education  ... pdays  previous poutcome   y\n",
              "0   58    management  married   tertiary  ...    -1         0  unknown  no\n",
              "1   44    technician   single  secondary  ...    -1         0  unknown  no\n",
              "2   33  entrepreneur  married  secondary  ...    -1         0  unknown  no\n",
              "3   47   blue-collar  married    unknown  ...    -1         0  unknown  no\n",
              "4   33       unknown   single    unknown  ...    -1         0  unknown  no\n",
              "\n",
              "[5 rows x 17 columns]"
            ]
          },
          "metadata": {
            "tags": []
          },
          "execution_count": 3
        }
      ]
    },
    {
      "cell_type": "markdown",
      "metadata": {
        "id": "QVYXTJ8iSU7d",
        "colab_type": "text"
      },
      "source": [
        "Para não se alongar muito, o foco dessa vez não é a transformação do dados para que possamos utilizaar no nosso modelo preditivo.\n",
        "\n",
        "Para um passo a passo mais detalhado sobre a transformação das variáveis categóricas pode consultar no outro [notebook](https://colab.research.google.com/drive/1mzthkMQXYSnkyOWUsA0JqR14-ii3HkOf?usp=sharing) que eu elaborei.\n",
        "\n",
        "Aqui vou avançar os passos e deixar registrado apenas o comandos."
      ]
    },
    {
      "cell_type": "code",
      "metadata": {
        "id": "81wX6CxdSo11",
        "colab_type": "code",
        "colab": {
          "base_uri": "https://localhost:8080/",
          "height": 35
        },
        "outputId": "8641ca92-ba43-4470-8a05-3a0f13db9628"
      },
      "source": [
        "# Separar os dados entre feature matrix e target vector\n",
        "X = df.drop('y', axis=1)\n",
        "y = df['y']\n",
        "X.shape,y.shape"
      ],
      "execution_count": null,
      "outputs": [
        {
          "output_type": "execute_result",
          "data": {
            "text/plain": [
              "((45211, 16), (45211,))"
            ]
          },
          "metadata": {
            "tags": []
          },
          "execution_count": 4
        }
      ]
    },
    {
      "cell_type": "code",
      "metadata": {
        "id": "QlfaTzFFSsZj",
        "colab_type": "code",
        "colab": {
          "base_uri": "https://localhost:8080/",
          "height": 72
        },
        "outputId": "caacf29b-cf5c-4732-e3ac-df5fb04b908f"
      },
      "source": [
        "# Convertendo as variáveis para inteiros 0,1.\n",
        "y = pd.Series(np.where(y.values == 'yes',1,0), y.index)\n",
        "y.value_counts()"
      ],
      "execution_count": null,
      "outputs": [
        {
          "output_type": "execute_result",
          "data": {
            "text/plain": [
              "0    39922\n",
              "1     5289\n",
              "dtype: int64"
            ]
          },
          "metadata": {
            "tags": []
          },
          "execution_count": 5
        }
      ]
    },
    {
      "cell_type": "code",
      "metadata": {
        "id": "ZvO4e73HSwQw",
        "colab_type": "code",
        "colab": {
          "base_uri": "https://localhost:8080/",
          "height": 235
        },
        "outputId": "d157da68-350b-46af-a3a6-e2db300e67a0"
      },
      "source": [
        "#Label Enconder\n",
        "from sklearn.preprocessing import MinMaxScaler, StandardScaler, LabelEncoder\n",
        "\n",
        "#1. instanciando o enconder\n",
        "label_encoder = LabelEncoder()\n",
        "\n",
        "#crinado uma lista vazia para receber esses dados\n",
        "mapping = []\n",
        "\n",
        "#definindo a ordem dos rotulos para cada coluna categórica\n",
        "educ_order = ['primary', 'secondary', 'tertiary', 'unknown']\n",
        "month_order = ['jan', 'feb', 'mar', 'apr', 'may', 'jun', 'jul', 'aug', 'sep', 'oct', 'nov', 'dec']\n",
        "\n",
        "#usando o cat.codes do Pandas para ordenar e por relevancia de cardinalidade\n",
        "def order_labels(df, col, order):\n",
        "  df[col] = df[col].astype('category')\n",
        "  df[col] = df[col].cat.reorder_categories(order, ordered=True)\n",
        "  df[col] = df[col].cat.codes.astype(int)\n",
        "\n",
        "#usando dummies_var para a coluna 2-job\n",
        "X = pd.concat([X, pd.get_dummies(X['job'])], axis=1).drop('job',axis=1)\n",
        "\n",
        "#usando a função definida a cima para as colunas  11-mount e 4-education \n",
        "order_labels(X, 'education', educ_order)\n",
        "order_labels(X, 'month', month_order)\n",
        "\n",
        "#usando Label Enconding para as demais variáveis de baixa cardinalidade\n",
        "for i, col in enumerate(X):\n",
        "  if X[col].dtype == 'object':\n",
        "    X[col] = label_encoder.fit_transform(np.array(X[col].astype(str)).reshape((-1,)))\n",
        "    mapping.append(dict(zip(label_encoder.classes_,range(1, len(label_encoder.classes_)+1))))\n",
        "\n",
        "X.head()"
      ],
      "execution_count": null,
      "outputs": [
        {
          "output_type": "execute_result",
          "data": {
            "text/html": [
              "<div>\n",
              "<style scoped>\n",
              "    .dataframe tbody tr th:only-of-type {\n",
              "        vertical-align: middle;\n",
              "    }\n",
              "\n",
              "    .dataframe tbody tr th {\n",
              "        vertical-align: top;\n",
              "    }\n",
              "\n",
              "    .dataframe thead th {\n",
              "        text-align: right;\n",
              "    }\n",
              "</style>\n",
              "<table border=\"1\" class=\"dataframe\">\n",
              "  <thead>\n",
              "    <tr style=\"text-align: right;\">\n",
              "      <th></th>\n",
              "      <th>age</th>\n",
              "      <th>marital</th>\n",
              "      <th>education</th>\n",
              "      <th>default</th>\n",
              "      <th>balance</th>\n",
              "      <th>housing</th>\n",
              "      <th>loan</th>\n",
              "      <th>contact</th>\n",
              "      <th>day</th>\n",
              "      <th>month</th>\n",
              "      <th>duration</th>\n",
              "      <th>campaign</th>\n",
              "      <th>pdays</th>\n",
              "      <th>previous</th>\n",
              "      <th>poutcome</th>\n",
              "      <th>admin.</th>\n",
              "      <th>blue-collar</th>\n",
              "      <th>entrepreneur</th>\n",
              "      <th>housemaid</th>\n",
              "      <th>management</th>\n",
              "      <th>retired</th>\n",
              "      <th>self-employed</th>\n",
              "      <th>services</th>\n",
              "      <th>student</th>\n",
              "      <th>technician</th>\n",
              "      <th>unemployed</th>\n",
              "      <th>unknown</th>\n",
              "    </tr>\n",
              "  </thead>\n",
              "  <tbody>\n",
              "    <tr>\n",
              "      <th>0</th>\n",
              "      <td>58</td>\n",
              "      <td>1</td>\n",
              "      <td>2</td>\n",
              "      <td>0</td>\n",
              "      <td>2143</td>\n",
              "      <td>1</td>\n",
              "      <td>0</td>\n",
              "      <td>2</td>\n",
              "      <td>5</td>\n",
              "      <td>4</td>\n",
              "      <td>261</td>\n",
              "      <td>1</td>\n",
              "      <td>-1</td>\n",
              "      <td>0</td>\n",
              "      <td>3</td>\n",
              "      <td>0</td>\n",
              "      <td>0</td>\n",
              "      <td>0</td>\n",
              "      <td>0</td>\n",
              "      <td>1</td>\n",
              "      <td>0</td>\n",
              "      <td>0</td>\n",
              "      <td>0</td>\n",
              "      <td>0</td>\n",
              "      <td>0</td>\n",
              "      <td>0</td>\n",
              "      <td>0</td>\n",
              "    </tr>\n",
              "    <tr>\n",
              "      <th>1</th>\n",
              "      <td>44</td>\n",
              "      <td>2</td>\n",
              "      <td>1</td>\n",
              "      <td>0</td>\n",
              "      <td>29</td>\n",
              "      <td>1</td>\n",
              "      <td>0</td>\n",
              "      <td>2</td>\n",
              "      <td>5</td>\n",
              "      <td>4</td>\n",
              "      <td>151</td>\n",
              "      <td>1</td>\n",
              "      <td>-1</td>\n",
              "      <td>0</td>\n",
              "      <td>3</td>\n",
              "      <td>0</td>\n",
              "      <td>0</td>\n",
              "      <td>0</td>\n",
              "      <td>0</td>\n",
              "      <td>0</td>\n",
              "      <td>0</td>\n",
              "      <td>0</td>\n",
              "      <td>0</td>\n",
              "      <td>0</td>\n",
              "      <td>1</td>\n",
              "      <td>0</td>\n",
              "      <td>0</td>\n",
              "    </tr>\n",
              "    <tr>\n",
              "      <th>2</th>\n",
              "      <td>33</td>\n",
              "      <td>1</td>\n",
              "      <td>1</td>\n",
              "      <td>0</td>\n",
              "      <td>2</td>\n",
              "      <td>1</td>\n",
              "      <td>1</td>\n",
              "      <td>2</td>\n",
              "      <td>5</td>\n",
              "      <td>4</td>\n",
              "      <td>76</td>\n",
              "      <td>1</td>\n",
              "      <td>-1</td>\n",
              "      <td>0</td>\n",
              "      <td>3</td>\n",
              "      <td>0</td>\n",
              "      <td>0</td>\n",
              "      <td>1</td>\n",
              "      <td>0</td>\n",
              "      <td>0</td>\n",
              "      <td>0</td>\n",
              "      <td>0</td>\n",
              "      <td>0</td>\n",
              "      <td>0</td>\n",
              "      <td>0</td>\n",
              "      <td>0</td>\n",
              "      <td>0</td>\n",
              "    </tr>\n",
              "    <tr>\n",
              "      <th>3</th>\n",
              "      <td>47</td>\n",
              "      <td>1</td>\n",
              "      <td>3</td>\n",
              "      <td>0</td>\n",
              "      <td>1506</td>\n",
              "      <td>1</td>\n",
              "      <td>0</td>\n",
              "      <td>2</td>\n",
              "      <td>5</td>\n",
              "      <td>4</td>\n",
              "      <td>92</td>\n",
              "      <td>1</td>\n",
              "      <td>-1</td>\n",
              "      <td>0</td>\n",
              "      <td>3</td>\n",
              "      <td>0</td>\n",
              "      <td>1</td>\n",
              "      <td>0</td>\n",
              "      <td>0</td>\n",
              "      <td>0</td>\n",
              "      <td>0</td>\n",
              "      <td>0</td>\n",
              "      <td>0</td>\n",
              "      <td>0</td>\n",
              "      <td>0</td>\n",
              "      <td>0</td>\n",
              "      <td>0</td>\n",
              "    </tr>\n",
              "    <tr>\n",
              "      <th>4</th>\n",
              "      <td>33</td>\n",
              "      <td>2</td>\n",
              "      <td>3</td>\n",
              "      <td>0</td>\n",
              "      <td>1</td>\n",
              "      <td>0</td>\n",
              "      <td>0</td>\n",
              "      <td>2</td>\n",
              "      <td>5</td>\n",
              "      <td>4</td>\n",
              "      <td>198</td>\n",
              "      <td>1</td>\n",
              "      <td>-1</td>\n",
              "      <td>0</td>\n",
              "      <td>3</td>\n",
              "      <td>0</td>\n",
              "      <td>0</td>\n",
              "      <td>0</td>\n",
              "      <td>0</td>\n",
              "      <td>0</td>\n",
              "      <td>0</td>\n",
              "      <td>0</td>\n",
              "      <td>0</td>\n",
              "      <td>0</td>\n",
              "      <td>0</td>\n",
              "      <td>0</td>\n",
              "      <td>1</td>\n",
              "    </tr>\n",
              "  </tbody>\n",
              "</table>\n",
              "</div>"
            ],
            "text/plain": [
              "   age  marital  education  default  ...  student  technician  unemployed  unknown\n",
              "0   58        1          2        0  ...        0           0           0        0\n",
              "1   44        2          1        0  ...        0           1           0        0\n",
              "2   33        1          1        0  ...        0           0           0        0\n",
              "3   47        1          3        0  ...        0           0           0        0\n",
              "4   33        2          3        0  ...        0           0           0        1\n",
              "\n",
              "[5 rows x 27 columns]"
            ]
          },
          "metadata": {
            "tags": []
          },
          "execution_count": 6
        }
      ]
    },
    {
      "cell_type": "markdown",
      "metadata": {
        "id": "cvCgVKbWSxc0",
        "colab_type": "text"
      },
      "source": [
        "Pronto, aqui já alteramos as variáveis categóricas, agora iremos utilizar o método Ensemble, que consiste basicamente em combinar as previsões de diversos modelos, sendo que a previsão final é aquela que ocorre com maior frequência.\n",
        "\n",
        "A ideia por trás do Ensemble é combinar conceitualmente diferentes modelos classificadores de machine learning e utilizar o comitê de votação ou a médias das probabilidades de previsões para predizer qual será o resultado final em função das diversas variáveis dos nossos dados.\n",
        "\n",
        "Tal classificador pode ser útil para um conjunto de modelos de desempenho igualmente bom, a fim de equilibrar suas fraquezas individuais"
      ]
    },
    {
      "cell_type": "markdown",
      "metadata": {
        "id": "aypkWxxWWa8s",
        "colab_type": "text"
      },
      "source": [
        "## Ensemble\n",
        "\n",
        "Você entenderá a importância do método de `Ensemble` ao entrar no [universo do Machine Learning](https://sigmoidal.ai/como-salvar-seu-modelo-de-machine-learning/) e ficar perdido com a quantidade de modelos diferentes que temos a disposição. Temos regressão linear, polinomial e logística, gradiente descendente, [XGBoost](https://sigmoidal.ai/xgboost-aprenda-algoritmo-de-machine-learning-em-python/), máquina de vetores de suporte, naive bayes, árvores de decisão, Random Forest, entre outros.\n",
        "\n",
        "Observe abaixo o resultado do classificador de votação para os diferentes modelos. No caso, o VotingClassifier fez a combinação dos modelos.\n",
        "\n",
        "A documentação original sobre a metodologia pode ser consultada neste [link](https://scikit-learn.org/stable/modules/generated/sklearn.ensemble.VotingClassifier.html).\n"
      ]
    },
    {
      "cell_type": "markdown",
      "metadata": {
        "id": "02FUAij7t4in",
        "colab_type": "text"
      },
      "source": [
        "### Modelos Utilizados na avaliação\n",
        "\n",
        "Como dito anteriorente o método `ensemble` nos permite utilizar diversos modelos em paralelo e extrair o resultado através de um comitê.\n",
        "\n"
      ]
    },
    {
      "cell_type": "markdown",
      "metadata": {
        "id": "qJnx0Af9uOHj",
        "colab_type": "text"
      },
      "source": [
        "#### XGBoost Classifier\n",
        "\n",
        "Criado em 1999 por TIANQI CHEN a técnica é utilizada em modelos preditivos com dados regulares.\n",
        "\n",
        "Pertencente a categória de árvores de decisão, sendo capaz de combinar resultados de diversos classificadores \"fracos\" (baixa correlação) mediante um comitê de decisão.\n",
        "\n",
        "O nome XGBoost vem de e**X**treme **G**radient **Boost**ing!\n",
        "\n",
        "<p align=center><img src=\"http://sigmoidal.ai/wp-content/uploads/2019/08/boosted_stumps.gif\" width=\"30%\"></p>\n",
        "\n",
        "O XGBoost trabalha a partir de árvores individuais criadas utilizando múltpiplos cores e os dados são organizados de forma a minimizar o tempo de consulta entre os ramos.\n"
      ]
    },
    {
      "cell_type": "markdown",
      "metadata": {
        "id": "e6hYRbQgu-Ts",
        "colab_type": "text"
      },
      "source": [
        "####SGD Classifier\n",
        "\n",
        "Classificadores lineares (SVM, regressão logística, etc.) com treinamento SGD.\n",
        "\n",
        "Este estimador implementa modelos lineares regularizados com aprendizagem de gradiente descendente estocástico (SGD): o gradiente da perda é estimado a cada amostra por vez e o modelo é atualizado ao longo do caminho com um cronograma de força decrescente (também conhecido como taxa de aprendizagem).\n",
        "\n",
        "<center><img alt=\"SGDC\" width=\"30%\" src=\"https://miro.medium.com/max/710/1*Sa5kGcZIVNTLjrI8P-YsSQ.gif\"></center>\n",
        "\n",
        "[documentação oficial](https://scikit-learn.org/stable/modules/generated/sklearn.linear_model.SGDClassifier.html?highlight=sgdclassifier#sklearn.linear_model.SGDClassifier)"
      ]
    },
    {
      "cell_type": "markdown",
      "metadata": {
        "id": "wdNxJPpvxjaS",
        "colab_type": "text"
      },
      "source": [
        "#### Decision Tree Classifier\n",
        "\n",
        "Decision Tree, ou Árvore de Decisão em português, é um algoritmo de aprendizado supervisionado para Machine Learning, e pode ser usado tanto para classificação quanto para regressão.\n",
        "\n",
        "Uma Decision Tree é construída a partir de um processo de indução, que vai dividindo os dados em subconjuntos cada vez mais puros. Para selecionar os atributos que irão compor a árvore, são considerados o grau de entropia de um nó e a informação ganha a mais após um split.\n",
        "\n",
        "<center><img alt=\"DecisionTree\" width=\"50%\" src=\"https://projetos.unisanta.br/computacao/gradu06/ShellSE/arvore.JPG\"></center>"
      ]
    },
    {
      "cell_type": "markdown",
      "metadata": {
        "id": "urdbJ1YLv5M0",
        "colab_type": "text"
      },
      "source": [
        "#### SVC - Support Vector Classifier\n",
        "\n",
        "Um dos modelos de SVM - Support Vector Machines. É um modelo de algoritmo de aprendizado profundo (deep learing) que realiza aprendizado supervisionado para classificação ou regressão de grupos de dados."
      ]
    },
    {
      "cell_type": "markdown",
      "metadata": {
        "id": "0kalJWjczfKx",
        "colab_type": "text"
      },
      "source": [
        "### Executando previsões\n",
        "\n",
        "Agora que sabemos um pouco sobre cada modelo vamos executá-los e utilizar o `Ensemble` para verificar os resultados."
      ]
    },
    {
      "cell_type": "code",
      "metadata": {
        "id": "7TI7v5SYSwuD",
        "colab_type": "code",
        "colab": {}
      },
      "source": [
        "# importar os pacotes necessários\n",
        "import pandas as pd\n",
        "from sklearn.model_selection import train_test_split\n",
        "from sklearn.metrics import accuracy_score\n",
        "from sklearn.model_selection import cross_val_score\n",
        "from sklearn.preprocessing import StandardScaler, MinMaxScaler\n"
      ],
      "execution_count": null,
      "outputs": []
    },
    {
      "cell_type": "code",
      "metadata": {
        "id": "ucZeQ5V2TTR4",
        "colab_type": "code",
        "colab": {
          "base_uri": "https://localhost:8080/",
          "height": 198
        },
        "outputId": "9a020829-8cb9-454d-81e2-65d047014d44"
      },
      "source": [
        "#np.random.seed(2)\n",
        "\n",
        "# 1. escolher e importar um modelo\n",
        "from sklearn.linear_model import SGDClassifier\n",
        "from xgboost import XGBClassifier\n",
        "from sklearn.svm import SVC\n",
        "from sklearn.tree import DecisionTreeClassifier\n",
        "from sklearn.ensemble import VotingClassifier\n",
        "\n",
        "# 2. Instanciar e escolher os hyperparameters\n",
        "model_xgbc = XGBClassifier()\n",
        "model_sgd = SGDClassifier()\n",
        "model_svc = SVC()\n",
        "model_dt = DecisionTreeClassifier()\n",
        "voting_clf = VotingClassifier(estimators=[('xgbc', model_xgbc), ('sgd', model_sgd),('svc', model_svc),('dt', model_dt)])\n",
        "\n",
        "# 3. Separar os dados entre feature matrix e target vector \n",
        "# os dados já foram separados anteiormente\n",
        "\n",
        "# 3.1 Dividir o dataset entre treino e teste\n",
        "X_train, X_test, y_train, y_test = train_test_split(X, y, random_state=42)\n",
        "\n",
        "# 3.2 Padronizar os dados\n",
        "scaler = StandardScaler()\n",
        "X_train_scaled = scaler.fit_transform(X_train)\n",
        "X_test_scaled = scaler.transform(X_test)\n",
        "\n",
        "# 4. Fit do modelo (treinar)\n",
        "for model in (model_xgbc, model_sgd, model_svc, model_dt, voting_clf):\n",
        "    model.fit(X_train_scaled, y_train)\n",
        "\n",
        "# 5. Fazer previsões em cima de novos dados\n",
        "model = []\n",
        "accuracy = []\n",
        "for clf in (model_xgbc, model_sgd, model_svc, model_dt, voting_clf):\n",
        "    y_pred = clf.predict(X_test_scaled)\n",
        "    model.append(clf.__class__.__name__)\n",
        "    accuracy.append(accuracy_score(y_test,y_pred))\n",
        "\n",
        "# Verificar a acurácia\n",
        "col = ['Acurácia']\n",
        "ac = pd.DataFrame(data=accuracy, index = model, columns=col)\n",
        "ac"
      ],
      "execution_count": 46,
      "outputs": [
        {
          "output_type": "execute_result",
          "data": {
            "text/html": [
              "<div>\n",
              "<style scoped>\n",
              "    .dataframe tbody tr th:only-of-type {\n",
              "        vertical-align: middle;\n",
              "    }\n",
              "\n",
              "    .dataframe tbody tr th {\n",
              "        vertical-align: top;\n",
              "    }\n",
              "\n",
              "    .dataframe thead th {\n",
              "        text-align: right;\n",
              "    }\n",
              "</style>\n",
              "<table border=\"1\" class=\"dataframe\">\n",
              "  <thead>\n",
              "    <tr style=\"text-align: right;\">\n",
              "      <th></th>\n",
              "      <th>Acurácia</th>\n",
              "    </tr>\n",
              "  </thead>\n",
              "  <tbody>\n",
              "    <tr>\n",
              "      <th>XGBClassifier</th>\n",
              "      <td>0.901088</td>\n",
              "    </tr>\n",
              "    <tr>\n",
              "      <th>SGDClassifier</th>\n",
              "      <td>0.887464</td>\n",
              "    </tr>\n",
              "    <tr>\n",
              "      <th>SVC</th>\n",
              "      <td>0.895161</td>\n",
              "    </tr>\n",
              "    <tr>\n",
              "      <th>DecisionTreeClassifier</th>\n",
              "      <td>0.875697</td>\n",
              "    </tr>\n",
              "    <tr>\n",
              "      <th>VotingClassifier</th>\n",
              "      <td>0.893745</td>\n",
              "    </tr>\n",
              "  </tbody>\n",
              "</table>\n",
              "</div>"
            ],
            "text/plain": [
              "                        Acurácia\n",
              "XGBClassifier           0.901088\n",
              "SGDClassifier           0.887464\n",
              "SVC                     0.895161\n",
              "DecisionTreeClassifier  0.875697\n",
              "VotingClassifier        0.893745"
            ]
          },
          "metadata": {
            "tags": []
          },
          "execution_count": 46
        }
      ]
    },
    {
      "cell_type": "markdown",
      "metadata": {
        "id": "b6KOU_UX1lUI",
        "colab_type": "text"
      },
      "source": [
        "### Métricas de avaliação"
      ]
    },
    {
      "cell_type": "code",
      "metadata": {
        "id": "UDY9bvpU1DhV",
        "colab_type": "code",
        "colab": {
          "base_uri": "https://localhost:8080/",
          "height": 181
        },
        "outputId": "3a7e0aa3-d359-48d5-992c-11e76049cd6c"
      },
      "source": [
        "from sklearn import metrics\n",
        "report = metrics.classification_report(y_test,y_pred)\n",
        "print(report)"
      ],
      "execution_count": 49,
      "outputs": [
        {
          "output_type": "stream",
          "text": [
            "              precision    recall  f1-score   support\n",
            "\n",
            "           0       0.90      0.99      0.94      9950\n",
            "           1       0.71      0.19      0.30      1353\n",
            "\n",
            "    accuracy                           0.89     11303\n",
            "   macro avg       0.81      0.59      0.62     11303\n",
            "weighted avg       0.88      0.89      0.87     11303\n",
            "\n"
          ],
          "name": "stdout"
        }
      ]
    },
    {
      "cell_type": "markdown",
      "metadata": {
        "id": "Rw_rRYSy1uIi",
        "colab_type": "text"
      },
      "source": [
        "Do report anterior podemos verificar que o nosso modelo acertou 90% das previsões onde a resposta a campanha de marketing foi negativa e acertou 71% das vezes onde foi positiva.\n",
        "\n",
        "Para saber mais sobre as métricas de classificação e avaliação de modelos pode acessar [meu post](https://mabittar.github.io/Metricas/) sobre o assunto."
      ]
    },
    {
      "cell_type": "markdown",
      "metadata": {
        "id": "mZFGtfF0UA30",
        "colab_type": "text"
      },
      "source": [
        "#Conclusão\n",
        "\n",
        "No nosso modelos em questão, a Acurácia nos mostra que 89% das vezes em que o modelo previu que sim ou não estava correto. \n",
        "\n",
        "\n",
        "Mesmo cometendo erros, o classificador geralmente consegue performar melhor do que os estimadores individualmente. De acordo com Aurélien Géron:,\n",
        "\n",
        "<center>Mesmo que cada estimador seja um aprendiz fraco (o que significa que sua classificação é apenas um pouco melhor do que adivinhações aleatórias), o conjunto ainda pode ser um forte aprendiz (alcançando alta acurácia).</center>\n",
        "\n",
        "\n",
        "Para o nosso exemplo, o modelo XGBoost é o que performa melhor entre os modelos individuais, mas ainda assim é uma performance próxima ao classificador de votação."
      ]
    },
    {
      "cell_type": "markdown",
      "metadata": {
        "id": "0z3mJXpEn2IF",
        "colab_type": "text"
      },
      "source": [
        "# Bonus\n",
        "\n",
        "Podemos ainda utilizar ainda outro recurso do Scikit-Learn e verificar como os resultados se compararam"
      ]
    },
    {
      "cell_type": "markdown",
      "metadata": {
        "id": "8b6pzAe_W8_o",
        "colab_type": "text"
      },
      "source": [
        "## Utilizaçã do KFold para Validação Cruzada\n",
        "\n",
        "Ao invés de utilizarmos o `train,test,split` iremos utilizar o KFold que irá subdividir o dataset em diversas partes randomicas a fim de evitarmos um possível outlier que contamine nossa avaliação.\n"
      ]
    },
    {
      "cell_type": "code",
      "metadata": {
        "id": "qmWOb764ZJZy",
        "colab_type": "code",
        "colab": {}
      },
      "source": [
        "X_Falso = [0, 1, 2, 3, 4, 5, 6, 7, 8, 9]"
      ],
      "execution_count": null,
      "outputs": []
    },
    {
      "cell_type": "code",
      "metadata": {
        "id": "xYsqW22iZzsG",
        "colab_type": "code",
        "colab": {}
      },
      "source": [
        "from sklearn.model_selection import KFold"
      ],
      "execution_count": null,
      "outputs": []
    },
    {
      "cell_type": "code",
      "metadata": {
        "id": "rXPCOpWgUZWN",
        "colab_type": "code",
        "colab": {
          "base_uri": "https://localhost:8080/",
          "height": 1000
        },
        "outputId": "6c3c6348-4e88-422b-d423-747a725c8f12"
      },
      "source": [
        "resultado = []\n",
        "\n",
        "for rep in range(10):\n",
        "\n",
        "  kf = KFold(2, shuffle=True, random_state=rep)\n",
        "  print(\"rep:\", rep)\n",
        "  # 2. Instanciar e escolher os hyperparameters\n",
        "  model_sgd = SGDClassifier()\n",
        "  model_svc = SVC()\n",
        "  model_dt = DecisionTreeClassifier()\n",
        "  voting_clf = VotingClassifier(estimators=[('sgd', model_sgd),('svc', model_svc),('dt', model_dt)])\n",
        "\n",
        "\n",
        "  # 3. Divisão dos dados - para gerarmos diversas divisões diferentes inserimos o a função dentro de um for\n",
        "  for linhas_treino, linhas_teste in kf.split(X):\n",
        "    print(\"Treino:\", linhas_treino.shape[0])\n",
        "    print(\"Teste:\", linhas_teste.shape[0])\n",
        "\n",
        "    #é necessário selecionar manualmente as linhas para teste e treino\n",
        "    X_train_kf,X_test_kf = X.iloc[linhas_treino], X.iloc[linhas_teste]\n",
        "    y_train_kf, y_test_kf = y.iloc[linhas_treino], y.iloc[linhas_teste]\n",
        "    # print(X_train_kf) #apenas para fins didático é possível imprimir as linhas\n",
        "\n",
        "    # 3.2 Padronizar os dados\n",
        "    scaler = StandardScaler()\n",
        "    X_train_scaled_kf = scaler.fit_transform(X_train_kf)\n",
        "    X_test_scaled_kf = scaler.transform(X_test_kf)\n",
        "\n",
        "    #4. Instanciando o modelo\n",
        "    model = SVC()\n",
        "    model.fit(X_train_scaled_kf, y_train_kf)\n",
        "    #5. Previsões\n",
        "    y_pred_kf = model.predict(X_test_scaled_kf)\n",
        "    #6. Armazendo resultados\n",
        "    acc = np.mean(y_test_kf == y_pred_kf)\n",
        "    resultado.append(acc)\n",
        "    print(\"Acuracia:\", acc)\n",
        "    print()\n",
        "\n"
      ],
      "execution_count": null,
      "outputs": [
        {
          "output_type": "stream",
          "text": [
            "rep: 0\n",
            "Treino: 30140\n",
            "Teste: 15071\n",
            "Acuracia: 0.895229248225068\n",
            "\n",
            "Treino: 30141\n",
            "Teste: 15070\n",
            "Acuracia: 0.8998672859986728\n",
            "\n",
            "Treino: 30141\n",
            "Teste: 15070\n",
            "Acuracia: 0.8965494359654944\n",
            "\n",
            "rep: 1\n",
            "Treino: 30140\n",
            "Teste: 15071\n",
            "Acuracia: 0.9006701612368124\n",
            "\n",
            "Treino: 30141\n",
            "Teste: 15070\n",
            "Acuracia: 0.8975447909754479\n",
            "\n",
            "Treino: 30141\n",
            "Teste: 15070\n",
            "Acuracia: 0.8954877239548772\n",
            "\n",
            "rep: 2\n",
            "Treino: 30140\n",
            "Teste: 15071\n",
            "Acuracia: 0.9001393404551788\n",
            "\n",
            "Treino: 30141\n",
            "Teste: 15070\n",
            "Acuracia: 0.8978102189781022\n",
            "\n",
            "Treino: 30141\n",
            "Teste: 15070\n",
            "Acuracia: 0.8959522229595223\n",
            "\n",
            "rep: 3\n",
            "Treino: 30140\n",
            "Teste: 15071\n",
            "Acuracia: 0.8973525313516024\n",
            "\n",
            "Treino: 30141\n",
            "Teste: 15070\n",
            "Acuracia: 0.9013271400132714\n",
            "\n",
            "Treino: 30141\n",
            "Teste: 15070\n",
            "Acuracia: 0.8939615129396151\n",
            "\n",
            "rep: 4\n",
            "Treino: 30140\n",
            "Teste: 15071\n",
            "Acuracia: 0.9004047508459956\n",
            "\n",
            "Treino: 30141\n",
            "Teste: 15070\n",
            "Acuracia: 0.8964167219641672\n",
            "\n",
            "Treino: 30141\n",
            "Teste: 15070\n",
            "Acuracia: 0.8952222959522229\n",
            "\n",
            "rep: 5\n",
            "Treino: 30140\n",
            "Teste: 15071\n",
            "Acuracia: 0.8979497047309403\n",
            "\n",
            "Treino: 30141\n",
            "Teste: 15070\n",
            "Acuracia: 0.8975447909754479\n",
            "\n",
            "Treino: 30141\n",
            "Teste: 15070\n",
            "Acuracia: 0.8978765759787658\n",
            "\n",
            "rep: 6\n",
            "Treino: 30140\n",
            "Teste: 15071\n",
            "Acuracia: 0.895561011213589\n",
            "\n",
            "Treino: 30141\n",
            "Teste: 15070\n",
            "Acuracia: 0.8982083609820836\n",
            "\n",
            "Treino: 30141\n",
            "Teste: 15070\n",
            "Acuracia: 0.9001327140013271\n",
            "\n",
            "rep: 7\n",
            "Treino: 30140\n",
            "Teste: 15071\n",
            "Acuracia: 0.8994094618804326\n",
            "\n",
            "Treino: 30141\n",
            "Teste: 15070\n",
            "Acuracia: 0.8921698739216988\n",
            "\n",
            "Treino: 30141\n",
            "Teste: 15070\n",
            "Acuracia: 0.8996018579960186\n",
            "\n",
            "rep: 8\n",
            "Treino: 30140\n",
            "Teste: 15071\n",
            "Acuracia: 0.894233959259505\n",
            "\n",
            "Treino: 30141\n",
            "Teste: 15070\n",
            "Acuracia: 0.8998672859986728\n",
            "\n",
            "Treino: 30141\n",
            "Teste: 15070\n",
            "Acuracia: 0.89907100199071\n",
            "\n",
            "rep: 9\n",
            "Treino: 30140\n",
            "Teste: 15071\n",
            "Acuracia: 0.8990776988919116\n",
            "\n",
            "Treino: 30141\n",
            "Teste: 15070\n",
            "Acuracia: 0.8990046449900464\n",
            "\n",
            "Treino: 30141\n",
            "Teste: 15070\n",
            "Acuracia: 0.8950895819508958\n",
            "\n"
          ],
          "name": "stdout"
        }
      ]
    },
    {
      "cell_type": "markdown",
      "metadata": {
        "id": "VQ27ezQSkXUN",
        "colab_type": "text"
      },
      "source": [
        "Após realizarmos diversas iterações com o nosso dataset (número de reps) podemos obter a acurácia média pela fórmula:"
      ]
    },
    {
      "cell_type": "code",
      "metadata": {
        "id": "ReDwQjAbYl6g",
        "colab_type": "code",
        "colab": {
          "base_uri": "https://localhost:8080/",
          "height": 35
        },
        "outputId": "a598b67e-f1df-4133-e45f-26bca6eb2251"
      },
      "source": [
        "np.mean(resultado)"
      ],
      "execution_count": null,
      "outputs": [
        {
          "output_type": "execute_result",
          "data": {
            "text/plain": [
              "0.8976244635526032"
            ]
          },
          "metadata": {
            "tags": []
          },
          "execution_count": 36
        }
      ]
    },
    {
      "cell_type": "markdown",
      "metadata": {
        "id": "sEnq8JEgnt5f",
        "colab_type": "text"
      },
      "source": [
        "## Comparação entre os resultados"
      ]
    },
    {
      "cell_type": "code",
      "metadata": {
        "id": "-iNF6eUUnyCg",
        "colab_type": "code",
        "colab": {
          "base_uri": "https://localhost:8080/",
          "height": 181
        },
        "outputId": "66b9ce76-d4ba-4c59-b931-f15842ef7e18"
      },
      "source": [
        "print(\"Resultado inicial:\")\n",
        "print (ac)\n",
        "print(\"\\nResultado utilizando o KFold:\\t\", np.mean(resultado))\n"
      ],
      "execution_count": 47,
      "outputs": [
        {
          "output_type": "stream",
          "text": [
            "Resultado inicial:\n",
            "                        Acurácia\n",
            "XGBClassifier           0.901088\n",
            "SGDClassifier           0.887464\n",
            "SVC                     0.895161\n",
            "DecisionTreeClassifier  0.875697\n",
            "VotingClassifier        0.893745\n",
            "\n",
            "Resultado utilizando o KFold:\t 0.8938172195954411\n"
          ],
          "name": "stdout"
        }
      ]
    },
    {
      "cell_type": "markdown",
      "metadata": {
        "id": "yur3t8cQ0bQ2",
        "colab_type": "text"
      },
      "source": [
        "Mesmo alterando de forma aleatória nossas amostras de teste e treinamento o modelo prditivo não se alterou.\n"
      ]
    },
    {
      "cell_type": "code",
      "metadata": {
        "id": "OmQ7OH3y0p0y",
        "colab_type": "code",
        "colab": {}
      },
      "source": [
        ""
      ],
      "execution_count": null,
      "outputs": []
    }
  ]
}