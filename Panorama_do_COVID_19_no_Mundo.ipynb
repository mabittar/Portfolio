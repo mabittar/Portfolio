{
  "nbformat": 4,
  "nbformat_minor": 0,
  "metadata": {
    "colab": {
      "name": "Panorama do COVID-19 no Mundo.ipynb",
      "provenance": [],
      "collapsed_sections": [],
      "include_colab_link": true
    },
    "kernelspec": {
      "name": "python3",
      "display_name": "Python 3"
    }
  },
  "cells": [
    {
      "cell_type": "markdown",
      "metadata": {
        "id": "view-in-github",
        "colab_type": "text"
      },
      "source": [
        "<a href=\"https://colab.research.google.com/github/mabittar/Portfolio/blob/master/Panorama_do_COVID_19_no_Mundo.ipynb\" target=\"_parent\"><img src=\"https://colab.research.google.com/assets/colab-badge.svg\" alt=\"Open In Colab\"/></a>"
      ]
    },
    {
      "cell_type": "markdown",
      "metadata": {
        "id": "kLI0gJtzDGuQ",
        "colab_type": "text"
      },
      "source": [
        "# Panorama do COVID-19\n",
        "\n",
        "A pandemia de Covid-19, causada pelo vírus SARS-CoV-2 ou Novo Coronavírus, vem produzindo repercussões em escala global, com impactos sociais, econômicos, políticos e culturais sem precedentes na história recente das epidemias.\n",
        "\n",
        "<center><img alt=\"Colaboratory logo\" width=\"50%\" src=\"https://spectrum.ieee.org/image/MzU5MzU1Nw.jpeg\"></center>\n",
        "\n",
        "Nesse notebook pretendo criar um passo a passo de como utilizar um dataset com os dados de acompanhamento do site [World in Data](https://ourworldindata.org/) para explorar a evolução da pandemia pelo mundo."
      ]
    },
    {
      "cell_type": "markdown",
      "metadata": {
        "id": "0zxQHhIUDF_2",
        "colab_type": "text"
      },
      "source": [
        "## Obtenção dos Dados\n",
        "\n",
        "Os dados são atualizados diariamente e incluem os casos confirmados, mortes, testes e outras variáveis de potencial interesse.\n",
        "\n",
        "O repositório do GitHub do World in Data para os casos de Covid-19 pode ser acessado em: https://github.com/owid/covid-19-data/tree/master/public/data\n",
        "\n",
        "\n",
        "\n",
        "### Importando os dados do COVID-19\n",
        "\n",
        "* Você pode entrar no site [https://github.com/owid/covid-19-data/tree/master/public/data](https://github.com/owid/covid-19-data/tree/master/public/data) para conhecer a base dados. \n",
        "\n",
        "Usaremos o formato `csv` neste projeto.\n",
        "\n"
      ]
    },
    {
      "cell_type": "code",
      "metadata": {
        "id": "lOtEJxe0DMEb",
        "colab_type": "code",
        "colab": {}
      },
      "source": [
        "# importar as bibliotecas necessárias\n",
        "import pandas as pd\n",
        "import matplotlib\n",
        "import numpy as np\n",
        "import matplotlib.pyplot as plt\n",
        "import seaborn as sns\n",
        "import pandas.util.testing as tm\n",
        "\n",
        "from datetime import datetime, date\n",
        "sns.set()\n",
        "\n",
        "# importar o dataset COVID-19 para um DataFrame\n",
        "data_path = 'https://github.com/owid/covid-19-data/blob/master/public/data/owid-covid-data.csv?raw=true'\n",
        "df= pd.read_csv(data_path)"
      ],
      "execution_count": 31,
      "outputs": []
    },
    {
      "cell_type": "markdown",
      "metadata": {
        "id": "qb5By2nIMS6m",
        "colab_type": "text"
      },
      "source": [
        "## Análise Exploratória dos Dados\n",
        "\n",
        "  Câmeras com inteligência artificial são capazes de identificar doenças de pele, programas estão sendo usados para análises laboratóriais auxiliando médicos e pacientes no tratamento das mais diversas doenças. Esses novos recursos permitem intervenções eficientes e eficazes.\n",
        "\n",
        "  Essas novas ferramentas têm um ponto em comum ` a ciência de dados`.\n",
        "\n",
        "  Cada vez mais dados das vitais, consultas médicas, exames laboratóriais são utilizados de forma sistemática. A partir da utilização desses dados a medicina vem ganhando novos capítulos, a ciência de dados está auxilando em tratamentos e diagnósticos. \n",
        "\n"
      ]
    },
    {
      "cell_type": "markdown",
      "metadata": {
        "id": "vINLHE5GW5wp",
        "colab_type": "text"
      },
      "source": [
        "Para o nosso projeto, primeiramente vamos entender os dados que nos são apresentados.\n",
        "\n",
        "### Análise Exploratória Inicial"
      ]
    },
    {
      "cell_type": "markdown",
      "metadata": {
        "id": "Q_zsQlDTXH5I",
        "colab_type": "text"
      },
      "source": [
        "####Identificando o Dataset"
      ]
    },
    {
      "cell_type": "code",
      "metadata": {
        "id": "AoRoC3pDVFP5",
        "colab_type": "code",
        "colab": {
          "base_uri": "https://localhost:8080/",
          "height": 305
        },
        "outputId": "0e165b18-93cf-4c02-d121-40478fc31319"
      },
      "source": [
        "#Vamos ver as 5 primeiras linhas do nossos dados\n",
        "df.head()"
      ],
      "execution_count": 32,
      "outputs": [
        {
          "output_type": "execute_result",
          "data": {
            "text/html": [
              "<div>\n",
              "<style scoped>\n",
              "    .dataframe tbody tr th:only-of-type {\n",
              "        vertical-align: middle;\n",
              "    }\n",
              "\n",
              "    .dataframe tbody tr th {\n",
              "        vertical-align: top;\n",
              "    }\n",
              "\n",
              "    .dataframe thead th {\n",
              "        text-align: right;\n",
              "    }\n",
              "</style>\n",
              "<table border=\"1\" class=\"dataframe\">\n",
              "  <thead>\n",
              "    <tr style=\"text-align: right;\">\n",
              "      <th></th>\n",
              "      <th>iso_code</th>\n",
              "      <th>continent</th>\n",
              "      <th>location</th>\n",
              "      <th>date</th>\n",
              "      <th>total_cases</th>\n",
              "      <th>new_cases</th>\n",
              "      <th>total_deaths</th>\n",
              "      <th>new_deaths</th>\n",
              "      <th>total_cases_per_million</th>\n",
              "      <th>new_cases_per_million</th>\n",
              "      <th>total_deaths_per_million</th>\n",
              "      <th>new_deaths_per_million</th>\n",
              "      <th>total_tests</th>\n",
              "      <th>new_tests</th>\n",
              "      <th>total_tests_per_thousand</th>\n",
              "      <th>new_tests_per_thousand</th>\n",
              "      <th>new_tests_smoothed</th>\n",
              "      <th>new_tests_smoothed_per_thousand</th>\n",
              "      <th>tests_units</th>\n",
              "      <th>stringency_index</th>\n",
              "      <th>population</th>\n",
              "      <th>population_density</th>\n",
              "      <th>median_age</th>\n",
              "      <th>aged_65_older</th>\n",
              "      <th>aged_70_older</th>\n",
              "      <th>gdp_per_capita</th>\n",
              "      <th>extreme_poverty</th>\n",
              "      <th>cvd_death_rate</th>\n",
              "      <th>diabetes_prevalence</th>\n",
              "      <th>female_smokers</th>\n",
              "      <th>male_smokers</th>\n",
              "      <th>handwashing_facilities</th>\n",
              "      <th>hospital_beds_per_thousand</th>\n",
              "      <th>life_expectancy</th>\n",
              "    </tr>\n",
              "  </thead>\n",
              "  <tbody>\n",
              "    <tr>\n",
              "      <th>0</th>\n",
              "      <td>AFG</td>\n",
              "      <td>Asia</td>\n",
              "      <td>Afghanistan</td>\n",
              "      <td>2019-12-31</td>\n",
              "      <td>0.0</td>\n",
              "      <td>0.0</td>\n",
              "      <td>0.0</td>\n",
              "      <td>0.0</td>\n",
              "      <td>0.0</td>\n",
              "      <td>0.0</td>\n",
              "      <td>0.0</td>\n",
              "      <td>0.0</td>\n",
              "      <td>NaN</td>\n",
              "      <td>NaN</td>\n",
              "      <td>NaN</td>\n",
              "      <td>NaN</td>\n",
              "      <td>NaN</td>\n",
              "      <td>NaN</td>\n",
              "      <td>NaN</td>\n",
              "      <td>NaN</td>\n",
              "      <td>38928341.0</td>\n",
              "      <td>54.422</td>\n",
              "      <td>18.6</td>\n",
              "      <td>2.581</td>\n",
              "      <td>1.337</td>\n",
              "      <td>1803.987</td>\n",
              "      <td>NaN</td>\n",
              "      <td>597.029</td>\n",
              "      <td>9.59</td>\n",
              "      <td>NaN</td>\n",
              "      <td>NaN</td>\n",
              "      <td>37.746</td>\n",
              "      <td>0.5</td>\n",
              "      <td>64.83</td>\n",
              "    </tr>\n",
              "    <tr>\n",
              "      <th>1</th>\n",
              "      <td>AFG</td>\n",
              "      <td>Asia</td>\n",
              "      <td>Afghanistan</td>\n",
              "      <td>2020-01-01</td>\n",
              "      <td>0.0</td>\n",
              "      <td>0.0</td>\n",
              "      <td>0.0</td>\n",
              "      <td>0.0</td>\n",
              "      <td>0.0</td>\n",
              "      <td>0.0</td>\n",
              "      <td>0.0</td>\n",
              "      <td>0.0</td>\n",
              "      <td>NaN</td>\n",
              "      <td>NaN</td>\n",
              "      <td>NaN</td>\n",
              "      <td>NaN</td>\n",
              "      <td>NaN</td>\n",
              "      <td>NaN</td>\n",
              "      <td>NaN</td>\n",
              "      <td>0.0</td>\n",
              "      <td>38928341.0</td>\n",
              "      <td>54.422</td>\n",
              "      <td>18.6</td>\n",
              "      <td>2.581</td>\n",
              "      <td>1.337</td>\n",
              "      <td>1803.987</td>\n",
              "      <td>NaN</td>\n",
              "      <td>597.029</td>\n",
              "      <td>9.59</td>\n",
              "      <td>NaN</td>\n",
              "      <td>NaN</td>\n",
              "      <td>37.746</td>\n",
              "      <td>0.5</td>\n",
              "      <td>64.83</td>\n",
              "    </tr>\n",
              "    <tr>\n",
              "      <th>2</th>\n",
              "      <td>AFG</td>\n",
              "      <td>Asia</td>\n",
              "      <td>Afghanistan</td>\n",
              "      <td>2020-01-02</td>\n",
              "      <td>0.0</td>\n",
              "      <td>0.0</td>\n",
              "      <td>0.0</td>\n",
              "      <td>0.0</td>\n",
              "      <td>0.0</td>\n",
              "      <td>0.0</td>\n",
              "      <td>0.0</td>\n",
              "      <td>0.0</td>\n",
              "      <td>NaN</td>\n",
              "      <td>NaN</td>\n",
              "      <td>NaN</td>\n",
              "      <td>NaN</td>\n",
              "      <td>NaN</td>\n",
              "      <td>NaN</td>\n",
              "      <td>NaN</td>\n",
              "      <td>0.0</td>\n",
              "      <td>38928341.0</td>\n",
              "      <td>54.422</td>\n",
              "      <td>18.6</td>\n",
              "      <td>2.581</td>\n",
              "      <td>1.337</td>\n",
              "      <td>1803.987</td>\n",
              "      <td>NaN</td>\n",
              "      <td>597.029</td>\n",
              "      <td>9.59</td>\n",
              "      <td>NaN</td>\n",
              "      <td>NaN</td>\n",
              "      <td>37.746</td>\n",
              "      <td>0.5</td>\n",
              "      <td>64.83</td>\n",
              "    </tr>\n",
              "    <tr>\n",
              "      <th>3</th>\n",
              "      <td>AFG</td>\n",
              "      <td>Asia</td>\n",
              "      <td>Afghanistan</td>\n",
              "      <td>2020-01-03</td>\n",
              "      <td>0.0</td>\n",
              "      <td>0.0</td>\n",
              "      <td>0.0</td>\n",
              "      <td>0.0</td>\n",
              "      <td>0.0</td>\n",
              "      <td>0.0</td>\n",
              "      <td>0.0</td>\n",
              "      <td>0.0</td>\n",
              "      <td>NaN</td>\n",
              "      <td>NaN</td>\n",
              "      <td>NaN</td>\n",
              "      <td>NaN</td>\n",
              "      <td>NaN</td>\n",
              "      <td>NaN</td>\n",
              "      <td>NaN</td>\n",
              "      <td>0.0</td>\n",
              "      <td>38928341.0</td>\n",
              "      <td>54.422</td>\n",
              "      <td>18.6</td>\n",
              "      <td>2.581</td>\n",
              "      <td>1.337</td>\n",
              "      <td>1803.987</td>\n",
              "      <td>NaN</td>\n",
              "      <td>597.029</td>\n",
              "      <td>9.59</td>\n",
              "      <td>NaN</td>\n",
              "      <td>NaN</td>\n",
              "      <td>37.746</td>\n",
              "      <td>0.5</td>\n",
              "      <td>64.83</td>\n",
              "    </tr>\n",
              "    <tr>\n",
              "      <th>4</th>\n",
              "      <td>AFG</td>\n",
              "      <td>Asia</td>\n",
              "      <td>Afghanistan</td>\n",
              "      <td>2020-01-04</td>\n",
              "      <td>0.0</td>\n",
              "      <td>0.0</td>\n",
              "      <td>0.0</td>\n",
              "      <td>0.0</td>\n",
              "      <td>0.0</td>\n",
              "      <td>0.0</td>\n",
              "      <td>0.0</td>\n",
              "      <td>0.0</td>\n",
              "      <td>NaN</td>\n",
              "      <td>NaN</td>\n",
              "      <td>NaN</td>\n",
              "      <td>NaN</td>\n",
              "      <td>NaN</td>\n",
              "      <td>NaN</td>\n",
              "      <td>NaN</td>\n",
              "      <td>0.0</td>\n",
              "      <td>38928341.0</td>\n",
              "      <td>54.422</td>\n",
              "      <td>18.6</td>\n",
              "      <td>2.581</td>\n",
              "      <td>1.337</td>\n",
              "      <td>1803.987</td>\n",
              "      <td>NaN</td>\n",
              "      <td>597.029</td>\n",
              "      <td>9.59</td>\n",
              "      <td>NaN</td>\n",
              "      <td>NaN</td>\n",
              "      <td>37.746</td>\n",
              "      <td>0.5</td>\n",
              "      <td>64.83</td>\n",
              "    </tr>\n",
              "  </tbody>\n",
              "</table>\n",
              "</div>"
            ],
            "text/plain": [
              "  iso_code continent  ... hospital_beds_per_thousand life_expectancy\n",
              "0      AFG      Asia  ...                        0.5           64.83\n",
              "1      AFG      Asia  ...                        0.5           64.83\n",
              "2      AFG      Asia  ...                        0.5           64.83\n",
              "3      AFG      Asia  ...                        0.5           64.83\n",
              "4      AFG      Asia  ...                        0.5           64.83\n",
              "\n",
              "[5 rows x 34 columns]"
            ]
          },
          "metadata": {
            "tags": []
          },
          "execution_count": 32
        }
      ]
    },
    {
      "cell_type": "markdown",
      "metadata": {
        "id": "xDsebwODXMKq",
        "colab_type": "text"
      },
      "source": [
        "####Verificando as demais dimensões do Dataset"
      ]
    },
    {
      "cell_type": "code",
      "metadata": {
        "id": "gO1fv3D1PS4k",
        "colab_type": "code",
        "colab": {
          "base_uri": "https://localhost:8080/",
          "height": 72
        },
        "outputId": "ab8d3f16-eac3-4d7d-f961-b1f41f467d09"
      },
      "source": [
        "# verificando as dimensões\n",
        "print('Dimensões do Dataset',\n",
        "    '\\nVariáveis (colunas): ',df.shape[1], \"\\n\"\n",
        "      'Entradas: ', df.shape[0])"
      ],
      "execution_count": 33,
      "outputs": [
        {
          "output_type": "stream",
          "text": [
            "Dimensões do Dataset \n",
            "Variáveis (colunas):  34 \n",
            "Entradas:  28924\n"
          ],
          "name": "stdout"
        }
      ]
    },
    {
      "cell_type": "markdown",
      "metadata": {
        "id": "BS0afPG9XQRV",
        "colab_type": "text"
      },
      "source": [
        "####Detalhando as variáveis (colunas)"
      ]
    },
    {
      "cell_type": "code",
      "metadata": {
        "id": "EWRBo674VfLT",
        "colab_type": "code",
        "colab": {
          "base_uri": "https://localhost:8080/",
          "height": 235
        },
        "outputId": "604e2d33-e08d-4b05-c6d8-3ad4cadef825"
      },
      "source": [
        "print(df.columns)"
      ],
      "execution_count": 34,
      "outputs": [
        {
          "output_type": "stream",
          "text": [
            "Index(['iso_code', 'continent', 'location', 'date', 'total_cases', 'new_cases',\n",
            "       'total_deaths', 'new_deaths', 'total_cases_per_million',\n",
            "       'new_cases_per_million', 'total_deaths_per_million',\n",
            "       'new_deaths_per_million', 'total_tests', 'new_tests',\n",
            "       'total_tests_per_thousand', 'new_tests_per_thousand',\n",
            "       'new_tests_smoothed', 'new_tests_smoothed_per_thousand', 'tests_units',\n",
            "       'stringency_index', 'population', 'population_density', 'median_age',\n",
            "       'aged_65_older', 'aged_70_older', 'gdp_per_capita', 'extreme_poverty',\n",
            "       'cvd_death_rate', 'diabetes_prevalence', 'female_smokers',\n",
            "       'male_smokers', 'handwashing_facilities', 'hospital_beds_per_thousand',\n",
            "       'life_expectancy'],\n",
            "      dtype='object')\n"
          ],
          "name": "stdout"
        }
      ]
    },
    {
      "cell_type": "markdown",
      "metadata": {
        "id": "UlLrSTiBVsDO",
        "colab_type": "text"
      },
      "source": [
        "##### Dicionário de Variáveis\n",
        "\n",
        "* iso_code - alpha-3\n",
        "* continent - continente\n",
        "* location - localização\n",
        "* date - data\n",
        "* total_cases - casos totais\n",
        "* new_case - novos casos\n",
        "* total_deaths - total de mortes\n",
        "* new_deaths - novas mortes\n",
        "* total_cases_per_million - total de casos por milhão de habitantes\n",
        "* new_cases_per_million - novos casos por milhão de habitantes\n",
        "* total_deaths_per_million - total de mortes por milhão de habitantes\n",
        "* new_deaths_per_million - novas mortes por milhão de habitantes\n",
        "* total_tests - total de testes\n",
        "* new_tests - novos testes realizados\n",
        "* total_tests_per_thousand  - total de testes por mil habitantes\n",
        "* new_tests_per_thousand  - novos testes por mil habitantes\n",
        "* new_tests_smoothed - novos testes ajustados\n",
        "* new_tests_smoothed_per_thousand  - novos testes ajustados por mil habitantes\n",
        "* tests_units - Unidades utilizadas por localização infomadas na data\n",
        "* stringency_index - restrições\n",
        "* population - população local\n",
        "* population_density - densidade populacional\n",
        "* median_age - idade média\n",
        "* aged_65_older - acima de 65 anos de idade\n",
        "* aged_70_older - acima de 70 anos de idade\n",
        "* gdp_per_capita - PIB per capita\n",
        "* extreme_poverty - porcentagem da população vivendo em extrema pobreza\n",
        "* cvd_death_rate - taxa de mortes por doenças cardiovasculares\n",
        "* diabetes_prevalence - casos de diabete (% da poupulação entre 20 e 79 anos)\n",
        "* female_smokers - número de fumantes (mulheres)\n",
        "* male_smokers - número de fumantes (homens)\n",
        "* handwashing_facilities - % da população com acesso a higiene básica\n",
        "* hospital_beds_per_thousand - leitos hospitalares por mil habitantes\n",
        "* life_expectancy - expectativa de vida\n",
        "\n",
        "mais informações sobre as variáveis pode ser consultado no repositório oficial no [GitHub](https://github.com/owid/covid-19-data/blob/master/public/data/owid-covid-data-codebook.md)."
      ]
    },
    {
      "cell_type": "markdown",
      "metadata": {
        "id": "B5FFE-qpf2I8",
        "colab_type": "text"
      },
      "source": [
        "####Tipo de variáveis\n",
        "Como as variáveis (colunas) estão configuradas:"
      ]
    },
    {
      "cell_type": "code",
      "metadata": {
        "id": "whzDvpnwf9py",
        "colab_type": "code",
        "colab": {
          "base_uri": "https://localhost:8080/",
          "height": 654
        },
        "outputId": "ad015243-d73a-4d02-e7a9-80e93625481b"
      },
      "source": [
        "df.dtypes"
      ],
      "execution_count": 35,
      "outputs": [
        {
          "output_type": "execute_result",
          "data": {
            "text/plain": [
              "iso_code                            object\n",
              "continent                           object\n",
              "location                            object\n",
              "date                                object\n",
              "total_cases                        float64\n",
              "new_cases                          float64\n",
              "total_deaths                       float64\n",
              "new_deaths                         float64\n",
              "total_cases_per_million            float64\n",
              "new_cases_per_million              float64\n",
              "total_deaths_per_million           float64\n",
              "new_deaths_per_million             float64\n",
              "total_tests                        float64\n",
              "new_tests                          float64\n",
              "total_tests_per_thousand           float64\n",
              "new_tests_per_thousand             float64\n",
              "new_tests_smoothed                 float64\n",
              "new_tests_smoothed_per_thousand    float64\n",
              "tests_units                         object\n",
              "stringency_index                   float64\n",
              "population                         float64\n",
              "population_density                 float64\n",
              "median_age                         float64\n",
              "aged_65_older                      float64\n",
              "aged_70_older                      float64\n",
              "gdp_per_capita                     float64\n",
              "extreme_poverty                    float64\n",
              "cvd_death_rate                     float64\n",
              "diabetes_prevalence                float64\n",
              "female_smokers                     float64\n",
              "male_smokers                       float64\n",
              "handwashing_facilities             float64\n",
              "hospital_beds_per_thousand         float64\n",
              "life_expectancy                    float64\n",
              "dtype: object"
            ]
          },
          "metadata": {
            "tags": []
          },
          "execution_count": 35
        }
      ]
    },
    {
      "cell_type": "markdown",
      "metadata": {
        "id": "2Fgy1V_aXc4S",
        "colab_type": "text"
      },
      "source": [
        "##### Corrindo as veriáveis"
      ]
    },
    {
      "cell_type": "markdown",
      "metadata": {
        "id": "ObZCOfCaha3C",
        "colab_type": "text"
      },
      "source": [
        "A coluna Date está com o formato diferente do necessário, para corrigi-lo usamos o comando `pd.to_datetime()`.\n",
        "\n",
        "Vamos aproveitar para criar uma coluna com os números das semanas, pois irá auxiliar na elaboração dos gráficos de avanço."
      ]
    },
    {
      "cell_type": "code",
      "metadata": {
        "id": "FBmtriylhgxf",
        "colab_type": "code",
        "colab": {}
      },
      "source": [
        "#converter object to datetime\n",
        "df.date = pd.to_datetime(df.date)"
      ],
      "execution_count": 36,
      "outputs": []
    },
    {
      "cell_type": "code",
      "metadata": {
        "id": "d2MDCcB1bfGZ",
        "colab_type": "code",
        "colab": {}
      },
      "source": [
        "#criar uma coluna e obter o número da semana\n",
        "df['week_number'] = df['date'].dt.week"
      ],
      "execution_count": 37,
      "outputs": []
    },
    {
      "cell_type": "markdown",
      "metadata": {
        "id": "N-yi6-QmgVE9",
        "colab_type": "text"
      },
      "source": [
        "#### Identificando variáveis ausentes\n",
        "\n"
      ]
    },
    {
      "cell_type": "markdown",
      "metadata": {
        "id": "g2FCAFtxgbbA",
        "colab_type": "text"
      },
      "source": [
        "Para identificar a porcentagem de valores ausentes nas colunas usamos:"
      ]
    },
    {
      "cell_type": "code",
      "metadata": {
        "id": "W0NJyJo6gpK9",
        "colab_type": "code",
        "colab": {
          "base_uri": "https://localhost:8080/",
          "height": 163
        },
        "outputId": "c4823d5e-acc6-4be6-bcc5-f8e3764dc657"
      },
      "source": [
        "(df.isnull().sum() / df.shape[0]).sort_values(ascending=False).head(7)"
      ],
      "execution_count": 38,
      "outputs": [
        {
          "output_type": "execute_result",
          "data": {
            "text/plain": [
              "new_tests                          0.712868\n",
              "new_tests_per_thousand             0.712868\n",
              "total_tests                        0.699039\n",
              "total_tests_per_thousand           0.699039\n",
              "new_tests_smoothed_per_thousand    0.674492\n",
              "new_tests_smoothed                 0.674492\n",
              "tests_units                        0.650740\n",
              "dtype: float64"
            ]
          },
          "metadata": {
            "tags": []
          },
          "execution_count": 38
        }
      ]
    },
    {
      "cell_type": "markdown",
      "metadata": {
        "id": "YOdZ7V4lhFId",
        "colab_type": "text"
      },
      "source": [
        "Podemos ver que as colunas em relação aos testes realizados são os principais itens ausentes no nosso dataset.\n",
        "A fonte de dados são os órgão governamentais e portanto esses números não estão sendo corretamente divulgados."
      ]
    },
    {
      "cell_type": "markdown",
      "metadata": {
        "id": "5jm5OrJ2P7ET",
        "colab_type": "text"
      },
      "source": [
        "### Comparando os Dados"
      ]
    },
    {
      "cell_type": "markdown",
      "metadata": {
        "id": "L_Hki8_5iAAH",
        "colab_type": "text"
      },
      "source": [
        "#### Mais Casos Reportados\n",
        "Vamos verificar os países com mais casos reportados na data mais recente:\n"
      ]
    },
    {
      "cell_type": "code",
      "metadata": {
        "id": "elVzRD5l_tp_",
        "colab_type": "code",
        "colab": {
          "base_uri": "https://localhost:8080/",
          "height": 35
        },
        "outputId": "37de237e-14c6-4424-be6b-04ebaa1dbda2"
      },
      "source": [
        "#identificando a data mais recente no nosso dataset:\n",
        "data_recente = df['date'].max()\n",
        "print_recente = np.datetime64(data_recente, 'D')\n",
        "print(\"última atualização em {}.\" .format(print_recente))"
      ],
      "execution_count": 39,
      "outputs": [
        {
          "output_type": "stream",
          "text": [
            "última atualização em 2020-07-08.\n"
          ],
          "name": "stdout"
        }
      ]
    },
    {
      "cell_type": "code",
      "metadata": {
        "id": "Kmp7qEwZh6UO",
        "colab_type": "code",
        "colab": {
          "base_uri": "https://localhost:8080/",
          "height": 323
        },
        "outputId": "d1f41755-a695-4d8e-d22c-be9b5260013a"
      },
      "source": [
        "print(\"A classificação dos países com mais casos de Covid-19 em {} é:\".format(print_recente))\n",
        "\n",
        "#usando a função .loc para restringir a pesquisa na data mais recente  ordernar os valores por total de casos\n",
        "df_total_cases = df.loc[df.date == data_recente].sort_values(by=\"total_cases\", ascending=False)\n",
        "df_total_cases.iloc[1:6,]"
      ],
      "execution_count": 40,
      "outputs": [
        {
          "output_type": "stream",
          "text": [
            "A classificação dos países com mais casos de Covid-19 em 2020-07-08 é:\n"
          ],
          "name": "stdout"
        },
        {
          "output_type": "execute_result",
          "data": {
            "text/html": [
              "<div>\n",
              "<style scoped>\n",
              "    .dataframe tbody tr th:only-of-type {\n",
              "        vertical-align: middle;\n",
              "    }\n",
              "\n",
              "    .dataframe tbody tr th {\n",
              "        vertical-align: top;\n",
              "    }\n",
              "\n",
              "    .dataframe thead th {\n",
              "        text-align: right;\n",
              "    }\n",
              "</style>\n",
              "<table border=\"1\" class=\"dataframe\">\n",
              "  <thead>\n",
              "    <tr style=\"text-align: right;\">\n",
              "      <th></th>\n",
              "      <th>iso_code</th>\n",
              "      <th>continent</th>\n",
              "      <th>location</th>\n",
              "      <th>date</th>\n",
              "      <th>total_cases</th>\n",
              "      <th>new_cases</th>\n",
              "      <th>total_deaths</th>\n",
              "      <th>new_deaths</th>\n",
              "      <th>total_cases_per_million</th>\n",
              "      <th>new_cases_per_million</th>\n",
              "      <th>total_deaths_per_million</th>\n",
              "      <th>new_deaths_per_million</th>\n",
              "      <th>total_tests</th>\n",
              "      <th>new_tests</th>\n",
              "      <th>total_tests_per_thousand</th>\n",
              "      <th>new_tests_per_thousand</th>\n",
              "      <th>new_tests_smoothed</th>\n",
              "      <th>new_tests_smoothed_per_thousand</th>\n",
              "      <th>tests_units</th>\n",
              "      <th>stringency_index</th>\n",
              "      <th>population</th>\n",
              "      <th>population_density</th>\n",
              "      <th>median_age</th>\n",
              "      <th>aged_65_older</th>\n",
              "      <th>aged_70_older</th>\n",
              "      <th>gdp_per_capita</th>\n",
              "      <th>extreme_poverty</th>\n",
              "      <th>cvd_death_rate</th>\n",
              "      <th>diabetes_prevalence</th>\n",
              "      <th>female_smokers</th>\n",
              "      <th>male_smokers</th>\n",
              "      <th>handwashing_facilities</th>\n",
              "      <th>hospital_beds_per_thousand</th>\n",
              "      <th>life_expectancy</th>\n",
              "      <th>week_number</th>\n",
              "    </tr>\n",
              "  </thead>\n",
              "  <tbody>\n",
              "    <tr>\n",
              "      <th>27523</th>\n",
              "      <td>USA</td>\n",
              "      <td>North America</td>\n",
              "      <td>United States</td>\n",
              "      <td>2020-07-08</td>\n",
              "      <td>2996098.0</td>\n",
              "      <td>57473.0</td>\n",
              "      <td>131480.0</td>\n",
              "      <td>1174.0</td>\n",
              "      <td>9051.583</td>\n",
              "      <td>173.633</td>\n",
              "      <td>397.217</td>\n",
              "      <td>3.547</td>\n",
              "      <td>NaN</td>\n",
              "      <td>NaN</td>\n",
              "      <td>NaN</td>\n",
              "      <td>NaN</td>\n",
              "      <td>NaN</td>\n",
              "      <td>NaN</td>\n",
              "      <td>NaN</td>\n",
              "      <td>NaN</td>\n",
              "      <td>3.310026e+08</td>\n",
              "      <td>35.608</td>\n",
              "      <td>38.3</td>\n",
              "      <td>15.413</td>\n",
              "      <td>9.732</td>\n",
              "      <td>54225.446</td>\n",
              "      <td>1.2</td>\n",
              "      <td>151.089</td>\n",
              "      <td>10.79</td>\n",
              "      <td>19.1</td>\n",
              "      <td>24.6</td>\n",
              "      <td>NaN</td>\n",
              "      <td>2.77</td>\n",
              "      <td>78.86</td>\n",
              "      <td>28</td>\n",
              "    </tr>\n",
              "    <tr>\n",
              "      <th>3908</th>\n",
              "      <td>BRA</td>\n",
              "      <td>South America</td>\n",
              "      <td>Brazil</td>\n",
              "      <td>2020-07-08</td>\n",
              "      <td>1668589.0</td>\n",
              "      <td>45305.0</td>\n",
              "      <td>66741.0</td>\n",
              "      <td>1254.0</td>\n",
              "      <td>7849.989</td>\n",
              "      <td>213.140</td>\n",
              "      <td>313.988</td>\n",
              "      <td>5.900</td>\n",
              "      <td>NaN</td>\n",
              "      <td>NaN</td>\n",
              "      <td>NaN</td>\n",
              "      <td>NaN</td>\n",
              "      <td>NaN</td>\n",
              "      <td>NaN</td>\n",
              "      <td>NaN</td>\n",
              "      <td>NaN</td>\n",
              "      <td>2.125594e+08</td>\n",
              "      <td>25.040</td>\n",
              "      <td>33.5</td>\n",
              "      <td>8.552</td>\n",
              "      <td>5.060</td>\n",
              "      <td>14103.452</td>\n",
              "      <td>3.4</td>\n",
              "      <td>177.961</td>\n",
              "      <td>8.11</td>\n",
              "      <td>10.1</td>\n",
              "      <td>17.9</td>\n",
              "      <td>NaN</td>\n",
              "      <td>2.20</td>\n",
              "      <td>75.88</td>\n",
              "      <td>28</td>\n",
              "    </tr>\n",
              "    <tr>\n",
              "      <th>12267</th>\n",
              "      <td>IND</td>\n",
              "      <td>Asia</td>\n",
              "      <td>India</td>\n",
              "      <td>2020-07-08</td>\n",
              "      <td>742417.0</td>\n",
              "      <td>22752.0</td>\n",
              "      <td>20642.0</td>\n",
              "      <td>482.0</td>\n",
              "      <td>537.982</td>\n",
              "      <td>16.487</td>\n",
              "      <td>14.958</td>\n",
              "      <td>0.349</td>\n",
              "      <td>NaN</td>\n",
              "      <td>NaN</td>\n",
              "      <td>NaN</td>\n",
              "      <td>NaN</td>\n",
              "      <td>NaN</td>\n",
              "      <td>NaN</td>\n",
              "      <td>NaN</td>\n",
              "      <td>NaN</td>\n",
              "      <td>1.380004e+09</td>\n",
              "      <td>450.419</td>\n",
              "      <td>28.2</td>\n",
              "      <td>5.989</td>\n",
              "      <td>3.414</td>\n",
              "      <td>6426.674</td>\n",
              "      <td>21.2</td>\n",
              "      <td>282.280</td>\n",
              "      <td>10.39</td>\n",
              "      <td>1.9</td>\n",
              "      <td>20.6</td>\n",
              "      <td>59.55</td>\n",
              "      <td>0.53</td>\n",
              "      <td>69.66</td>\n",
              "      <td>28</td>\n",
              "    </tr>\n",
              "    <tr>\n",
              "      <th>21837</th>\n",
              "      <td>RUS</td>\n",
              "      <td>Europe</td>\n",
              "      <td>Russia</td>\n",
              "      <td>2020-07-08</td>\n",
              "      <td>694230.0</td>\n",
              "      <td>6368.0</td>\n",
              "      <td>10494.0</td>\n",
              "      <td>198.0</td>\n",
              "      <td>4757.135</td>\n",
              "      <td>43.636</td>\n",
              "      <td>71.909</td>\n",
              "      <td>1.357</td>\n",
              "      <td>NaN</td>\n",
              "      <td>NaN</td>\n",
              "      <td>NaN</td>\n",
              "      <td>NaN</td>\n",
              "      <td>NaN</td>\n",
              "      <td>NaN</td>\n",
              "      <td>NaN</td>\n",
              "      <td>NaN</td>\n",
              "      <td>1.459345e+08</td>\n",
              "      <td>8.823</td>\n",
              "      <td>39.6</td>\n",
              "      <td>14.178</td>\n",
              "      <td>9.393</td>\n",
              "      <td>24765.954</td>\n",
              "      <td>0.1</td>\n",
              "      <td>431.297</td>\n",
              "      <td>6.18</td>\n",
              "      <td>23.4</td>\n",
              "      <td>58.3</td>\n",
              "      <td>NaN</td>\n",
              "      <td>8.05</td>\n",
              "      <td>72.58</td>\n",
              "      <td>28</td>\n",
              "    </tr>\n",
              "    <tr>\n",
              "      <th>20724</th>\n",
              "      <td>PER</td>\n",
              "      <td>South America</td>\n",
              "      <td>Peru</td>\n",
              "      <td>2020-07-08</td>\n",
              "      <td>309278.0</td>\n",
              "      <td>3575.0</td>\n",
              "      <td>10952.0</td>\n",
              "      <td>180.0</td>\n",
              "      <td>9380.063</td>\n",
              "      <td>108.426</td>\n",
              "      <td>332.162</td>\n",
              "      <td>5.459</td>\n",
              "      <td>NaN</td>\n",
              "      <td>NaN</td>\n",
              "      <td>NaN</td>\n",
              "      <td>NaN</td>\n",
              "      <td>NaN</td>\n",
              "      <td>NaN</td>\n",
              "      <td>NaN</td>\n",
              "      <td>NaN</td>\n",
              "      <td>3.297185e+07</td>\n",
              "      <td>25.129</td>\n",
              "      <td>29.1</td>\n",
              "      <td>7.151</td>\n",
              "      <td>4.455</td>\n",
              "      <td>12236.706</td>\n",
              "      <td>3.5</td>\n",
              "      <td>85.755</td>\n",
              "      <td>5.95</td>\n",
              "      <td>4.8</td>\n",
              "      <td>NaN</td>\n",
              "      <td>NaN</td>\n",
              "      <td>1.60</td>\n",
              "      <td>76.74</td>\n",
              "      <td>28</td>\n",
              "    </tr>\n",
              "  </tbody>\n",
              "</table>\n",
              "</div>"
            ],
            "text/plain": [
              "      iso_code      continent  ... life_expectancy week_number\n",
              "27523      USA  North America  ...           78.86          28\n",
              "3908       BRA  South America  ...           75.88          28\n",
              "12267      IND           Asia  ...           69.66          28\n",
              "21837      RUS         Europe  ...           72.58          28\n",
              "20724      PER  South America  ...           76.74          28\n",
              "\n",
              "[5 rows x 35 columns]"
            ]
          },
          "metadata": {
            "tags": []
          },
          "execution_count": 40
        }
      ]
    },
    {
      "cell_type": "markdown",
      "metadata": {
        "id": "atST4E-h5Jt5",
        "colab_type": "text"
      },
      "source": [
        "#### Mais Casos Reportados normalizando a população\n",
        "Vamos verificar quais países que confirmaram mais de 1.000 casos confirmados, utilizando os dados parametrizados (total de casos por milhão de habitantes)."
      ]
    },
    {
      "cell_type": "code",
      "metadata": {
        "id": "Q0PBOvD-3eYc",
        "colab_type": "code",
        "colab": {
          "base_uri": "https://localhost:8080/",
          "height": 323
        },
        "outputId": "6ee3a054-eaee-4b5f-d49c-973c55d4b95d"
      },
      "source": [
        "print(\"Os países que apresentaram mais de 1.000 casos confirmados, normalizando a contagem de casos por milhão de habitantes em {} é:\".format(print_recente))\n",
        "df_total_cases_per_million = df.loc[df.date == data_recente].sort_values(by=\"total_cases_per_million\", ascending=False)\n",
        "df_total_cases_per_million = df_total_cases_per_million.loc[df_total_cases_per_million.total_cases >= 1000].sort_values(by=\"total_cases_per_million\", ascending=False)\n",
        "df_total_cases_per_million.iloc[1:6,]"
      ],
      "execution_count": 41,
      "outputs": [
        {
          "output_type": "stream",
          "text": [
            "Os países que apresentaram mais de 1.000 casos confirmados, normalizando a contagem de casos por milhão de habitantes em 2020-07-08 é:\n"
          ],
          "name": "stdout"
        },
        {
          "output_type": "execute_result",
          "data": {
            "text/html": [
              "<div>\n",
              "<style scoped>\n",
              "    .dataframe tbody tr th:only-of-type {\n",
              "        vertical-align: middle;\n",
              "    }\n",
              "\n",
              "    .dataframe tbody tr th {\n",
              "        vertical-align: top;\n",
              "    }\n",
              "\n",
              "    .dataframe thead th {\n",
              "        text-align: right;\n",
              "    }\n",
              "</style>\n",
              "<table border=\"1\" class=\"dataframe\">\n",
              "  <thead>\n",
              "    <tr style=\"text-align: right;\">\n",
              "      <th></th>\n",
              "      <th>iso_code</th>\n",
              "      <th>continent</th>\n",
              "      <th>location</th>\n",
              "      <th>date</th>\n",
              "      <th>total_cases</th>\n",
              "      <th>new_cases</th>\n",
              "      <th>total_deaths</th>\n",
              "      <th>new_deaths</th>\n",
              "      <th>total_cases_per_million</th>\n",
              "      <th>new_cases_per_million</th>\n",
              "      <th>total_deaths_per_million</th>\n",
              "      <th>new_deaths_per_million</th>\n",
              "      <th>total_tests</th>\n",
              "      <th>new_tests</th>\n",
              "      <th>total_tests_per_thousand</th>\n",
              "      <th>new_tests_per_thousand</th>\n",
              "      <th>new_tests_smoothed</th>\n",
              "      <th>new_tests_smoothed_per_thousand</th>\n",
              "      <th>tests_units</th>\n",
              "      <th>stringency_index</th>\n",
              "      <th>population</th>\n",
              "      <th>population_density</th>\n",
              "      <th>median_age</th>\n",
              "      <th>aged_65_older</th>\n",
              "      <th>aged_70_older</th>\n",
              "      <th>gdp_per_capita</th>\n",
              "      <th>extreme_poverty</th>\n",
              "      <th>cvd_death_rate</th>\n",
              "      <th>diabetes_prevalence</th>\n",
              "      <th>female_smokers</th>\n",
              "      <th>male_smokers</th>\n",
              "      <th>handwashing_facilities</th>\n",
              "      <th>hospital_beds_per_thousand</th>\n",
              "      <th>life_expectancy</th>\n",
              "      <th>week_number</th>\n",
              "    </tr>\n",
              "  </thead>\n",
              "  <tbody>\n",
              "    <tr>\n",
              "      <th>2212</th>\n",
              "      <td>BHR</td>\n",
              "      <td>Asia</td>\n",
              "      <td>Bahrain</td>\n",
              "      <td>2020-07-08</td>\n",
              "      <td>30321.0</td>\n",
              "      <td>500.0</td>\n",
              "      <td>98.0</td>\n",
              "      <td>0.0</td>\n",
              "      <td>17819.289</td>\n",
              "      <td>293.844</td>\n",
              "      <td>57.593</td>\n",
              "      <td>0.000</td>\n",
              "      <td>NaN</td>\n",
              "      <td>NaN</td>\n",
              "      <td>NaN</td>\n",
              "      <td>NaN</td>\n",
              "      <td>NaN</td>\n",
              "      <td>NaN</td>\n",
              "      <td>NaN</td>\n",
              "      <td>NaN</td>\n",
              "      <td>1701583.0</td>\n",
              "      <td>1935.907</td>\n",
              "      <td>32.4</td>\n",
              "      <td>2.372</td>\n",
              "      <td>1.387</td>\n",
              "      <td>43290.705</td>\n",
              "      <td>NaN</td>\n",
              "      <td>151.689</td>\n",
              "      <td>16.52</td>\n",
              "      <td>5.8</td>\n",
              "      <td>37.6</td>\n",
              "      <td>NaN</td>\n",
              "      <td>2.00</td>\n",
              "      <td>77.29</td>\n",
              "      <td>28</td>\n",
              "    </tr>\n",
              "    <tr>\n",
              "      <th>5534</th>\n",
              "      <td>CHL</td>\n",
              "      <td>South America</td>\n",
              "      <td>Chile</td>\n",
              "      <td>2020-07-08</td>\n",
              "      <td>301019.0</td>\n",
              "      <td>2462.0</td>\n",
              "      <td>6434.0</td>\n",
              "      <td>50.0</td>\n",
              "      <td>15746.794</td>\n",
              "      <td>128.791</td>\n",
              "      <td>336.573</td>\n",
              "      <td>2.616</td>\n",
              "      <td>NaN</td>\n",
              "      <td>NaN</td>\n",
              "      <td>NaN</td>\n",
              "      <td>NaN</td>\n",
              "      <td>NaN</td>\n",
              "      <td>NaN</td>\n",
              "      <td>NaN</td>\n",
              "      <td>NaN</td>\n",
              "      <td>19116209.0</td>\n",
              "      <td>24.282</td>\n",
              "      <td>35.4</td>\n",
              "      <td>11.087</td>\n",
              "      <td>6.938</td>\n",
              "      <td>22767.037</td>\n",
              "      <td>1.3</td>\n",
              "      <td>127.993</td>\n",
              "      <td>8.46</td>\n",
              "      <td>34.2</td>\n",
              "      <td>41.5</td>\n",
              "      <td>NaN</td>\n",
              "      <td>2.11</td>\n",
              "      <td>80.18</td>\n",
              "      <td>28</td>\n",
              "    </tr>\n",
              "    <tr>\n",
              "      <th>14598</th>\n",
              "      <td>KWT</td>\n",
              "      <td>Asia</td>\n",
              "      <td>Kuwait</td>\n",
              "      <td>2020-07-08</td>\n",
              "      <td>51245.0</td>\n",
              "      <td>601.0</td>\n",
              "      <td>377.0</td>\n",
              "      <td>4.0</td>\n",
              "      <td>11999.589</td>\n",
              "      <td>140.731</td>\n",
              "      <td>88.279</td>\n",
              "      <td>0.937</td>\n",
              "      <td>NaN</td>\n",
              "      <td>NaN</td>\n",
              "      <td>NaN</td>\n",
              "      <td>NaN</td>\n",
              "      <td>NaN</td>\n",
              "      <td>NaN</td>\n",
              "      <td>NaN</td>\n",
              "      <td>NaN</td>\n",
              "      <td>4270563.0</td>\n",
              "      <td>232.128</td>\n",
              "      <td>33.7</td>\n",
              "      <td>2.345</td>\n",
              "      <td>1.114</td>\n",
              "      <td>65530.537</td>\n",
              "      <td>NaN</td>\n",
              "      <td>132.235</td>\n",
              "      <td>15.84</td>\n",
              "      <td>2.7</td>\n",
              "      <td>37.0</td>\n",
              "      <td>NaN</td>\n",
              "      <td>2.00</td>\n",
              "      <td>75.49</td>\n",
              "      <td>28</td>\n",
              "    </tr>\n",
              "    <tr>\n",
              "      <th>1235</th>\n",
              "      <td>ARM</td>\n",
              "      <td>Asia</td>\n",
              "      <td>Armenia</td>\n",
              "      <td>2020-07-08</td>\n",
              "      <td>29285.0</td>\n",
              "      <td>349.0</td>\n",
              "      <td>503.0</td>\n",
              "      <td>12.0</td>\n",
              "      <td>9882.783</td>\n",
              "      <td>117.777</td>\n",
              "      <td>169.747</td>\n",
              "      <td>4.050</td>\n",
              "      <td>NaN</td>\n",
              "      <td>NaN</td>\n",
              "      <td>NaN</td>\n",
              "      <td>NaN</td>\n",
              "      <td>NaN</td>\n",
              "      <td>NaN</td>\n",
              "      <td>NaN</td>\n",
              "      <td>NaN</td>\n",
              "      <td>2963234.0</td>\n",
              "      <td>102.931</td>\n",
              "      <td>35.7</td>\n",
              "      <td>11.232</td>\n",
              "      <td>7.571</td>\n",
              "      <td>8787.580</td>\n",
              "      <td>1.8</td>\n",
              "      <td>341.010</td>\n",
              "      <td>7.11</td>\n",
              "      <td>1.5</td>\n",
              "      <td>52.1</td>\n",
              "      <td>94.043</td>\n",
              "      <td>4.20</td>\n",
              "      <td>75.09</td>\n",
              "      <td>28</td>\n",
              "    </tr>\n",
              "    <tr>\n",
              "      <th>19933</th>\n",
              "      <td>OMN</td>\n",
              "      <td>Asia</td>\n",
              "      <td>Oman</td>\n",
              "      <td>2020-07-08</td>\n",
              "      <td>48997.0</td>\n",
              "      <td>1262.0</td>\n",
              "      <td>224.0</td>\n",
              "      <td>6.0</td>\n",
              "      <td>9594.797</td>\n",
              "      <td>247.130</td>\n",
              "      <td>43.865</td>\n",
              "      <td>1.175</td>\n",
              "      <td>NaN</td>\n",
              "      <td>NaN</td>\n",
              "      <td>NaN</td>\n",
              "      <td>NaN</td>\n",
              "      <td>NaN</td>\n",
              "      <td>NaN</td>\n",
              "      <td>NaN</td>\n",
              "      <td>NaN</td>\n",
              "      <td>5106622.0</td>\n",
              "      <td>14.980</td>\n",
              "      <td>30.7</td>\n",
              "      <td>2.355</td>\n",
              "      <td>1.530</td>\n",
              "      <td>37960.709</td>\n",
              "      <td>NaN</td>\n",
              "      <td>266.342</td>\n",
              "      <td>12.61</td>\n",
              "      <td>0.5</td>\n",
              "      <td>15.6</td>\n",
              "      <td>97.400</td>\n",
              "      <td>1.60</td>\n",
              "      <td>77.86</td>\n",
              "      <td>28</td>\n",
              "    </tr>\n",
              "  </tbody>\n",
              "</table>\n",
              "</div>"
            ],
            "text/plain": [
              "      iso_code      continent  ... life_expectancy week_number\n",
              "2212       BHR           Asia  ...           77.29          28\n",
              "5534       CHL  South America  ...           80.18          28\n",
              "14598      KWT           Asia  ...           75.49          28\n",
              "1235       ARM           Asia  ...           75.09          28\n",
              "19933      OMN           Asia  ...           77.86          28\n",
              "\n",
              "[5 rows x 35 columns]"
            ]
          },
          "metadata": {
            "tags": []
          },
          "execution_count": 41
        }
      ]
    },
    {
      "cell_type": "markdown",
      "metadata": {
        "id": "_8rvN1FOkd9I",
        "colab_type": "text"
      },
      "source": [
        "#### Mais Mortes Reportadas\n",
        "Agora vamos verificar os países com mais mortes reportados na data mais recente:\n"
      ]
    },
    {
      "cell_type": "code",
      "metadata": {
        "id": "seCnLRBvkdZI",
        "colab_type": "code",
        "colab": {
          "base_uri": "https://localhost:8080/",
          "height": 323
        },
        "outputId": "78cfa84d-2b5d-42ce-db6c-75bedd319a2e"
      },
      "source": [
        "print(\"A classificação dos países com mais mortes de Covid-19 em {} é:\".format(print_recente))\n",
        "df_total_deaths = df.loc[df.date == data_recente].sort_values(by=\"total_deaths\", ascending=False)\n",
        "df_total_deaths.iloc[1:6,]"
      ],
      "execution_count": 42,
      "outputs": [
        {
          "output_type": "stream",
          "text": [
            "A classificação dos países com mais mortes de Covid-19 em 2020-07-08 é:\n"
          ],
          "name": "stdout"
        },
        {
          "output_type": "execute_result",
          "data": {
            "text/html": [
              "<div>\n",
              "<style scoped>\n",
              "    .dataframe tbody tr th:only-of-type {\n",
              "        vertical-align: middle;\n",
              "    }\n",
              "\n",
              "    .dataframe tbody tr th {\n",
              "        vertical-align: top;\n",
              "    }\n",
              "\n",
              "    .dataframe thead th {\n",
              "        text-align: right;\n",
              "    }\n",
              "</style>\n",
              "<table border=\"1\" class=\"dataframe\">\n",
              "  <thead>\n",
              "    <tr style=\"text-align: right;\">\n",
              "      <th></th>\n",
              "      <th>iso_code</th>\n",
              "      <th>continent</th>\n",
              "      <th>location</th>\n",
              "      <th>date</th>\n",
              "      <th>total_cases</th>\n",
              "      <th>new_cases</th>\n",
              "      <th>total_deaths</th>\n",
              "      <th>new_deaths</th>\n",
              "      <th>total_cases_per_million</th>\n",
              "      <th>new_cases_per_million</th>\n",
              "      <th>total_deaths_per_million</th>\n",
              "      <th>new_deaths_per_million</th>\n",
              "      <th>total_tests</th>\n",
              "      <th>new_tests</th>\n",
              "      <th>total_tests_per_thousand</th>\n",
              "      <th>new_tests_per_thousand</th>\n",
              "      <th>new_tests_smoothed</th>\n",
              "      <th>new_tests_smoothed_per_thousand</th>\n",
              "      <th>tests_units</th>\n",
              "      <th>stringency_index</th>\n",
              "      <th>population</th>\n",
              "      <th>population_density</th>\n",
              "      <th>median_age</th>\n",
              "      <th>aged_65_older</th>\n",
              "      <th>aged_70_older</th>\n",
              "      <th>gdp_per_capita</th>\n",
              "      <th>extreme_poverty</th>\n",
              "      <th>cvd_death_rate</th>\n",
              "      <th>diabetes_prevalence</th>\n",
              "      <th>female_smokers</th>\n",
              "      <th>male_smokers</th>\n",
              "      <th>handwashing_facilities</th>\n",
              "      <th>hospital_beds_per_thousand</th>\n",
              "      <th>life_expectancy</th>\n",
              "      <th>week_number</th>\n",
              "    </tr>\n",
              "  </thead>\n",
              "  <tbody>\n",
              "    <tr>\n",
              "      <th>27523</th>\n",
              "      <td>USA</td>\n",
              "      <td>North America</td>\n",
              "      <td>United States</td>\n",
              "      <td>2020-07-08</td>\n",
              "      <td>2996098.0</td>\n",
              "      <td>57473.0</td>\n",
              "      <td>131480.0</td>\n",
              "      <td>1174.0</td>\n",
              "      <td>9051.583</td>\n",
              "      <td>173.633</td>\n",
              "      <td>397.217</td>\n",
              "      <td>3.547</td>\n",
              "      <td>NaN</td>\n",
              "      <td>NaN</td>\n",
              "      <td>NaN</td>\n",
              "      <td>NaN</td>\n",
              "      <td>NaN</td>\n",
              "      <td>NaN</td>\n",
              "      <td>NaN</td>\n",
              "      <td>NaN</td>\n",
              "      <td>331002647.0</td>\n",
              "      <td>35.608</td>\n",
              "      <td>38.3</td>\n",
              "      <td>15.413</td>\n",
              "      <td>9.732</td>\n",
              "      <td>54225.446</td>\n",
              "      <td>1.2</td>\n",
              "      <td>151.089</td>\n",
              "      <td>10.79</td>\n",
              "      <td>19.1</td>\n",
              "      <td>24.6</td>\n",
              "      <td>NaN</td>\n",
              "      <td>2.77</td>\n",
              "      <td>78.86</td>\n",
              "      <td>28</td>\n",
              "    </tr>\n",
              "    <tr>\n",
              "      <th>3908</th>\n",
              "      <td>BRA</td>\n",
              "      <td>South America</td>\n",
              "      <td>Brazil</td>\n",
              "      <td>2020-07-08</td>\n",
              "      <td>1668589.0</td>\n",
              "      <td>45305.0</td>\n",
              "      <td>66741.0</td>\n",
              "      <td>1254.0</td>\n",
              "      <td>7849.989</td>\n",
              "      <td>213.140</td>\n",
              "      <td>313.988</td>\n",
              "      <td>5.900</td>\n",
              "      <td>NaN</td>\n",
              "      <td>NaN</td>\n",
              "      <td>NaN</td>\n",
              "      <td>NaN</td>\n",
              "      <td>NaN</td>\n",
              "      <td>NaN</td>\n",
              "      <td>NaN</td>\n",
              "      <td>NaN</td>\n",
              "      <td>212559409.0</td>\n",
              "      <td>25.040</td>\n",
              "      <td>33.5</td>\n",
              "      <td>8.552</td>\n",
              "      <td>5.060</td>\n",
              "      <td>14103.452</td>\n",
              "      <td>3.4</td>\n",
              "      <td>177.961</td>\n",
              "      <td>8.11</td>\n",
              "      <td>10.1</td>\n",
              "      <td>17.9</td>\n",
              "      <td>NaN</td>\n",
              "      <td>2.20</td>\n",
              "      <td>75.88</td>\n",
              "      <td>28</td>\n",
              "    </tr>\n",
              "    <tr>\n",
              "      <th>27332</th>\n",
              "      <td>GBR</td>\n",
              "      <td>Europe</td>\n",
              "      <td>United Kingdom</td>\n",
              "      <td>2020-07-08</td>\n",
              "      <td>286349.0</td>\n",
              "      <td>581.0</td>\n",
              "      <td>44391.0</td>\n",
              "      <td>155.0</td>\n",
              "      <td>4218.086</td>\n",
              "      <td>8.558</td>\n",
              "      <td>653.905</td>\n",
              "      <td>2.283</td>\n",
              "      <td>NaN</td>\n",
              "      <td>NaN</td>\n",
              "      <td>NaN</td>\n",
              "      <td>NaN</td>\n",
              "      <td>NaN</td>\n",
              "      <td>NaN</td>\n",
              "      <td>NaN</td>\n",
              "      <td>NaN</td>\n",
              "      <td>67886004.0</td>\n",
              "      <td>272.898</td>\n",
              "      <td>40.8</td>\n",
              "      <td>18.517</td>\n",
              "      <td>12.527</td>\n",
              "      <td>39753.244</td>\n",
              "      <td>0.2</td>\n",
              "      <td>122.137</td>\n",
              "      <td>4.28</td>\n",
              "      <td>20.0</td>\n",
              "      <td>24.7</td>\n",
              "      <td>NaN</td>\n",
              "      <td>2.54</td>\n",
              "      <td>81.32</td>\n",
              "      <td>28</td>\n",
              "    </tr>\n",
              "    <tr>\n",
              "      <th>13512</th>\n",
              "      <td>ITA</td>\n",
              "      <td>Europe</td>\n",
              "      <td>Italy</td>\n",
              "      <td>2020-07-08</td>\n",
              "      <td>241956.0</td>\n",
              "      <td>137.0</td>\n",
              "      <td>34899.0</td>\n",
              "      <td>30.0</td>\n",
              "      <td>4001.798</td>\n",
              "      <td>2.266</td>\n",
              "      <td>577.207</td>\n",
              "      <td>0.496</td>\n",
              "      <td>NaN</td>\n",
              "      <td>NaN</td>\n",
              "      <td>NaN</td>\n",
              "      <td>NaN</td>\n",
              "      <td>NaN</td>\n",
              "      <td>NaN</td>\n",
              "      <td>NaN</td>\n",
              "      <td>NaN</td>\n",
              "      <td>60461828.0</td>\n",
              "      <td>205.859</td>\n",
              "      <td>47.9</td>\n",
              "      <td>23.021</td>\n",
              "      <td>16.240</td>\n",
              "      <td>35220.084</td>\n",
              "      <td>2.0</td>\n",
              "      <td>113.151</td>\n",
              "      <td>4.78</td>\n",
              "      <td>19.8</td>\n",
              "      <td>27.8</td>\n",
              "      <td>NaN</td>\n",
              "      <td>3.18</td>\n",
              "      <td>83.51</td>\n",
              "      <td>28</td>\n",
              "    </tr>\n",
              "    <tr>\n",
              "      <th>17252</th>\n",
              "      <td>MEX</td>\n",
              "      <td>North America</td>\n",
              "      <td>Mexico</td>\n",
              "      <td>2020-07-08</td>\n",
              "      <td>268008.0</td>\n",
              "      <td>6258.0</td>\n",
              "      <td>32014.0</td>\n",
              "      <td>895.0</td>\n",
              "      <td>2078.665</td>\n",
              "      <td>48.537</td>\n",
              "      <td>248.300</td>\n",
              "      <td>6.942</td>\n",
              "      <td>NaN</td>\n",
              "      <td>NaN</td>\n",
              "      <td>NaN</td>\n",
              "      <td>NaN</td>\n",
              "      <td>NaN</td>\n",
              "      <td>NaN</td>\n",
              "      <td>NaN</td>\n",
              "      <td>NaN</td>\n",
              "      <td>128932753.0</td>\n",
              "      <td>66.444</td>\n",
              "      <td>29.3</td>\n",
              "      <td>6.857</td>\n",
              "      <td>4.321</td>\n",
              "      <td>17336.469</td>\n",
              "      <td>2.5</td>\n",
              "      <td>152.783</td>\n",
              "      <td>13.06</td>\n",
              "      <td>6.9</td>\n",
              "      <td>21.4</td>\n",
              "      <td>87.847</td>\n",
              "      <td>1.38</td>\n",
              "      <td>75.05</td>\n",
              "      <td>28</td>\n",
              "    </tr>\n",
              "  </tbody>\n",
              "</table>\n",
              "</div>"
            ],
            "text/plain": [
              "      iso_code      continent  ... life_expectancy week_number\n",
              "27523      USA  North America  ...           78.86          28\n",
              "3908       BRA  South America  ...           75.88          28\n",
              "27332      GBR         Europe  ...           81.32          28\n",
              "13512      ITA         Europe  ...           83.51          28\n",
              "17252      MEX  North America  ...           75.05          28\n",
              "\n",
              "[5 rows x 35 columns]"
            ]
          },
          "metadata": {
            "tags": []
          },
          "execution_count": 42
        }
      ]
    },
    {
      "cell_type": "markdown",
      "metadata": {
        "id": "ISBGbhl-QcFg",
        "colab_type": "text"
      },
      "source": [
        "### Visualização Gráfica dos Dados"
      ]
    },
    {
      "cell_type": "markdown",
      "metadata": {
        "id": "LZff3lfsQjIA",
        "colab_type": "text"
      },
      "source": [
        "#### Mais Casos Reportados"
      ]
    },
    {
      "cell_type": "markdown",
      "metadata": {
        "id": "QN1S5zrGkcWP",
        "colab_type": "text"
      },
      "source": [
        "Para plotar um gráfico de barras para os 5 países com mais casos na data mais recente:\n",
        "\n",
        "Observação: aqui vamos usar o dataset *df_total_cases* criado na iteração anterior, pois já temos organizados os países com mais casos. Utilizamos o `.iloc[1:6,]` para retornar as primeiras linhas excluindo a linha 0, pois é o resultado acumulado para o mundo."
      ]
    },
    {
      "cell_type": "code",
      "metadata": {
        "id": "HpEw0VF_Twlb",
        "colab_type": "code",
        "colab": {
          "base_uri": "https://localhost:8080/",
          "height": 296
        },
        "outputId": "046cac30-a7aa-462e-b95a-802908b1a053"
      },
      "source": [
        "sns.barplot(x='location', y='total_cases', data=df_total_cases.iloc[1:6,], palette=\"Paired\");"
      ],
      "execution_count": 43,
      "outputs": [
        {
          "output_type": "display_data",
          "data": {
            "image/png": "[encoded data removed]",
            "text/plain": [
              "<Figure size 432x288 with 1 Axes>"
            ]
          },
          "metadata": {
            "tags": []
          }
        }
      ]
    },
    {
      "cell_type": "markdown",
      "metadata": {
        "id": "eog3b8qEdFMg",
        "colab_type": "text"
      },
      "source": [
        "Podemos ainda incrementar o gráfico, adicionando estilo, cores, título e nomes aos eixos."
      ]
    },
    {
      "cell_type": "code",
      "metadata": {
        "id": "tt93KfkhpgD6",
        "colab_type": "code",
        "colab": {
          "base_uri": "https://localhost:8080/",
          "height": 293
        },
        "outputId": "19b94f7a-cd18-4090-93ef-2ec91469a148"
      },
      "source": [
        "#definir o estilo\n",
        "sns.set(style=\"white\", palette=\"muted\", color_codes=True)\n",
        "\n",
        "#criar o objeto gráfico\n",
        "f, ax1 = plt.subplots()\n",
        "\n",
        "#Gráfico com mais casos (aqui excluimos a linha mundo usando a fórmula .iloc[1:6,])\n",
        "sns.barplot(x='location', y='total_cases', data=df_total_cases.iloc[1:6,], palette=\"Paired\", ax=ax1)\n",
        "ax1.axhline(0, clip_on=False)\n",
        "\n",
        "#Definindo título e nomes aos eixos\n",
        "ax1.set_title(\"Países com mais casos confirmados em {}\" .format(print_recente))\n",
        "ax1.set_ylabel(\"Casos Confirmados\")\n",
        "ax1.set_xlabel(\"Países\")\n",
        "\n",
        "#Finalizando os Gráficos\n",
        "sns.despine(bottom=True)\n",
        "plt.tight_layout()"
      ],
      "execution_count": 44,
      "outputs": [
        {
          "output_type": "display_data",
          "data": {
            "image/png": "[encoded data removed]",
            "text/plain": [
              "<Figure size 432x288 with 1 Axes>"
            ]
          },
          "metadata": {
            "tags": []
          }
        }
      ]
    },
    {
      "cell_type": "markdown",
      "metadata": {
        "id": "NTDHb5uMQrGp",
        "colab_type": "text"
      },
      "source": [
        "#### Mais Casos Reportados normalizando a população"
      ]
    },
    {
      "cell_type": "markdown",
      "metadata": {
        "id": "8fMD-h75cGdE",
        "colab_type": "text"
      },
      "source": [
        "Para plotar um gráfico de barras para os 5 países com mais casos por milhão de habitantes usamos:\n",
        "\n",
        "Observação: aqui vamos usar o dataset *df_total_cases_per_million* criado na iteração anterior, pois já temos organizados os países com mais casos. Utilizamos o `.iloc[1:6,]` para retornar as primeiras linhas excluindo a linha 0, pois é o resultado acumulado para o mundo."
      ]
    },
    {
      "cell_type": "code",
      "metadata": {
        "id": "wSZJzS-3T37l",
        "colab_type": "code",
        "colab": {
          "base_uri": "https://localhost:8080/",
          "height": 285
        },
        "outputId": "11c24477-a904-4eef-bfb0-570a3d1b9537"
      },
      "source": [
        "sns.barplot(x='location', y='total_cases_per_million', data=df_total_cases_per_million.iloc[1:6,], palette=\"deep\");"
      ],
      "execution_count": 45,
      "outputs": [
        {
          "output_type": "display_data",
          "data": {
            "image/png": "[encoded data removed]",
            "text/plain": [
              "<Figure size 432x288 with 1 Axes>"
            ]
          },
          "metadata": {
            "tags": []
          }
        }
      ]
    },
    {
      "cell_type": "markdown",
      "metadata": {
        "id": "hZxPNdGmQwfP",
        "colab_type": "text"
      },
      "source": [
        "#### Mais Mortes Reportadas"
      ]
    },
    {
      "cell_type": "markdown",
      "metadata": {
        "id": "JU21hGCcdkDp",
        "colab_type": "text"
      },
      "source": [
        "Podemos ainda elaborar um gráfico que nos mostre os 5 países com mais mortes registradas\n",
        "\n",
        "Observação: aqui vamos usar o dataset *df_total_deaths* criado na iteração anterior, pois já temos organizados os países com mai casos. Utilizamos o `.iloc[1:6,]` para retornar as primeiras linhas excluindo a linha 0, pois é o resultado acumulado para o mundo."
      ]
    },
    {
      "cell_type": "code",
      "metadata": {
        "id": "aHeoA9tZp0GF",
        "colab_type": "code",
        "colab": {
          "base_uri": "https://localhost:8080/",
          "height": 293
        },
        "outputId": "5f3ca634-f5b1-4816-fe73-5f790395236e"
      },
      "source": [
        "#definir o estilo\n",
        "sns.set(style=\"white\", palette=\"muted\", color_codes=True)\n",
        "\n",
        "f, ax2 = plt.subplots()\n",
        "\n",
        "#segundo Gráfico com mais mortes\n",
        "sns.barplot(x='location', y='total_deaths', data=df_total_deaths.iloc[1:6,], palette=\"deep\", ax=ax2)\n",
        "ax2.axhline(0, clip_on=False)\n",
        "ax2.set_title(\"Países com mais mortes registradas em {}\" .format(print_recente))\n",
        "ax2.set_ylabel(\"Mortes Registradas\")\n",
        "ax2.set_xlabel(\"Países\")\n",
        "\n",
        "#Finalizando os Gráficos\n",
        "sns.despine(bottom=True)\n",
        "plt.tight_layout()"
      ],
      "execution_count": 46,
      "outputs": [
        {
          "output_type": "display_data",
          "data": {
            "image/png": "[encoded data removed]",
            "text/plain": [
              "<Figure size 432x288 with 1 Axes>"
            ]
          },
          "metadata": {
            "tags": []
          }
        }
      ]
    },
    {
      "cell_type": "markdown",
      "metadata": {
        "id": "dbavy-oB6Gjv",
        "colab_type": "text"
      },
      "source": [
        "## Escolha o País para verificar os dados"
      ]
    },
    {
      "cell_type": "code",
      "metadata": {
        "id": "4VAqicp365db",
        "colab_type": "code",
        "colab": {
          "base_uri": "https://localhost:8080/",
          "height": 55
        },
        "outputId": "03273afb-f9f1-49d9-f4d2-b799427fdac3"
      },
      "source": [
        "#primeiro vamos criar uma lista de países:\n",
        "location = df['location'].drop_duplicates().sort_values(ascending=True).tolist()\n",
        "print(location)"
      ],
      "execution_count": 47,
      "outputs": [
        {
          "output_type": "stream",
          "text": [
            "['Afghanistan', 'Albania', 'Algeria', 'Andorra', 'Angola', 'Anguilla', 'Antigua and Barbuda', 'Argentina', 'Armenia', 'Aruba', 'Australia', 'Austria', 'Azerbaijan', 'Bahamas', 'Bahrain', 'Bangladesh', 'Barbados', 'Belarus', 'Belgium', 'Belize', 'Benin', 'Bermuda', 'Bhutan', 'Bolivia', 'Bonaire Sint Eustatius and Saba', 'Bosnia and Herzegovina', 'Botswana', 'Brazil', 'British Virgin Islands', 'Brunei', 'Bulgaria', 'Burkina Faso', 'Burundi', 'Cambodia', 'Cameroon', 'Canada', 'Cape Verde', 'Cayman Islands', 'Central African Republic', 'Chad', 'Chile', 'China', 'Colombia', 'Comoros', 'Congo', 'Costa Rica', \"Cote d'Ivoire\", 'Croatia', 'Cuba', 'Curacao', 'Cyprus', 'Czech Republic', 'Democratic Republic of Congo', 'Denmark', 'Djibouti', 'Dominica', 'Dominican Republic', 'Ecuador', 'Egypt', 'El Salvador', 'Equatorial Guinea', 'Eritrea', 'Estonia', 'Ethiopia', 'Faeroe Islands', 'Falkland Islands', 'Fiji', 'Finland', 'France', 'French Polynesia', 'Gabon', 'Gambia', 'Georgia', 'Germany', 'Ghana', 'Gibraltar', 'Greece', 'Greenland', 'Grenada', 'Guam', 'Guatemala', 'Guernsey', 'Guinea', 'Guinea-Bissau', 'Guyana', 'Haiti', 'Honduras', 'Hong Kong', 'Hungary', 'Iceland', 'India', 'Indonesia', 'International', 'Iran', 'Iraq', 'Ireland', 'Isle of Man', 'Israel', 'Italy', 'Jamaica', 'Japan', 'Jersey', 'Jordan', 'Kazakhstan', 'Kenya', 'Kosovo', 'Kuwait', 'Kyrgyzstan', 'Laos', 'Latvia', 'Lebanon', 'Lesotho', 'Liberia', 'Libya', 'Liechtenstein', 'Lithuania', 'Luxembourg', 'Macedonia', 'Madagascar', 'Malawi', 'Malaysia', 'Maldives', 'Mali', 'Malta', 'Mauritania', 'Mauritius', 'Mexico', 'Moldova', 'Monaco', 'Mongolia', 'Montenegro', 'Montserrat', 'Morocco', 'Mozambique', 'Myanmar', 'Namibia', 'Nepal', 'Netherlands', 'New Caledonia', 'New Zealand', 'Nicaragua', 'Niger', 'Nigeria', 'Northern Mariana Islands', 'Norway', 'Oman', 'Pakistan', 'Palestine', 'Panama', 'Papua New Guinea', 'Paraguay', 'Peru', 'Philippines', 'Poland', 'Portugal', 'Puerto Rico', 'Qatar', 'Romania', 'Russia', 'Rwanda', 'Saint Kitts and Nevis', 'Saint Lucia', 'Saint Vincent and the Grenadines', 'San Marino', 'Sao Tome and Principe', 'Saudi Arabia', 'Senegal', 'Serbia', 'Seychelles', 'Sierra Leone', 'Singapore', 'Sint Maarten (Dutch part)', 'Slovakia', 'Slovenia', 'Somalia', 'South Africa', 'South Korea', 'South Sudan', 'Spain', 'Sri Lanka', 'Sudan', 'Suriname', 'Swaziland', 'Sweden', 'Switzerland', 'Syria', 'Taiwan', 'Tajikistan', 'Tanzania', 'Thailand', 'Timor', 'Togo', 'Trinidad and Tobago', 'Tunisia', 'Turkey', 'Turks and Caicos Islands', 'Uganda', 'Ukraine', 'United Arab Emirates', 'United Kingdom', 'United States', 'United States Virgin Islands', 'Uruguay', 'Uzbekistan', 'Vatican', 'Venezuela', 'Vietnam', 'Western Sahara', 'World', 'Yemen', 'Zambia', 'Zimbabwe']\n"
          ],
          "name": "stdout"
        }
      ]
    },
    {
      "cell_type": "code",
      "metadata": {
        "id": "63XboGGT7oMT",
        "colab_type": "code",
        "cellView": "both",
        "colab": {
          "base_uri": "https://localhost:8080/",
          "height": 35
        },
        "outputId": "3e527517-45f6-49c8-9e50-065096ee2494"
      },
      "source": [
        "#@title Escolha o País para obter um resumo dos dados disponível: {run: \"auto\"}\n",
        "\n",
        "escolha_o_pais = 'World' #@param ['Afghanistan', 'Albania', 'Algeria', 'Andorra', 'Angola', 'Anguilla', 'Antigua and Barbuda', 'Argentina', 'Armenia', 'Aruba', 'Australia', 'Austria', 'Azerbaijan', 'Bahamas', 'Bahrain', 'Bangladesh', 'Barbados', 'Belarus', 'Belgium', 'Belize', 'Benin', 'Bermuda', 'Bhutan', 'Bolivia', 'Bonaire Sint Eustatius and Saba', 'Bosnia and Herzegovina', 'Botswana', 'Brazil', 'British Virgin Islands', 'Brunei', 'Bulgaria', 'Burkina Faso', 'Burundi', 'Cambodia', 'Cameroon', 'Canada', 'Cape Verde', 'Cayman Islands', 'Central African Republic', 'Chad', 'Chile', 'China', 'Colombia', 'Comoros', 'Congo', 'Costa Rica', \"Cote d'Ivoire\", 'Croatia', 'Cuba', 'Curacao', 'Cyprus', 'Czech Republic', 'Democratic Republic of Congo', 'Denmark', 'Djibouti', 'Dominica', 'Dominican Republic', 'Ecuador', 'Egypt', 'El Salvador', 'Equatorial Guinea', 'Eritrea', 'Estonia', 'Ethiopia', 'Faeroe Islands', 'Falkland Islands', 'Fiji', 'Finland', 'France', 'French Polynesia', 'Gabon', 'Gambia', 'Georgia', 'Germany', 'Ghana', 'Gibraltar', 'Greece', 'Greenland', 'Grenada', 'Guam', 'Guatemala', 'Guernsey', 'Guinea', 'Guinea-Bissau', 'Guyana', 'Haiti', 'Honduras', 'Hong Kong', 'Hungary', 'Iceland', 'India', 'Indonesia', 'International', 'Iran', 'Iraq', 'Ireland', 'Isle of Man', 'Israel', 'Italy', 'Jamaica', 'Japan', 'Jersey', 'Jordan', 'Kazakhstan', 'Kenya', 'Kosovo', 'Kuwait', 'Kyrgyzstan', 'Laos', 'Latvia', 'Lebanon', 'Lesotho', 'Liberia', 'Libya', 'Liechtenstein', 'Lithuania', 'Luxembourg', 'Macedonia', 'Madagascar', 'Malawi', 'Malaysia', 'Maldives', 'Mali', 'Malta', 'Mauritania', 'Mauritius', 'Mexico', 'Moldova', 'Monaco', 'Mongolia', 'Montenegro', 'Montserrat', 'Morocco', 'Mozambique', 'Myanmar', 'Namibia', 'Nepal', 'Netherlands', 'New Caledonia', 'New Zealand', 'Nicaragua', 'Niger', 'Nigeria', 'Northern Mariana Islands', 'Norway', 'Oman', 'Pakistan', 'Palestine', 'Panama', 'Papua New Guinea', 'Paraguay', 'Peru', 'Philippines', 'Poland', 'Portugal', 'Puerto Rico', 'Qatar', 'Romania', 'Russia', 'Rwanda', 'Saint Kitts and Nevis', 'Saint Lucia', 'Saint Vincent and the Grenadines', 'San Marino', 'Sao Tome and Principe', 'Saudi Arabia', 'Senegal', 'Serbia', 'Seychelles', 'Sierra Leone', 'Singapore', 'Sint Maarten (Dutch part)', 'Slovakia', 'Slovenia', 'Somalia', 'South Africa', 'South Korea', 'South Sudan', 'Spain', 'Sri Lanka', 'Sudan', 'Suriname', 'Swaziland', 'Sweden', 'Switzerland', 'Syria', 'Taiwan', 'Tajikistan', 'Tanzania', 'Thailand', 'Timor', 'Togo', 'Trinidad and Tobago', 'Tunisia', 'Turkey', 'Turks and Caicos Islands', 'Uganda', 'Ukraine', 'United Arab Emirates', 'United Kingdom', 'United States', 'United States Virgin Islands', 'Uruguay', 'Uzbekistan', 'Vatican', 'Venezuela', 'Vietnam', 'Western Sahara', 'World', 'Yemen', 'Zambia', 'Zimbabwe']\n",
        "\n",
        "# imprimir os valores dos formulários\n",
        "print(\"Acompanhe a evolução dos casos para {}.\" .format(escolha_o_pais))\n",
        "df_search = df.loc[df.location == escolha_o_pais].copy()\n"
      ],
      "execution_count": 88,
      "outputs": [
        {
          "output_type": "stream",
          "text": [
            "Acompanhe a evolução dos casos para World.\n"
          ],
          "name": "stdout"
        }
      ]
    },
    {
      "cell_type": "markdown",
      "metadata": {
        "id": "FdCGKIex-8uj",
        "colab_type": "text"
      },
      "source": [
        "### Primeiros registros\n",
        "\n",
        "A partir do país escolhido quando foi registrada a primeira morte?"
      ]
    },
    {
      "cell_type": "code",
      "metadata": {
        "id": "qqqQ5_VF-8Mt",
        "colab_type": "code",
        "colab": {
          "base_uri": "https://localhost:8080/",
          "height": 35
        },
        "outputId": "cb0eba1a-5ed7-4de9-887d-c5cdbef9beed"
      },
      "source": [
        "#procura no dataset df_search quando os casos superaram 0 (!= não)\n",
        "first_death = df_search.loc[df_search['new_deaths'] != 0.0].head(1)\n",
        "#retorna o valor do item na coluna date\n",
        "first_date = first_death['date'].item()\n",
        "#transforma o valor obtido na iteração anteior em data\n",
        "first_date = np.datetime64(first_date, 'D')\n",
        "print(\"A primeira morte foi registrada em {}.\" .format(first_date))\n"
      ],
      "execution_count": 89,
      "outputs": [
        {
          "output_type": "stream",
          "text": [
            "A primeira morte foi registrada em 2020-01-11.\n"
          ],
          "name": "stdout"
        }
      ]
    },
    {
      "cell_type": "markdown",
      "metadata": {
        "id": "dFiwsHhNMg_i",
        "colab_type": "text"
      },
      "source": [
        "Em qual semana foi registrado a primeira morte? Qual o maior número de novos casos que o país selecionado registrou em uma semana?"
      ]
    },
    {
      "cell_type": "code",
      "metadata": {
        "id": "YCMLPjlDMfrx",
        "colab_type": "code",
        "colab": {
          "base_uri": "https://localhost:8080/",
          "height": 54
        },
        "outputId": "7e962202-4bad-41ba-a958-03b666745792"
      },
      "source": [
        "#retorna o valor da semana onde ocorreu a primeira morte, com base na primeira iteração\n",
        "first_week = first_death['week_number'].item()\n",
        "print(\"A primeira semana onde foi regisrado uma morte foi a semana número {}. \".format (first_week))\n",
        "#retorna o valor da última coluna do dataset\n",
        "max_week = df_search['week_number'].max()\n",
        "#retorna o maior numero de novos casos\n",
        "max_casos = df_search['new_cases'].max()\n",
        "print(\"O maior número de casos registrados em uma semana é {:,.0f}. \".format (max_casos))"
      ],
      "execution_count": 98,
      "outputs": [
        {
          "output_type": "stream",
          "text": [
            "A primeira semana onde foi regisrado uma morte foi a semana número 2. \n",
            "O maior número de casos registrados em uma semana é 206,641. \n"
          ],
          "name": "stdout"
        }
      ]
    },
    {
      "cell_type": "markdown",
      "metadata": {
        "id": "c4kcR4GcLXEJ",
        "colab_type": "text"
      },
      "source": [
        "### Novos Casos por Semana\n",
        "\n",
        "Como os novos casos estão distribuídos nas semanas? A primeiras semanas registraram mais casos? A velocidade de registro de novos casos está diminuindo?"
      ]
    },
    {
      "cell_type": "code",
      "metadata": {
        "id": "ZfnDKWNID5Ef",
        "colab_type": "code",
        "colab": {
          "base_uri": "https://localhost:8080/",
          "height": 365
        },
        "outputId": "df594188-edf2-4a77-bb06-c7c46527971c"
      },
      "source": [
        "plt.close()\n",
        "#definir o estilo\n",
        "sns.set(style=\"white\", color_codes=True)\n",
        "#criar o objeto gráfico\n",
        "fig, ax4 = plt.subplots(figsize=(7, 5))\n",
        "#definir título e nome do eixo\n",
        "ax4.set_title(\"Acompanhamento de Casos para {}.\" .format(escolha_o_pais), fontsize=16)\n",
        "ax4.set_ylabel('Novos Casos', fontsize=16)\n",
        "#dados para o grafico de barra barplot\n",
        "ax4 = sns.barplot(x='week_number', y='new_cases', data=df_search, palette='summer')\n",
        "\n",
        "\n",
        "#adicionar seta na semana onde foi registrada a primeira morte\n",
        "ax4.annotate('primeira morte registrada', xy=(first_week, 2), xytext=(1, first_week+(max_casos/4)),\n",
        "            arrowprops=dict(facecolor='red', shrink=0.05))\n",
        "fig.tight_layout();\n"
      ],
      "execution_count": 83,
      "outputs": [
        {
          "output_type": "display_data",
          "data": {
            "image/png": "[encoded data removed]",
            "text/plain": [
              "<Figure size 504x360 with 1 Axes>"
            ]
          },
          "metadata": {
            "tags": []
          }
        }
      ]
    },
    {
      "cell_type": "markdown",
      "metadata": {
        "id": "5npCGbgJLjCI",
        "colab_type": "text"
      },
      "source": [
        "### Casos Totais\n",
        "Como o resgistro total de casos está evoluindo?"
      ]
    },
    {
      "cell_type": "code",
      "metadata": {
        "id": "hw_PnsMrIYMx",
        "colab_type": "code",
        "colab": {
          "base_uri": "https://localhost:8080/",
          "height": 357
        },
        "outputId": "b9ab4c13-a30d-49b5-e008-589014092d7b"
      },
      "source": [
        "plt.close()\n",
        "#definir o estilo\n",
        "sns.set(style=\"white\", color_codes=True)\n",
        "#criar o objeto gráfico\n",
        "fig, ax5 = plt.subplots(figsize=(7, 5))\n",
        "#definir título e nome do eixo\n",
        "ax5.set_title(\"Acompanhamento de Casos para {}.\" .format(escolha_o_pais), fontsize=16)\n",
        "ax5.set_ylabel('Total de Casos', fontsize=16)\n",
        "#dados para o grafico de linha lineplot\n",
        "ax5 = sns.lineplot(x='week_number', y='total_cases', data = df_search, sort=False, color= 'blue')\n",
        "#define os valores iniciais e finais dos eixos\n",
        "ax5.set_xlim(0, max_week)\n",
        "ax5.set_ylim(0,)\n",
        "#show plot\n",
        "plt.show();\n",
        "plt.close()"
      ],
      "execution_count": 84,
      "outputs": [
        {
          "output_type": "display_data",
          "data": {
            "image/png": "[encoded data removed]",
            "text/plain": [
              "<Figure size 504x360 with 1 Axes>"
            ]
          },
          "metadata": {
            "tags": []
          }
        }
      ]
    },
    {
      "cell_type": "markdown",
      "metadata": {
        "id": "0wT7jT9XLpCO",
        "colab_type": "text"
      },
      "source": [
        "### Novos Casos x Casos acumulados\n",
        "\n",
        "Sobrepondo os dois gráficos anteiores, podemos verificar como a evolução do registro de novos casos está impactando o total de casos acumulado. E podemos ainda analisar se o número de infectados está acelerando ou reduzindo a velocidade de contágio."
      ]
    },
    {
      "cell_type": "code",
      "metadata": {
        "id": "1lC-XKnJbAk7",
        "colab_type": "code",
        "colab": {
          "base_uri": "https://localhost:8080/",
          "height": 347
        },
        "outputId": "c24d330e-9768-4ffe-fca2-07d239798ece"
      },
      "source": [
        "plt.close()\n",
        "#criar o objeto gráfico\n",
        "f, ax8 = plt.subplots(figsize=(10, 5))\n",
        "#dados para o gráfico de barra barplot\n",
        "ax8 = sns.barplot(x='week_number', y='new_cases', data=df_search, palette='summer') #define os dados para o gráfico de barra\n",
        "ax8.set_xlim(0,)\n",
        "\n",
        "#adicionar anotação da primeira morte registrada\n",
        "#no campo xy=(,) indica as coordenadas onde a seta começa, no campo xytext=(,) indica as coordenadas onde o texto começa e termina a seta\n",
        "ax8.annotate('primeira morte registrada', xy=(first_week, 2), xytext=(1, first_week+(max_casos/4)),\n",
        "            arrowprops=dict(facecolor='red', shrink=0.05)) \n",
        "\n",
        "\n",
        "ax9 = ax8.twinx() #passamos a informação que o eixo x é o mesmo e utilizaremos um eixo y secundário\n",
        "# dados para o gráfico de linha\n",
        "sns.lineplot(x='week_number', y='total_cases', data = df_search, ax=ax9, color=\"red\")\n",
        "#define os valores iniciais e finais dos eixos\n",
        "ax9.set_xlim(0, max_week)\n",
        "ax9.set_ylim(0,)\n",
        "\n",
        "#definir título e nome dos eixos\n",
        "ax8.set_title(\"Acompanhamento de Casos para {}.\" .format(escolha_o_pais), fontsize=16)#define os dados para o gráfico de linha\n",
        "ax8.set_ylabel(\"Novos Casos\")\n",
        "ax8.set_xlabel(\"Semana\")\n",
        "\n",
        "#apagar o número da semana do eixo x\n",
        "ax8.xaxis.set_major_formatter(plt.NullFormatter())\n",
        "\n",
        "plt.show()"
      ],
      "execution_count": 85,
      "outputs": [
        {
          "output_type": "display_data",
          "data": {
            "image/png": "[encoded data removed]",
            "text/plain": [
              "<Figure size 720x360 with 2 Axes>"
            ]
          },
          "metadata": {
            "tags": []
          }
        }
      ]
    },
    {
      "cell_type": "markdown",
      "metadata": {
        "id": "LCsiXvM3BcsO",
        "colab_type": "text"
      },
      "source": [
        "## Conclusão\n",
        "\n",
        "Um detalhe extremamente importante a ser destacado é que esses dados são medidos diariamente, e esse conjunto de dados ficará desatualizado \"rapidamente\".\n",
        "\n",
        "Entretanto, levando em consideração o contexto dos dados analisados na primeira parte desse notebook, vale a pena destacar que:\n",
        "\n",
        "* Os Estados Unidos estão disparados em relação aos casos e mortes.\n",
        "* A evolução dos casos no Brasil está em crescimento.\n",
        "* No geral, casos e mortes ainda estão crescendo.\n",
        "\n",
        "Muitas outras análises podem ser retiradas desse conjunto de dados, mas com essa análise inicial já conseguimos retirar muitas informações."
      ]
    },
    {
      "cell_type": "markdown",
      "metadata": {
        "id": "-eFQZydM9O9J",
        "colab_type": "text"
      },
      "source": [
        "Como parte da provocação feita no curso de **Data Science na Prática** fui desafiado explorar os dados disponível e explicar os passos dessa análise.\n",
        "Se você ficou interessado no curso pode obter mais informações em:\n",
        "\n",
        "<img alt=\"Colaboratory logo\" width=\"15%\" src=\"https://raw.githubusercontent.com/carlosfab/escola-data-science/master/img/novo_logo_bg_claro.png\">\n",
        "\n",
        "#### **Data Science na Prática 2.0**\n",
        "*by [sigmoidal.ai](https://sigmoidal.ai)*  \n",
        "\n",
        "---\n",
        "  "
      ]
    }
  ]
}