{
  "nbformat": 4,
  "nbformat_minor": 0,
  "metadata": {
    "colab": {
      "name": "Reconhecendo-Sinais-Trânsito.ipynb",
      "provenance": [],
      "authorship_tag": "ABX9TyOF1j65QQkE6uiV4tsqzXn3",
      "include_colab_link": true
    },
    "kernelspec": {
      "name": "python3",
      "display_name": "Python 3"
    },
    "accelerator": "GPU"
  },
  "cells": [
    {
      "cell_type": "markdown",
      "metadata": {
        "id": "view-in-github",
        "colab_type": "text"
      },
      "source": [
        "<a href=\"https://colab.research.google.com/github/mabittar/Portfolio/blob/master/Reconhecendo_Sinais_Tr%C3%A2nsito.ipynb\" target=\"_parent\"><img src=\"https://colab.research.google.com/assets/colab-badge.svg\" alt=\"Open In Colab\"/></a>"
      ]
    },
    {
      "cell_type": "markdown",
      "metadata": {
        "id": "wbpkWdKGfvqE",
        "colab_type": "text"
      },
      "source": [
        "# Reconhecimento de Sinais de Trânsito\n",
        "\n",
        "Você ja deve ter ouvido sobre veículos autônomos, que são capazes de conduzir o veículo sozinho até o destino desejado. Mas para alcançar o nível 5 em autonomia, é necessário que o veículo entenda e obdeça todas as leis de trânsito.\n",
        "\n",
        "No campo da Inteligência artificial e em tecnologia, muitos pesquisadores e grandes companhias como Tesla, Uber, Google, Mercedes, toyota estão desenvolvendo seus próprios carros autônomos. Para obter a acurácia necessária nessa tecnologia, os veículos precisam reconhecer e interpretar as placas de sinalização e para que tomarem as decisões esperadas.\n",
        "\n",
        "<center><img alt=\"auto drive\" src=\"https://uploads.volkswagen-newsroom.com/system/production/media/18995/images/7c11c1f9c948e33a0dfd6614ab81e4152fe3bee6/DB2014AU01094_x750.jpg?1580944803\"></center>\n"
      ]
    },
    {
      "cell_type": "markdown",
      "metadata": {
        "id": "4BLJ7JV9iOtP",
        "colab_type": "text"
      },
      "source": [
        "## Sinais de Trânsito\n",
        "\n",
        "Mas o que são sinais de trânsito?\n",
        "\n",
        "As placas ou sinais de trânsito estão localizadas ao lado ou suspensas sobre a via, transmitindo mensagens, através de legendas e maioritariamente símbolos conhecidos anteriormente e legalmente instituídos. Estas placas têm como objetivo manter o fluxo de trânsito em ordem e em segurança.\n",
        "\n",
        "Existem diferentes sinais de trânsito, por exemplo que delimitam a velocidade, conversão proibida, obrigatório a conversão a direita, proibido veículos pesadas. O processo de identificação de sinais de trânsito envolve classificar a qual grupo ele pertence (placas de regulamentação, placas de advertência.\n",
        "\n",
        "Para esse projeto utilizarei um dataset público disponível no [Kraggle](https://www.kaggle.com/meowmeowmeowmeowmeow/gtsrb-german-traffic-sign). \n",
        "\n",
        "Infelizmente não encontrei as placas categorizadas para sinais de trânsito brasileiro.\n"
      ]
    },
    {
      "cell_type": "code",
      "metadata": {
        "id": "M2dcM_sMfrLV",
        "colab_type": "code",
        "colab": {}
      },
      "source": [
        "# !pip install kaggle; #caso seja necessário atualizar a biblioteca no google colab\n",
        "\n",
        "from google.colab import files\n",
        "files.upload() #enviar o arquivo kaggle.json\n",
        "\n",
        "# antes de importar o dataset nós iremos provisionar o local de armazenamento\n",
        "!mkdir -p ~/.kaggle\n",
        "!cp kaggle.json ~/.kaggle/\n",
        "# Alterar a permissão para evitar o aviso durante a partida da ferramenta Kaggle\n",
        "# This permissions change avoids a warning on Kaggle tool startup.\n",
        "!chmod 600 ~/.kaggle/kaggle.json\n",
        "\n",
        "# Aceitar a competição e copiar o endereço da API para o download do dataset\n",
        "!kaggle datasets download -d meowmeowmeowmeowmeow/gtsrb-german-traffic-sign\n",
        "\n",
        "# Descompactar o arquivo baixado\n",
        "!unzip \\*.zip  && rm *.zip"
      ],
      "execution_count": null,
      "outputs": []
    },
    {
      "cell_type": "code",
      "metadata": {
        "id": "PzSXSJ0lcNPK",
        "colab_type": "code",
        "colab": {
          "base_uri": "https://localhost:8080/",
          "height": 54
        },
        "outputId": "53de8e3b-f1d7-4a11-9ed6-9b0492dcb1cb"
      },
      "source": [
        "from google.colab import drive\n",
        "!ls /content/"
      ],
      "execution_count": 18,
      "outputs": [
        {
          "output_type": "stream",
          "text": [
            "kaggle.json  Meta      sample_data  Test      train  Train.csv\n",
            "meta\t     Meta.csv  test\t    Test.csv  Train\n"
          ],
          "name": "stdout"
        }
      ]
    },
    {
      "cell_type": "markdown",
      "metadata": {
        "id": "8l8rUvCffyNI",
        "colab_type": "text"
      },
      "source": [
        "### Simple Dataset Loader\n",
        "\n",
        "O objeto (class) a seguir carrega o dataset a partir do drive e carrega os dados e rótulos (labels), que são tuplas de matriz numpy com dados e labels."
      ]
    },
    {
      "cell_type": "code",
      "metadata": {
        "id": "1d6zo4IAsQsi",
        "colab_type": "code",
        "colab": {}
      },
      "source": [
        "# import the necessary packages\n",
        "import numpy as np\n",
        "import cv2\n",
        "import os\n",
        "\n",
        "# classe Simple Dataset Loader\n",
        "# objeto para leitura dos dados\n",
        "class SimpleDatasetLoader:\n",
        "\tdef __init__(self, preprocessors=None):\n",
        "\t\t# instacia o preprocessador\n",
        "\t\tself.preprocessors = preprocessors\n",
        "\n",
        "\t\t# se o preprocessardor for None, inicializa como uma lista vazia\n",
        "\t\tif self.preprocessors is None:\n",
        "\t\t\tself.preprocessors = []\n",
        "\n",
        "\tdef load(self, imagePaths, verbose=-1):\n",
        "\t\t# inicializa a lista de características (features) e rótulos (labels)\n",
        "\t\tdata = []\n",
        "\t\tlabels = []\n",
        "\t\tclasses = 43\n",
        "\n",
        "\t\t# loop sobre as imagens\n",
        "\t\tfor (i, imagePath) in enumerate(imagePaths):\n",
        "\t\t\t# carrega as imagens e extrai o classe de rótulos assumindo que\n",
        "\t\t\t# o caminho siga o formato /path/to/dataset/{class}/{image}.jpg\n",
        "\t\t\timage = cv2.imread(imagePath)\n",
        "\t\t\tlabel = imagePath.split(os.path.sep)[-2]\n",
        "\n",
        "\t\t\t# checa se o preprocessaor não é nulo\n",
        "\t\t\tif self.preprocessors is not None:\n",
        "\t\t\t\t# loop no preprocessaor e aplicar para cada imagem \n",
        "\t\t\t\tfor p in self.preprocessors:\n",
        "\t\t\t\t\timage = p.preprocess(image)\n",
        "\n",
        "\t\t\t# trata a imagem processada como \"feature vector\"\n",
        "\t\t\t# atualiza a lista de rótulos\n",
        "\t\t\tdata.append(image)\n",
        "\t\t\tlabels.append(label)\n",
        "\n",
        "\t\t\t# display do 'verbose' \n",
        "\t\t\tif verbose > 0 and i > 0 and (i + 1) % verbose == 0:\n",
        "\t\t\t\tprint(\"[INFO] imagem processada {}/{}\".format(i + 1,\n",
        "\t\t\t\t\tlen(imagePaths)))\n",
        "\n",
        "\t\t# retorna a tupla de dados e rótulos\n",
        "\t\treturn (np.array(data), np.array(labels))"
      ],
      "execution_count": 19,
      "outputs": []
    },
    {
      "cell_type": "markdown",
      "metadata": {
        "id": "31GYsK93gNoN",
        "colab_type": "text"
      },
      "source": [
        "### SimpleProcessor\n",
        "\n",
        "O objeto (class) SimpleProcessor recebe as imagens do banco de dados e redefine o tamanho de cada imagem no dataset"
      ]
    },
    {
      "cell_type": "code",
      "metadata": {
        "id": "pu_GUf97dZaP",
        "colab_type": "code",
        "colab": {}
      },
      "source": [
        "#Class Preprocessror \n",
        "class SimplePreprocessor:\n",
        "    # Method: Constructor\n",
        "    def __init__(self, width, height, interpolation=cv2.INTER_AREA):\n",
        "        \"\"\"\n",
        "        :param width: Image width\n",
        "        :param height: Image height\n",
        "        :param interpolation: Interpolation algorithm\n",
        "        \"\"\"\n",
        "        self.width = width\n",
        "        self.height = height\n",
        "        self.interpolation = interpolation\n",
        "\n",
        "    # Method: Used to resize the image to a fixed size (ignoring the aspect ratio)\n",
        "    def preprocess(self, image):\n",
        "        \"\"\"\n",
        "        :param image: Image\n",
        "        :return: Re-sized image\n",
        "        \"\"\"\n",
        "        return cv2.resize(image, (self.width, self.height), interpolation=self.interpolation)"
      ],
      "execution_count": 20,
      "outputs": []
    },
    {
      "cell_type": "markdown",
      "metadata": {
        "id": "VNxAxYD9iYTj",
        "colab_type": "text"
      },
      "source": [
        "Com os objetos podemos agora importar os dados para o nosso dataset de trabalho\n",
        "\n",
        " - data = imagens\n",
        "\n",
        " - labels = rótulos"
      ]
    },
    {
      "cell_type": "code",
      "metadata": {
        "id": "GXEHaSYRswjr",
        "colab_type": "code",
        "colab": {}
      },
      "source": [
        "from __main__ import SimplePreprocessor\n",
        "from __main__ import SimpleDatasetLoader\n",
        "from imutils import paths\n",
        "\n",
        "#caminho para a pasta\n",
        "imagePath = list(paths.list_images(\"/content/train/\"))\n",
        "#definindo o preprocessador para reduzir as imagens em 3.072 (32x32x3) pixels\n",
        "sp = SimplePreprocessor(32, 32)\n",
        "#instanciando o SDL\n",
        "sdl = SimpleDatasetLoader(preprocessors=[sp])\n",
        "\n",
        "#carregando as imagens e rótulos\n",
        "(data, labels) = sdl.load(imagePath)\n"
      ],
      "execution_count": 22,
      "outputs": []
    },
    {
      "cell_type": "markdown",
      "metadata": {
        "id": "QrBcfS3-iRcE",
        "colab_type": "text"
      },
      "source": [
        "Com as imagens importadas, vamos verificar nossas entradas: \n",
        " - quantidade\n",
        " - largura x altura em pixels\n",
        " - colorida (3) ou b&w (1)\n",
        " - verificar se a quantidade de rótulos coincide com a quantidade de imagens"
      ]
    },
    {
      "cell_type": "code",
      "metadata": {
        "id": "NYz83QMgx7Jx",
        "colab_type": "code",
        "colab": {
          "base_uri": "https://localhost:8080/",
          "height": 54
        },
        "outputId": "c782bde7-0301-4780-d489-8c1d1c1f4ad5"
      },
      "source": [
        "print(\"Tamanho do dataset {} (Quantidade, largura (px), altura(px), 3=rgb)\" .format(data.shape))\n",
        "print(\"Rótulos {}\" .format(labels.shape))"
      ],
      "execution_count": 23,
      "outputs": [
        {
          "output_type": "stream",
          "text": [
            "Tamanho do dataset (39209, 32, 32, 3) (Quantidade, largura (px), altura(px), 3=rgb)\n",
            "Rótulos (39209,)\n"
          ],
          "name": "stdout"
        }
      ]
    },
    {
      "cell_type": "markdown",
      "metadata": {
        "id": "kcbAJEH8i0lb",
        "colab_type": "text"
      },
      "source": [
        "A partir da API `Scikit Learn` iremos importar o train-test-split.\n",
        "\n",
        "Da biblioteca `Keras` iremos importar o encoder para os labels."
      ]
    },
    {
      "cell_type": "code",
      "metadata": {
        "id": "FRbR0WXCeX-4",
        "colab_type": "code",
        "colab": {}
      },
      "source": [
        "#1. importando as bibliotecas necessárias\n",
        "from sklearn.model_selection import train_test_split\n",
        "from keras.utils import to_categorical\n",
        "\n",
        "#2. dividindo o dataset em treino e teste\n",
        "X_train, X_test, y_train, y_test = train_test_split(data, labels, test_size=0.2, random_state=42)\n",
        "\n",
        "\n",
        "#3. Enconder do vetor alvo\n",
        "y_train = to_categorical(y_train, 43)\n",
        "y_test = to_categorical(y_test, 43) "
      ],
      "execution_count": 24,
      "outputs": []
    },
    {
      "cell_type": "markdown",
      "metadata": {
        "id": "u1HbRhFJnZdo",
        "colab_type": "text"
      },
      "source": [
        "## Rede Neural Convolucional\n",
        "\n",
        "Quando tratamos de identificação e processamento de imagens, um dos métodos que vêm sendo aplicado com maior sucesso é um método de `Deep Learning` conhecido como **Convolutional Neural Network - CNN** ou (ConvNet).\n",
        "\n",
        "Neste [artigo](\"https://data-flair.training/blogs/convolutional-neural-networks-tutorial/\") é possível entender como uma rede neural interpreta uma imagem.\n",
        "\n",
        "<center><img alt=\"ConvNet\" src=\"https://d2h0cx97tjks2p.cloudfront.net/blogs/wp-content/uploads/sites/2/2019/07/introduction-to-CNN.png\"></center>\n",
        "\n",
        "Resumidamente uma rede neural decompõe uma imagem em diversos pixels e utiliza uma variação de perceptrons multicamadas para *aprender* como uma imagem é formada.\n",
        "\n"
      ]
    },
    {
      "cell_type": "markdown",
      "metadata": {
        "id": "1xKp1owHtSfA",
        "colab_type": "text"
      },
      "source": [
        "Da biblioteca `Keras` utilizaremos o modelo sequencial, pois conforme [documentação oficial](https://keras.io/guides/sequential_model/) é apropriado para uma pilha simples de camadas onde cada camada tem exatamente um tensor de entrada e um tensor de saída (para o nosso caso: reconhecer imagens).\n",
        "\n",
        "As camadas:\n",
        "\n",
        " - Conv2D ou 2D convolutional layer produz um tensor de saída (output), os hyper parâmetros `filters` define a dimensão de saída do tensor e o `kernel_size` especifica a altura e largurada janela convolutional 2D.\n",
        "\n",
        "- MaxPool2D: operação máxima de pooling para dados espaciais 2D. Reduz a resolução da representação de entrada tomando o valor máximo sobre a janela definida por pool_size para cada dimensão ao longo do eixo dos recursos.\n",
        "\n",
        "- Dropout: Aplica Dropout à entrada. A camada Dropout define aleatoriamente as unidades de entrada para 0 com uma frequência de taxa em cada etapa durante o tempo de treinamento, o que ajuda a evitar overfitting.\n",
        "\n",
        "- Flatten: Nivela a entrada. Não afeta o tamanho do batch.\n",
        "\n",
        "- Dense: Ela tem como objetivo calcular uma função de ativação em conjunto com os dados de entrada e pesos\n",
        "\n",
        "\n",
        "A imagem a seguir exemplifica os parâmetros anteiores\n",
        "\n",
        "<center><img alt = \"CNN\", src=\"https://www.codeproject.com/KB/AI/1273179/006443fd-821a-4e31-b017-7081e1028f75-r-700.Png\"></center>\n",
        "\n",
        "\n"
      ]
    },
    {
      "cell_type": "code",
      "metadata": {
        "id": "Ippf7QRYleOF",
        "colab_type": "code",
        "colab": {
          "base_uri": "https://localhost:8080/",
          "height": 745
        },
        "outputId": "1e4abbe4-6447-44b6-cab9-022cce4f7c79"
      },
      "source": [
        "import tensorflow as tf\n",
        "from keras.models import Sequential\n",
        "from keras.layers import Conv2D, MaxPool2D, Dense, Flatten, Dropout\n",
        "\n",
        "#1. Instaciando o modelo e definindo hyper parâmetros\n",
        "model = Sequential()\n",
        "model.add(Conv2D(filters=32, kernel_size=(5, 5), activation='relu', input_shape=X_train.shape[1:]))\n",
        "model.add(Conv2D(filters=64, kernel_size=(3, 3), activation='relu'))\n",
        "model.add(MaxPool2D(pool_size=(2, 2)))\n",
        "model.add(Dropout(rate=0.25))\n",
        "model.add(Conv2D(filters=64, kernel_size=(3,3), activation='relu'))\n",
        "model.add(Conv2D(filters=64, kernel_size=(3,3), activation='relu'))\n",
        "model.add(MaxPool2D(pool_size=(2,2)))\n",
        "model.add(Dropout(rate=0.25))\n",
        "model.add(Flatten())\n",
        "model.add(Dense(256, activation='relu' ))\n",
        "model.add(Dropout(rate=0.5))\n",
        "model.add(Dense(43, activation='softmax'))\n",
        "\n",
        "#2. Compilando o modelo\n",
        "model.compile(\n",
        "    loss='categorical_crossentropy', \n",
        "    optimizer='Adam', metrics=['accuracy']\n",
        "    )\n",
        "\n",
        "#3. definindo passos\n",
        "epochs = 20\n",
        "\n",
        "#4. Fit do modelo\n",
        "resultado = model.fit(X_train, y_train, batch_size=64, epochs=epochs, validation_data=(X_test, y_test))\n"
      ],
      "execution_count": 25,
      "outputs": [
        {
          "output_type": "stream",
          "text": [
            "Epoch 1/20\n",
            "491/491 [==============================] - 4s 8ms/step - loss: 1.8831 - accuracy: 0.5541 - val_loss: 0.2059 - val_accuracy: 0.9551\n",
            "Epoch 2/20\n",
            "491/491 [==============================] - 3s 7ms/step - loss: 0.3487 - accuracy: 0.9039 - val_loss: 0.0839 - val_accuracy: 0.9800\n",
            "Epoch 3/20\n",
            "491/491 [==============================] - 3s 7ms/step - loss: 0.1946 - accuracy: 0.9464 - val_loss: 0.0458 - val_accuracy: 0.9884\n",
            "Epoch 4/20\n",
            "491/491 [==============================] - 3s 7ms/step - loss: 0.1607 - accuracy: 0.9566 - val_loss: 0.0376 - val_accuracy: 0.9909\n",
            "Epoch 5/20\n",
            "491/491 [==============================] - 3s 7ms/step - loss: 0.1365 - accuracy: 0.9618 - val_loss: 0.0446 - val_accuracy: 0.9906\n",
            "Epoch 6/20\n",
            "491/491 [==============================] - 3s 7ms/step - loss: 0.1262 - accuracy: 0.9658 - val_loss: 0.0468 - val_accuracy: 0.9897\n",
            "Epoch 7/20\n",
            "491/491 [==============================] - 3s 7ms/step - loss: 0.1048 - accuracy: 0.9715 - val_loss: 0.0288 - val_accuracy: 0.9932\n",
            "Epoch 8/20\n",
            "491/491 [==============================] - 3s 7ms/step - loss: 0.1144 - accuracy: 0.9708 - val_loss: 0.0371 - val_accuracy: 0.9926\n",
            "Epoch 9/20\n",
            "491/491 [==============================] - 3s 7ms/step - loss: 0.1026 - accuracy: 0.9730 - val_loss: 0.0411 - val_accuracy: 0.9917\n",
            "Epoch 10/20\n",
            "491/491 [==============================] - 3s 7ms/step - loss: 0.0908 - accuracy: 0.9761 - val_loss: 0.0318 - val_accuracy: 0.9948\n",
            "Epoch 11/20\n",
            "491/491 [==============================] - 3s 7ms/step - loss: 0.0895 - accuracy: 0.9772 - val_loss: 0.0371 - val_accuracy: 0.9930\n",
            "Epoch 12/20\n",
            "491/491 [==============================] - 3s 7ms/step - loss: 0.1020 - accuracy: 0.9740 - val_loss: 0.0254 - val_accuracy: 0.9939\n",
            "Epoch 13/20\n",
            "491/491 [==============================] - 3s 7ms/step - loss: 0.1077 - accuracy: 0.9736 - val_loss: 0.0306 - val_accuracy: 0.9938\n",
            "Epoch 14/20\n",
            "491/491 [==============================] - 3s 7ms/step - loss: 0.1305 - accuracy: 0.9674 - val_loss: 0.0474 - val_accuracy: 0.9887\n",
            "Epoch 15/20\n",
            "491/491 [==============================] - 3s 7ms/step - loss: 0.1034 - accuracy: 0.9765 - val_loss: 0.0300 - val_accuracy: 0.9946\n",
            "Epoch 16/20\n",
            "491/491 [==============================] - 3s 7ms/step - loss: 0.0810 - accuracy: 0.9800 - val_loss: 0.0363 - val_accuracy: 0.9926\n",
            "Epoch 17/20\n",
            "491/491 [==============================] - 3s 7ms/step - loss: 0.1898 - accuracy: 0.9529 - val_loss: 0.0425 - val_accuracy: 0.9918\n",
            "Epoch 18/20\n",
            "491/491 [==============================] - 3s 7ms/step - loss: 0.1319 - accuracy: 0.9687 - val_loss: 0.0537 - val_accuracy: 0.9903\n",
            "Epoch 19/20\n",
            "491/491 [==============================] - 3s 7ms/step - loss: 0.1022 - accuracy: 0.9750 - val_loss: 0.0275 - val_accuracy: 0.9949\n",
            "Epoch 20/20\n",
            "491/491 [==============================] - 3s 7ms/step - loss: 0.0975 - accuracy: 0.9761 - val_loss: 0.0817 - val_accuracy: 0.9832\n"
          ],
          "name": "stdout"
        }
      ]
    },
    {
      "cell_type": "markdown",
      "metadata": {
        "id": "BeBlvKVWy1rZ",
        "colab_type": "text"
      },
      "source": [
        "Após 20 passos (epochs) o resultado da acurácia encontra-se estável.\n",
        "\n",
        "Vamos plotar os gráficos para avaliarmos os resultados"
      ]
    },
    {
      "cell_type": "code",
      "metadata": {
        "id": "oG1gnhVCs304",
        "colab_type": "code",
        "colab": {
          "base_uri": "https://localhost:8080/",
          "height": 591
        },
        "outputId": "ff4ba1f5-cd3c-43f2-dc3f-012fcdfbf728"
      },
      "source": [
        "import matplotlib.pyplot as plt\n",
        "import pandas as pd\n",
        "\n",
        "\n",
        "plt.figure(0)\n",
        "plt.plot(resultado.history['accuracy'], label='Acurácia do Treinamento')\n",
        "plt.plot(resultado.history['val_accuracy'], label='Resultado Acurácia')\n",
        "plt.title('Acurácia')\n",
        "plt.xlabel('Passos')\n",
        "plt.ylabel('accuracy')\n",
        "plt.legend()\n",
        "\n",
        "\n",
        "plt.figure(1)\n",
        "plt.plot(resultado.history['loss'], label='Perdas no Treinamento')\n",
        "plt.plot(resultado.history['val_loss'], label='Resultado de Perdas')\n",
        "plt.title('Perdas')\n",
        "plt.xlabel('Passos')\n",
        "plt.ylabel('perdas')\n",
        "plt.legend()"
      ],
      "execution_count": 26,
      "outputs": [
        {
          "output_type": "execute_result",
          "data": {
            "text/plain": [
              "<matplotlib.legend.Legend at 0x7f0369096f60>"
            ]
          },
          "metadata": {
            "tags": []
          },
          "execution_count": 26
        },
        {
          "output_type": "display_data",
          "data": {
            "image/png": "[encoded data removed]",
            "text/plain": [
              "<Figure size 432x288 with 1 Axes>"
            ]
          },
          "metadata": {
            "tags": [],
            "needs_background": "light"
          }
        },
        {
          "output_type": "display_data",
          "data": {
            "image/png": "[encoded data removed]",
            "text/plain": [
              "<Figure size 432x288 with 1 Axes>"
            ]
          },
          "metadata": {
            "tags": [],
            "needs_background": "light"
          }
        }
      ]
    },
    {
      "cell_type": "markdown",
      "metadata": {
        "id": "vdh33XHN3Oue",
        "colab_type": "text"
      },
      "source": [
        "## Teste do Modelo\n",
        "\n",
        "Nosso conjunto de dados contém uma pasta própria para execução dos teste. \n",
        "\n",
        "Já possuímos os detalhes relacionados ao caminho da imagem e seus respectivos rótulos de classe. Iremos recuperar o caminho e os rótulos da imagem usando pandas. \n",
        "\n",
        "Então, para prever o modelo, temos que redimensionar nossas imagens para 30 × 30 pixels e fazer um array numpy contendo todos os dados da imagem. \n",
        "\n",
        "Do `sklearn.metrics`, utilizaremos o *precision_score* e observamos como nosso modelo previu os rótulos reais."
      ]
    },
    {
      "cell_type": "code",
      "metadata": {
        "id": "bXe_LYma1C0f",
        "colab_type": "code",
        "colab": {
          "base_uri": "https://localhost:8080/",
          "height": 198
        },
        "outputId": "babbc7bd-3437-4f3f-e965-d6663f1c088b"
      },
      "source": [
        "from sklearn.metrics import accuracy_score, classification_report\n",
        "y_test = pd.read_csv('Test.csv')\n",
        "\n",
        "y_test.head()"
      ],
      "execution_count": 27,
      "outputs": [
        {
          "output_type": "execute_result",
          "data": {
            "text/html": [
              "<div>\n",
              "<style scoped>\n",
              "    .dataframe tbody tr th:only-of-type {\n",
              "        vertical-align: middle;\n",
              "    }\n",
              "\n",
              "    .dataframe tbody tr th {\n",
              "        vertical-align: top;\n",
              "    }\n",
              "\n",
              "    .dataframe thead th {\n",
              "        text-align: right;\n",
              "    }\n",
              "</style>\n",
              "<table border=\"1\" class=\"dataframe\">\n",
              "  <thead>\n",
              "    <tr style=\"text-align: right;\">\n",
              "      <th></th>\n",
              "      <th>Width</th>\n",
              "      <th>Height</th>\n",
              "      <th>Roi.X1</th>\n",
              "      <th>Roi.Y1</th>\n",
              "      <th>Roi.X2</th>\n",
              "      <th>Roi.Y2</th>\n",
              "      <th>ClassId</th>\n",
              "      <th>Path</th>\n",
              "    </tr>\n",
              "  </thead>\n",
              "  <tbody>\n",
              "    <tr>\n",
              "      <th>0</th>\n",
              "      <td>53</td>\n",
              "      <td>54</td>\n",
              "      <td>6</td>\n",
              "      <td>5</td>\n",
              "      <td>48</td>\n",
              "      <td>49</td>\n",
              "      <td>16</td>\n",
              "      <td>Test/00000.png</td>\n",
              "    </tr>\n",
              "    <tr>\n",
              "      <th>1</th>\n",
              "      <td>42</td>\n",
              "      <td>45</td>\n",
              "      <td>5</td>\n",
              "      <td>5</td>\n",
              "      <td>36</td>\n",
              "      <td>40</td>\n",
              "      <td>1</td>\n",
              "      <td>Test/00001.png</td>\n",
              "    </tr>\n",
              "    <tr>\n",
              "      <th>2</th>\n",
              "      <td>48</td>\n",
              "      <td>52</td>\n",
              "      <td>6</td>\n",
              "      <td>6</td>\n",
              "      <td>43</td>\n",
              "      <td>47</td>\n",
              "      <td>38</td>\n",
              "      <td>Test/00002.png</td>\n",
              "    </tr>\n",
              "    <tr>\n",
              "      <th>3</th>\n",
              "      <td>27</td>\n",
              "      <td>29</td>\n",
              "      <td>5</td>\n",
              "      <td>5</td>\n",
              "      <td>22</td>\n",
              "      <td>24</td>\n",
              "      <td>33</td>\n",
              "      <td>Test/00003.png</td>\n",
              "    </tr>\n",
              "    <tr>\n",
              "      <th>4</th>\n",
              "      <td>60</td>\n",
              "      <td>57</td>\n",
              "      <td>5</td>\n",
              "      <td>5</td>\n",
              "      <td>55</td>\n",
              "      <td>52</td>\n",
              "      <td>11</td>\n",
              "      <td>Test/00004.png</td>\n",
              "    </tr>\n",
              "  </tbody>\n",
              "</table>\n",
              "</div>"
            ],
            "text/plain": [
              "   Width  Height  Roi.X1  Roi.Y1  Roi.X2  Roi.Y2  ClassId            Path\n",
              "0     53      54       6       5      48      49       16  Test/00000.png\n",
              "1     42      45       5       5      36      40        1  Test/00001.png\n",
              "2     48      52       6       6      43      47       38  Test/00002.png\n",
              "3     27      29       5       5      22      24       33  Test/00003.png\n",
              "4     60      57       5       5      55      52       11  Test/00004.png"
            ]
          },
          "metadata": {
            "tags": []
          },
          "execution_count": 27
        }
      ]
    },
    {
      "cell_type": "markdown",
      "metadata": {
        "id": "HixdcfKW4iKY",
        "colab_type": "text"
      },
      "source": [
        "Da visualização podemos observar que:\n",
        " - labels = ClassId\n",
        " - imagens = Path\n",
        "\n",
        "Vamos importá-los para um novo dataset e utilizá-lo para comparar a previsão e obter o resultado final"
      ]
    },
    {
      "cell_type": "code",
      "metadata": {
        "id": "DX75472z4f9w",
        "colab_type": "code",
        "colab": {
          "base_uri": "https://localhost:8080/",
          "height": 35
        },
        "outputId": "10f19c11-ae22-4dd4-de73-d78e57dc8a65"
      },
      "source": [
        "from PIL import Image\n",
        "labels = y_test[\"ClassId\"].values #obter o valor de classificação\n",
        "imgs = y_test[\"Path\"].values #obter as imagens correspondentes a classificação\n",
        "\n",
        "data = []\n",
        "\n",
        "# iremos fazer um loop a tupla imgs para carregar a respectiva imagem\n",
        "for img in imgs:\n",
        "  image = Image.open(img)\n",
        "  image = image.resize((32,32))\n",
        "  data.append(np.array(image))\n",
        "\n",
        "#carregando nossa variável de teste\n",
        "X_test = np.array(data)\n",
        "\n",
        "#fazendo previsão do modelo\n",
        "y_pred = np.argmax(model.predict(X_test), axis=-1) #notação atualizada\n",
        "\n",
        "#verificando os resultados\n",
        "acc = accuracy_score(labels, y_pred)\n",
        "print(\"A acurácia do modelo é {:.3%}.\".format(acc))"
      ],
      "execution_count": 28,
      "outputs": [
        {
          "output_type": "stream",
          "text": [
            "A acurácia do modelo é 84.014%.\n"
          ],
          "name": "stdout"
        }
      ]
    },
    {
      "cell_type": "markdown",
      "metadata": {
        "id": "0jthtfYsIzj5",
        "colab_type": "text"
      },
      "source": [
        "**Observação**\n",
        "\n",
        "De acordo com a [documentação atualizada](\"https://www.tensorflow.org/api_docs/python/tf/keras/Sequential#predict\") como estamos tentando realizar a previsão de uma categoria devemos utilizar `np.argmax(model.predict(X_test), axis=-1)` para evitar avisos.\n",
        "\n",
        " Nosso modelo acertou mais de 80% das sinalização corretamente."
      ]
    },
    {
      "cell_type": "markdown",
      "metadata": {
        "id": "ha6-APkJlozO",
        "colab_type": "text"
      },
      "source": [
        "### Sinalização Aletória\n",
        "\n",
        "E se fizermos o teste com uma placa de trânsito aleatória do Brasil, nosso modelo funcionaria?\n",
        "\n",
        "Pensando nisso procurei uma placa aleatória no [google image](\"https://www.google.com/search?q=placas+de+transito+limite+de+velocidade&rlz=1C1GCEU_pt-BRBR821BR821&sxsrf=ALeKk02UNUVbCJnettWJK3EPZMtxn5mElA:1600641755081&source=lnms&tbm=isch&sa=X&ved=2ahUKEwiDl-WZ5_jrAhVTHLkGHSs7BZIQ_AUoAXoECAwQAw&biw=1366&bih=625\"). \n",
        "\n",
        "Carreguei a imagem para o Colab, podemos visualizá-la a seguir: "
      ]
    },
    {
      "cell_type": "code",
      "metadata": {
        "id": "8D8IqOc5_ItY",
        "colab_type": "code",
        "colab": {
          "base_uri": "https://localhost:8080/",
          "height": 269
        },
        "outputId": "344fece3-c47e-4adb-a921-eb83dbd49f4d"
      },
      "source": [
        "import requests\n",
        "url = 'https://4.bp.blogspot.com/-l8AxhIdF15E/UK6eLm3ww0I/AAAAAAAAAoE/g-y3LuHEuB8/s1600/80+pardal-intelog+net.jpg' \n",
        "r = requests.get(url, stream=True)\n",
        "img = Image.open(r.raw)\n",
        "plt.imshow(img, cmap=plt.get_cmap('RdYlBu'));"
      ],
      "execution_count": 29,
      "outputs": [
        {
          "output_type": "display_data",
          "data": {
            "image/png": "[encoded data removed]",
            "text/plain": [
              "<Figure size 432x288 with 1 Axes>"
            ]
          },
          "metadata": {
            "tags": [],
            "needs_background": "light"
          }
        }
      ]
    },
    {
      "cell_type": "markdown",
      "metadata": {
        "id": "yn2wEp7YsOcJ",
        "colab_type": "text"
      },
      "source": [
        "O próximo passo é tratar a imagem e colocar no padrão para o que o nosso modelo possa fazer a previsão:\n",
        "\n",
        "\n",
        "1.   importaremos a imagem para uma matriz numpy\n",
        "2.   requadro da imagem\n",
        "3.   iremos plotá-la para verificação\n",
        "4.   faremos o *resize* para torná-la compatível com o modelo matriz (objeto, px, px, RGB)"
      ]
    },
    {
      "cell_type": "code",
      "metadata": {
        "id": "cVRfPitqm2oO",
        "colab_type": "code",
        "colab": {
          "base_uri": "https://localhost:8080/",
          "height": 285
        },
        "outputId": "ea7e8d1b-f403-4d86-f843-81793ce10423"
      },
      "source": [
        "img = np.asarray(img)\n",
        "img = img[:, :500]\n",
        "img = cv2.resize(img, (32, 32), interpolation=cv2.INTER_AREA)\n",
        "plt.imshow(img, cmap = plt.get_cmap('RdYlBu'))\n",
        "print(img.shape)\n",
        "img = img.reshape(1, 32, 32, 3)"
      ],
      "execution_count": 30,
      "outputs": [
        {
          "output_type": "stream",
          "text": [
            "(32, 32, 3)\n"
          ],
          "name": "stdout"
        },
        {
          "output_type": "display_data",
          "data": {
            "image/png": "[encoded data removed]",
            "text/plain": [
              "<Figure size 432x288 with 1 Axes>"
            ]
          },
          "metadata": {
            "tags": [],
            "needs_background": "light"
          }
        }
      ]
    },
    {
      "cell_type": "code",
      "metadata": {
        "id": "rNLtFqXRz4Fg",
        "colab_type": "code",
        "colab": {}
      },
      "source": [
        "#nesse arquivo consegui obter a nome para cada categoria de pasta\n",
        "categoria = pd.read_csv('https://bitbucket.org/jadslim/german-traffic-signs/raw/a11dc223e3905f459e33abdb86673730e1e78509/signnames.csv', index_col='ClassId')\n"
      ],
      "execution_count": 31,
      "outputs": []
    },
    {
      "cell_type": "markdown",
      "metadata": {
        "id": "JS6JcbAaswKI",
        "colab_type": "text"
      },
      "source": [
        "No passo anterior importamos de um arquivo os rótulos (labels) para cada pasta.\n",
        "\n",
        "Com a imagem pronta, iremos realizar o teste com o nosso modelo CNN criado anteriormente."
      ]
    },
    {
      "cell_type": "code",
      "metadata": {
        "id": "P9XnSAjsoXQp",
        "colab_type": "code",
        "colab": {
          "base_uri": "https://localhost:8080/",
          "height": 72
        },
        "outputId": "9c99733b-be27-4b59-e031-5b630e1942f8"
      },
      "source": [
        "previsao = np.argmax(model.predict(img), axis=-1)\n",
        "print(categoria.loc[previsao])"
      ],
      "execution_count": 32,
      "outputs": [
        {
          "output_type": "stream",
          "text": [
            "                     SignName\n",
            "ClassId                      \n",
            "5        Speed limit (80km/h)\n"
          ],
          "name": "stdout"
        }
      ]
    },
    {
      "cell_type": "markdown",
      "metadata": {
        "id": "5vAmgCjt58by",
        "colab_type": "text"
      },
      "source": [
        "#Conclusão\n",
        "\n",
        "Neste notebook foi possivél demonstrar superficialmente um modelo de Deep Learning para reconhecimento de imagens.\n",
        "\n",
        "Entretanto o notebook é um exemplo estático (podendo variar a imagem de testes fnial), ele seria o ponto de partida para uma aplicação de análises de placas de trânsito em tempo real. Os próximos passos seriam criar uma interface web e implementar a identificação em tempo real através de um app para celular. Seria possível tb registrar as coordenadas (lat, lon) para cada placa apontada."
      ]
    }
  ]
}