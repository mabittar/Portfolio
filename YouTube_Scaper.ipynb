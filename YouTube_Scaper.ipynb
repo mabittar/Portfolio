{
  "nbformat": 4,
  "nbformat_minor": 0,
  "metadata": {
    "colab": {
      "name": "YouTube-Scaper.ipynb",
      "provenance": [],
      "collapsed_sections": [],
      "authorship_tag": "ABX9TyN33oPw5ecqoGc8MkBnkT+2",
      "include_colab_link": true
    },
    "kernelspec": {
      "name": "python3",
      "display_name": "Python 3"
    }
  },
  "cells": [
    {
      "cell_type": "markdown",
      "metadata": {
        "id": "view-in-github",
        "colab_type": "text"
      },
      "source": [
        "<a href=\"https://colab.research.google.com/github/mabittar/Portfolio/blob/master/YouTube_Scaper.ipynb\" target=\"_parent\"><img src=\"https://colab.research.google.com/assets/colab-badge.svg\" alt=\"Open In Colab\"/></a>"
      ]
    },
    {
      "cell_type": "markdown",
      "metadata": {
        "id": "ava0UzpLI0lK"
      },
      "source": [
        "# Web Scraper \r\n",
        "\r\n",
        "Nesse web scraper  veremos como criar um algorítmo para baixar os metadados dos vídeos publicados em um canal do Youtube utilizando o [BeautifulSoup](https://www.crummy.com/software/BeautifulSoup/bs4/doc/).\r\n",
        "\r\n",
        "Esse é apenas um exemplo de aplicação de um Crawler, que pode ser utilizado para registrar preços de um produto, oportunidades de imóveis para venda ou locação, disponibilidade de servidores e assim por diante.\r\n",
        "\r\n",
        "Web Crawler, bot ou web spider é um algoritmo utilizado para encontrar, ler e gravar informações de páginas da internet. É como um robô que varre o caminho indicado e captura as informações que encontra pela frente.\r\n",
        "\r\n",
        "Um dos maiores exemplos de um web crawler é o próprio google. Antes do site estar disponível para pesquisa, um robô lê o web site e cataloga as informações de forma a serem recuperadas numa busca futura.\r\n",
        "\r\n",
        "\r\n",
        "Para esse web scrapper dividi o script em funções específicas a fim de facilitar qualquer possível manutenção."
      ]
    },
    {
      "cell_type": "markdown",
      "metadata": {
        "id": "iFf9t3KR-YJA"
      },
      "source": [
        "## Connect to Target\r\n",
        "\r\n",
        "Gosto muito dos vídeos publicados no canal [Programação Dinâmica](https://www.youtube.com/c/Programa%C3%A7%C3%A3oDin%C3%A2mica/videos), sempre quando tenho alguma dúvida específica procuro o canal deles. Tenho aprendido muito com o Hallison e a Kizzy.\r\n",
        "\r\n",
        "Resolvi fazer esse scraper como uma forma de fixar o aprendizado e explorar o pouco mais da biblioteca Selenium."
      ]
    },
    {
      "cell_type": "markdown",
      "metadata": {
        "id": "bpKH31uHIgxF"
      },
      "source": [
        "### Iniciando o Selenium no Colab"
      ]
    },
    {
      "cell_type": "code",
      "metadata": {
        "id": "2ciUi_0D1Rhh"
      },
      "source": [
        "!pip install selenium\r\n",
        "!apt-get update # to update ubuntu to correctly run apt install\r\n",
        "!apt install chromium-chromedriver\r\n",
        "!cp /usr/lib/chromium-browser/chromedriver /usr/bin\r\n",
        "import sys\r\n",
        "sys.path.insert(0,'/usr/lib/chromium-browser/chromedriver')\r\n",
        "from selenium import webdriver\r\n",
        "chrome_options = webdriver.ChromeOptions()\r\n",
        "chrome_options.add_argument('--headless')\r\n",
        "chrome_options.add_argument('--no-sandbox')\r\n",
        "chrome_options.add_argument('--disable-dev-shm-usage')\r\n",
        "wd = webdriver.Chrome('chromedriver',chrome_options=chrome_options)\r\n",
        "wd.implicitly_wait(10)"
      ],
      "execution_count": null,
      "outputs": []
    },
    {
      "cell_type": "code",
      "metadata": {
        "id": "rviC-ur84Kzo"
      },
      "source": [
        "# importando demais bibliotecas necessárias\r\n",
        "from selenium.webdriver.common.keys import Keys\r\n",
        "from bs4 import BeautifulSoup\r\n",
        "import pandas as pd\r\n",
        "import numpy as np\r\n",
        "import requests\r\n"
      ],
      "execution_count": 102,
      "outputs": []
    },
    {
      "cell_type": "code",
      "metadata": {
        "id": "nB4PTdc91nYc"
      },
      "source": [
        "# conectando ao site\r\n",
        "link = 'https://www.youtube.com/c/Programa%C3%A7%C3%A3oDin%C3%A2mica/videos'"
      ],
      "execution_count": 109,
      "outputs": []
    },
    {
      "cell_type": "code",
      "metadata": {
        "id": "dKzkobV6JO3y"
      },
      "source": [
        "def get_data(link):\r\n",
        "\r\n",
        "  \"\"\"\r\n",
        "  essa função mapeia o sitemap e retorna as subpáginas onde as imagens estão listadas\r\n",
        "  entrada: link para o sitemap\r\n",
        "  saída: lista de páginas onde as imagens são listadas\r\n",
        "  \"\"\"\r\n",
        "  response = requests.get(link)\r\n",
        "  if response.status_code != 200:\r\n",
        "    raise RuntimeError(f'Houve um erro de conexão. Cód: {response.status_code}')\r\n",
        "\r\n",
        "  # conectando ao site\r\n",
        "  wd.get(link)\r\n",
        "\r\n",
        "  #navegando até o final da página\r\n",
        "  for _ in range(56):\r\n",
        "    wd.find_element_by_tag_name('body').send_keys(Keys.END)\r\n",
        "\r\n",
        "  #obtendo dados do site:\r\n",
        "  html = wd.page_source\r\n",
        "  soup = BeautifulSoup(html, 'html.parser')\r\n",
        "  videos = soup.find_all('div', {\"id\": \"dismissable\"})\r\n",
        "\r\n",
        "  return videos"
      ],
      "execution_count": 108,
      "outputs": []
    },
    {
      "cell_type": "code",
      "metadata": {
        "id": "r9vKWpK9KvC9"
      },
      "source": [
        "videos = get_data(link)"
      ],
      "execution_count": 110,
      "outputs": []
    },
    {
      "cell_type": "code",
      "metadata": {
        "colab": {
          "base_uri": "https://localhost:8080/"
        },
        "id": "ea5c8kjv44eQ",
        "outputId": "ab294861-6b5c-4b47-f7ad-f5665c11ef3f"
      },
      "source": [
        "# checado a quantidade de itens armazenados\r\n",
        "len(videos)"
      ],
      "execution_count": 111,
      "outputs": [
        {
          "output_type": "execute_result",
          "data": {
            "text/plain": [
              "242"
            ]
          },
          "metadata": {
            "tags": []
          },
          "execution_count": 111
        }
      ]
    },
    {
      "cell_type": "markdown",
      "metadata": {
        "id": "uGcMkZ9d--yf"
      },
      "source": [
        "## Obtendo metadados do canal"
      ]
    },
    {
      "cell_type": "code",
      "metadata": {
        "id": "0t_rWIsm6OLm"
      },
      "source": [
        "# obtendo metadados\r\n",
        "\r\n",
        "meta_list = []\r\n",
        "\r\n",
        "for video in videos:\r\n",
        "  meta_d = {}\r\n",
        "  meta_d['title'] = video.find('a', {'id': 'video-title'}).text\r\n",
        "  meta_d['link'] = \"https://www.youtube.com/\" + video.find('a', {'id': 'video-title'})['href']\r\n",
        "  meta = video.find('div', {'id': 'metadata-line'}).find_all('span')\r\n",
        "  meta_d['vis'] = meta[0].text\r\n",
        "  meta_d['publ'] = meta[1].text\r\n",
        "  meta_list.append(meta_d)\r\n",
        "  "
      ],
      "execution_count": 71,
      "outputs": []
    },
    {
      "cell_type": "code",
      "metadata": {
        "colab": {
          "base_uri": "https://localhost:8080/",
          "height": 417
        },
        "id": "fHCkHR-66axr",
        "outputId": "90ea3b22-bbe1-473b-9c5c-c502db8f3b24"
      },
      "source": [
        "# Convertendo para um Pandas DataFrame\r\n",
        "df = pd.DataFrame(meta_list)\r\n",
        "df"
      ],
      "execution_count": 72,
      "outputs": [
        {
          "output_type": "execute_result",
          "data": {
            "text/html": [
              "<div>\n",
              "<style scoped>\n",
              "    .dataframe tbody tr th:only-of-type {\n",
              "        vertical-align: middle;\n",
              "    }\n",
              "\n",
              "    .dataframe tbody tr th {\n",
              "        vertical-align: top;\n",
              "    }\n",
              "\n",
              "    .dataframe thead th {\n",
              "        text-align: right;\n",
              "    }\n",
              "</style>\n",
              "<table border=\"1\" class=\"dataframe\">\n",
              "  <thead>\n",
              "    <tr style=\"text-align: right;\">\n",
              "      <th></th>\n",
              "      <th>title</th>\n",
              "      <th>link</th>\n",
              "      <th>vis</th>\n",
              "      <th>publ</th>\n",
              "    </tr>\n",
              "  </thead>\n",
              "  <tbody>\n",
              "    <tr>\n",
              "      <th>0</th>\n",
              "      <td>NÃO É SÓ O WHATSAPP? SUA PRIVACIDADE ESTÁ EM J...</td>\n",
              "      <td>https://www.youtube.com//watch?v=_QFSjhUaJZ8</td>\n",
              "      <td>7.3K views</td>\n",
              "      <td>1 day ago</td>\n",
              "    </tr>\n",
              "    <tr>\n",
              "      <th>1</th>\n",
              "      <td>ADEUS WHATSAPP? ENTENDA OS NOVOS TERMOS DE PRI...</td>\n",
              "      <td>https://www.youtube.com//watch?v=qAUbkKtqqZA</td>\n",
              "      <td>38K views</td>\n",
              "      <td>3 days ago</td>\n",
              "    </tr>\n",
              "    <tr>\n",
              "      <th>2</th>\n",
              "      <td>O Que é Árvore AVL, Propriedades da Árvore AVL...</td>\n",
              "      <td>https://www.youtube.com//watch?v=l8IBdCb2BWA</td>\n",
              "      <td>664 views</td>\n",
              "      <td>6 days ago</td>\n",
              "    </tr>\n",
              "    <tr>\n",
              "      <th>3</th>\n",
              "      <td>3 LIÇÕES que APRENDI ESTUDANDO para o IME | AP...</td>\n",
              "      <td>https://www.youtube.com//watch?v=s7lO_jHgCS0</td>\n",
              "      <td>965 views</td>\n",
              "      <td>1 week ago</td>\n",
              "    </tr>\n",
              "    <tr>\n",
              "      <th>4</th>\n",
              "      <td>ERROS QUE ELIMINAM SUAS CHANCES NO PROCESSO SE...</td>\n",
              "      <td>https://www.youtube.com//watch?v=_FwmXWDh8O0</td>\n",
              "      <td>1.8K views</td>\n",
              "      <td>1 week ago</td>\n",
              "    </tr>\n",
              "    <tr>\n",
              "      <th>...</th>\n",
              "      <td>...</td>\n",
              "      <td>...</td>\n",
              "      <td>...</td>\n",
              "      <td>...</td>\n",
              "    </tr>\n",
              "    <tr>\n",
              "      <th>237</th>\n",
              "      <td>O QUE É e como se utiliza UMA VARIÁVEL? | Pyth...</td>\n",
              "      <td>https://www.youtube.com//watch?v=tZ-3EGw5IPw</td>\n",
              "      <td>1K views</td>\n",
              "      <td>3 years ago</td>\n",
              "    </tr>\n",
              "    <tr>\n",
              "      <th>238</th>\n",
              "      <td>Comparando Números</td>\n",
              "      <td>https://www.youtube.com//watch?v=pB0UeU7SIo0</td>\n",
              "      <td>1.1K views</td>\n",
              "      <td>3 years ago</td>\n",
              "    </tr>\n",
              "    <tr>\n",
              "      <th>239</th>\n",
              "      <td>Operando com Números em Python</td>\n",
              "      <td>https://www.youtube.com//watch?v=hysCU5CWl80</td>\n",
              "      <td>1.8K views</td>\n",
              "      <td>3 years ago</td>\n",
              "    </tr>\n",
              "    <tr>\n",
              "      <th>240</th>\n",
              "      <td>Instalando Python</td>\n",
              "      <td>https://www.youtube.com//watch?v=_RadDQpPGM0</td>\n",
              "      <td>2K views</td>\n",
              "      <td>3 years ago</td>\n",
              "    </tr>\n",
              "    <tr>\n",
              "      <th>241</th>\n",
              "      <td>Hacker aqui? Desvendando a Linha de Comando (CLI)</td>\n",
              "      <td>https://www.youtube.com//watch?v=gDDGq7Q_YFE</td>\n",
              "      <td>6.6K views</td>\n",
              "      <td>3 years ago</td>\n",
              "    </tr>\n",
              "  </tbody>\n",
              "</table>\n",
              "<p>242 rows × 4 columns</p>\n",
              "</div>"
            ],
            "text/plain": [
              "                                                 title  ...         publ\n",
              "0    NÃO É SÓ O WHATSAPP? SUA PRIVACIDADE ESTÁ EM J...  ...    1 day ago\n",
              "1    ADEUS WHATSAPP? ENTENDA OS NOVOS TERMOS DE PRI...  ...   3 days ago\n",
              "2    O Que é Árvore AVL, Propriedades da Árvore AVL...  ...   6 days ago\n",
              "3    3 LIÇÕES que APRENDI ESTUDANDO para o IME | AP...  ...   1 week ago\n",
              "4    ERROS QUE ELIMINAM SUAS CHANCES NO PROCESSO SE...  ...   1 week ago\n",
              "..                                                 ...  ...          ...\n",
              "237  O QUE É e como se utiliza UMA VARIÁVEL? | Pyth...  ...  3 years ago\n",
              "238                                 Comparando Números  ...  3 years ago\n",
              "239                     Operando com Números em Python  ...  3 years ago\n",
              "240                                  Instalando Python  ...  3 years ago\n",
              "241  Hacker aqui? Desvendando a Linha de Comando (CLI)  ...  3 years ago\n",
              "\n",
              "[242 rows x 4 columns]"
            ]
          },
          "metadata": {
            "tags": []
          },
          "execution_count": 72
        }
      ]
    },
    {
      "cell_type": "markdown",
      "metadata": {
        "id": "Og0Wlax__Fvm"
      },
      "source": [
        "## Tratando dados"
      ]
    },
    {
      "cell_type": "code",
      "metadata": {
        "id": "T0hUlvVv7ND2"
      },
      "source": [
        "def converter_vis(df):\r\n",
        "  if 'K' in df['vis']:\r\n",
        "    k_views = float(df['vis'].split('K')[0])*1000\r\n",
        "    return k_views\r\n",
        "  elif 'M' in df['vis']:\r\n",
        "    m_views = float(df['vis'].split('M')[0])*1000000\r\n",
        "    return m_views\r\n",
        "  else:\r\n",
        "    views = float(df['vis'].split(' ')[0])\r\n",
        "    return views"
      ],
      "execution_count": 73,
      "outputs": []
    },
    {
      "cell_type": "code",
      "metadata": {
        "id": "gRMjcDp8APdx"
      },
      "source": [
        "# Convertendo a visualização para inteiros\r\n",
        "df['vis_conv'] = df.apply(converter_vis, axis=1)\r\n",
        "df['vis_conv'] = df['vis_conv'].astype(int)"
      ],
      "execution_count": 74,
      "outputs": []
    },
    {
      "cell_type": "code",
      "metadata": {
        "colab": {
          "base_uri": "https://localhost:8080/",
          "height": 203
        },
        "id": "ao6o_0hJA-8C",
        "outputId": "6e6fc316-13a6-4a12-d711-b873fa645c14"
      },
      "source": [
        "df.head()"
      ],
      "execution_count": 75,
      "outputs": [
        {
          "output_type": "execute_result",
          "data": {
            "text/html": [
              "<div>\n",
              "<style scoped>\n",
              "    .dataframe tbody tr th:only-of-type {\n",
              "        vertical-align: middle;\n",
              "    }\n",
              "\n",
              "    .dataframe tbody tr th {\n",
              "        vertical-align: top;\n",
              "    }\n",
              "\n",
              "    .dataframe thead th {\n",
              "        text-align: right;\n",
              "    }\n",
              "</style>\n",
              "<table border=\"1\" class=\"dataframe\">\n",
              "  <thead>\n",
              "    <tr style=\"text-align: right;\">\n",
              "      <th></th>\n",
              "      <th>title</th>\n",
              "      <th>link</th>\n",
              "      <th>vis</th>\n",
              "      <th>publ</th>\n",
              "      <th>vis_conv</th>\n",
              "    </tr>\n",
              "  </thead>\n",
              "  <tbody>\n",
              "    <tr>\n",
              "      <th>0</th>\n",
              "      <td>NÃO É SÓ O WHATSAPP? SUA PRIVACIDADE ESTÁ EM J...</td>\n",
              "      <td>https://www.youtube.com//watch?v=_QFSjhUaJZ8</td>\n",
              "      <td>7.3K views</td>\n",
              "      <td>1 day ago</td>\n",
              "      <td>7300</td>\n",
              "    </tr>\n",
              "    <tr>\n",
              "      <th>1</th>\n",
              "      <td>ADEUS WHATSAPP? ENTENDA OS NOVOS TERMOS DE PRI...</td>\n",
              "      <td>https://www.youtube.com//watch?v=qAUbkKtqqZA</td>\n",
              "      <td>38K views</td>\n",
              "      <td>3 days ago</td>\n",
              "      <td>38000</td>\n",
              "    </tr>\n",
              "    <tr>\n",
              "      <th>2</th>\n",
              "      <td>O Que é Árvore AVL, Propriedades da Árvore AVL...</td>\n",
              "      <td>https://www.youtube.com//watch?v=l8IBdCb2BWA</td>\n",
              "      <td>664 views</td>\n",
              "      <td>6 days ago</td>\n",
              "      <td>664</td>\n",
              "    </tr>\n",
              "    <tr>\n",
              "      <th>3</th>\n",
              "      <td>3 LIÇÕES que APRENDI ESTUDANDO para o IME | AP...</td>\n",
              "      <td>https://www.youtube.com//watch?v=s7lO_jHgCS0</td>\n",
              "      <td>965 views</td>\n",
              "      <td>1 week ago</td>\n",
              "      <td>965</td>\n",
              "    </tr>\n",
              "    <tr>\n",
              "      <th>4</th>\n",
              "      <td>ERROS QUE ELIMINAM SUAS CHANCES NO PROCESSO SE...</td>\n",
              "      <td>https://www.youtube.com//watch?v=_FwmXWDh8O0</td>\n",
              "      <td>1.8K views</td>\n",
              "      <td>1 week ago</td>\n",
              "      <td>1800</td>\n",
              "    </tr>\n",
              "  </tbody>\n",
              "</table>\n",
              "</div>"
            ],
            "text/plain": [
              "                                               title  ... vis_conv\n",
              "0  NÃO É SÓ O WHATSAPP? SUA PRIVACIDADE ESTÁ EM J...  ...     7300\n",
              "1  ADEUS WHATSAPP? ENTENDA OS NOVOS TERMOS DE PRI...  ...    38000\n",
              "2  O Que é Árvore AVL, Propriedades da Árvore AVL...  ...      664\n",
              "3  3 LIÇÕES que APRENDI ESTUDANDO para o IME | AP...  ...      965\n",
              "4  ERROS QUE ELIMINAM SUAS CHANCES NO PROCESSO SE...  ...     1800\n",
              "\n",
              "[5 rows x 5 columns]"
            ]
          },
          "metadata": {
            "tags": []
          },
          "execution_count": 75
        }
      ]
    },
    {
      "cell_type": "markdown",
      "metadata": {
        "id": "yr8Reku5LOWJ"
      },
      "source": [
        "## Alguns Insights"
      ]
    },
    {
      "cell_type": "code",
      "metadata": {
        "colab": {
          "base_uri": "https://localhost:8080/"
        },
        "id": "vf2b2GXJG1aE",
        "outputId": "9f1a593e-ff46-4bb9-df7b-7c336def07f1"
      },
      "source": [
        "print('O total de publicações no canal são {} vídeos.' .format(len(df)))"
      ],
      "execution_count": 119,
      "outputs": [
        {
          "output_type": "stream",
          "text": [
            "O total de publicações no canal são 242 vídeos.\n"
          ],
          "name": "stdout"
        }
      ]
    },
    {
      "cell_type": "code",
      "metadata": {
        "colab": {
          "base_uri": "https://localhost:8080/"
        },
        "id": "OF4ynokzDZO1",
        "outputId": "9fc0bee8-9d39-4299-ea68-bb81072ec5a3"
      },
      "source": [
        "# podemos obter o total de visualizações do canal:\r\n",
        "out_sum = df['vis_conv'].sum()\r\n",
        "print('A soma total de visualizações é {:,}.' .format(out_sum))"
      ],
      "execution_count": 118,
      "outputs": [
        {
          "output_type": "stream",
          "text": [
            "A soma total de visualizações é 1,078,582.\n"
          ],
          "name": "stdout"
        }
      ]
    },
    {
      "cell_type": "code",
      "metadata": {
        "id": "6-CarO1cMP_X"
      },
      "source": [
        ""
      ],
      "execution_count": null,
      "outputs": []
    }
  ]
}