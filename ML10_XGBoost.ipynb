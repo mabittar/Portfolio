{
  "nbformat": 4,
  "nbformat_minor": 0,
  "metadata": {
    "colab": {
      "name": "ML10 -XGBoost.ipynb",
      "provenance": [],
      "authorship_tag": "ABX9TyMptNzlufMAccjtyJrlFlKr",
      "include_colab_link": true
    },
    "kernelspec": {
      "name": "python3",
      "display_name": "Python 3"
    }
  },
  "cells": [
    {
      "cell_type": "markdown",
      "metadata": {
        "id": "view-in-github",
        "colab_type": "text"
      },
      "source": [
        "<a href=\"https://colab.research.google.com/github/mabittar/Portfolio/blob/master/ML10_XGBoost.ipynb\" target=\"_parent\"><img src=\"https://colab.research.google.com/assets/colab-badge.svg\" alt=\"Open In Colab\"/></a>"
      ]
    },
    {
      "cell_type": "markdown",
      "metadata": {
        "id": "0QPjdTrCp9Mi",
        "colab_type": "text"
      },
      "source": [
        "#XGBoost"
      ]
    },
    {
      "cell_type": "markdown",
      "metadata": {
        "id": "OKaoxqWAqB67",
        "colab_type": "text"
      },
      "source": [
        "## Introdução\n",
        "\n",
        "Criado em 1999 por TIANQI CHEN a técnica é utilizada em modelos preditivos com dados regulares.\n",
        "\n",
        "Pertencente a categória de árvores de decisão, sendo capaz de combinar resultados de diversos classificadores \"fracos\" (baixa correlação) mediante um comitê de decisão.\n",
        "\n",
        "O nome XGBoost vem de e**X**treme **G**radient **Boost**ing!\n",
        "\n",
        "<p align=center><img src=\"http://sigmoidal.ai/wp-content/uploads/2019/08/boosted_stumps.gif\" width=\"30%\"></p>\n",
        "\n",
        "O XGBoost trabalha a partir de árvores individuais criadas utilizando múltpiplos cores e os dados são organizados de forma a minimizar o tempo de consulta entre os ramos.\n",
        "\n"
      ]
    },
    {
      "cell_type": "markdown",
      "metadata": {
        "id": "w49r4gUQrCQM",
        "colab_type": "text"
      },
      "source": [
        "### Aspectos Principais\n",
        "\n",
        " - **Gradient Boosting:** considera a taxa de aprendizado do algorítimo\n",
        " - **Stochastic Gradient Boosting:** subamostragem por linhas e colunas e colunas por nível de decisão.\n",
        " - **Regularized Gradient Boosting: ** utiliza ambas regularizações L1 e L2.\n",
        "\n",
        "### Aspectos do sistema:\n",
        "\n",
        " - **Paralelismo:** Utiliza todos os cores do sistema para executar cálulos.\n",
        " - **Computação Distribuída:** Otimizado para trabalhar em múltiplos hardware (clusters).\n",
        " - **Out-of-Core Computing:** Permite trabalhar com datasets que não cabem na memória.\n",
        " - ** Otimização de Cache:** de dados e algorítmos que permite uma utilização mais eficiente do hardware\n",
        "\n",
        "### Aspectos do Algorítmo\n",
        "\n",
        " - **Dados Esparços (Sparce Aware):** implementado para trabalhar automaticamente com dados ausentes.\n",
        " - **Estruturas em bloco:** suporta a construção paralela de bloco de árvores.\n",
        " - **Treinamento Contínuo:** para que seja possível impulsionar ainda mais um modelo já treinado com novos dados."
      ]
    },
    {
      "cell_type": "markdown",
      "metadata": {
        "id": "lWw5x6cds-Hg",
        "colab_type": "text"
      },
      "source": [
        "## Implementando"
      ]
    },
    {
      "cell_type": "code",
      "metadata": {
        "id": "EyUjPwP8p3NM",
        "colab_type": "code",
        "colab": {}
      },
      "source": [
        "#importando bibliotecas necessárias\n",
        "import pandas as pd\n",
        "from sklearn.model_selection import train_test_split\n",
        "from sklearn.metrics import accuracy_score"
      ],
      "execution_count": null,
      "outputs": []
    },
    {
      "cell_type": "code",
      "metadata": {
        "id": "VOV3t3BatO-q",
        "colab_type": "code",
        "colab": {
          "base_uri": "https://localhost:8080/",
          "height": 35
        },
        "outputId": "ceac01d9-4967-41de-fa86-7b6a3d280339"
      },
      "source": [
        "#importando os dados\n",
        "df = pd.read_csv(\"http://dl.dropboxusercontent.com/s/6d91j46mkcdj4qv/heart-disease-clean.csv?dl=0\")\n",
        "\n",
        "#verificando o formato do dataset\n",
        "print(df.shape)"
      ],
      "execution_count": null,
      "outputs": [
        {
          "output_type": "stream",
          "text": [
            "(303, 14)\n"
          ],
          "name": "stdout"
        }
      ]
    },
    {
      "cell_type": "code",
      "metadata": {
        "id": "KMeB1ycOteIq",
        "colab_type": "code",
        "colab": {
          "base_uri": "https://localhost:8080/",
          "height": 198
        },
        "outputId": "cbe163b0-44ac-409d-d357-2361c3605db8"
      },
      "source": [
        "df.head()"
      ],
      "execution_count": null,
      "outputs": [
        {
          "output_type": "execute_result",
          "data": {
            "text/html": [
              "<div>\n",
              "<style scoped>\n",
              "    .dataframe tbody tr th:only-of-type {\n",
              "        vertical-align: middle;\n",
              "    }\n",
              "\n",
              "    .dataframe tbody tr th {\n",
              "        vertical-align: top;\n",
              "    }\n",
              "\n",
              "    .dataframe thead th {\n",
              "        text-align: right;\n",
              "    }\n",
              "</style>\n",
              "<table border=\"1\" class=\"dataframe\">\n",
              "  <thead>\n",
              "    <tr style=\"text-align: right;\">\n",
              "      <th></th>\n",
              "      <th>age</th>\n",
              "      <th>sex</th>\n",
              "      <th>cp</th>\n",
              "      <th>trestbps</th>\n",
              "      <th>chol</th>\n",
              "      <th>fbs</th>\n",
              "      <th>restecg</th>\n",
              "      <th>thalach</th>\n",
              "      <th>exang</th>\n",
              "      <th>oldpeak</th>\n",
              "      <th>slope</th>\n",
              "      <th>ca</th>\n",
              "      <th>thal</th>\n",
              "      <th>num</th>\n",
              "    </tr>\n",
              "  </thead>\n",
              "  <tbody>\n",
              "    <tr>\n",
              "      <th>0</th>\n",
              "      <td>63.0</td>\n",
              "      <td>1.0</td>\n",
              "      <td>1.0</td>\n",
              "      <td>145.0</td>\n",
              "      <td>233.0</td>\n",
              "      <td>1.0</td>\n",
              "      <td>2.0</td>\n",
              "      <td>150.0</td>\n",
              "      <td>0.0</td>\n",
              "      <td>2.3</td>\n",
              "      <td>3.0</td>\n",
              "      <td>0.0</td>\n",
              "      <td>6.0</td>\n",
              "      <td>0</td>\n",
              "    </tr>\n",
              "    <tr>\n",
              "      <th>1</th>\n",
              "      <td>67.0</td>\n",
              "      <td>1.0</td>\n",
              "      <td>4.0</td>\n",
              "      <td>160.0</td>\n",
              "      <td>286.0</td>\n",
              "      <td>0.0</td>\n",
              "      <td>2.0</td>\n",
              "      <td>108.0</td>\n",
              "      <td>1.0</td>\n",
              "      <td>1.5</td>\n",
              "      <td>2.0</td>\n",
              "      <td>3.0</td>\n",
              "      <td>3.0</td>\n",
              "      <td>1</td>\n",
              "    </tr>\n",
              "    <tr>\n",
              "      <th>2</th>\n",
              "      <td>67.0</td>\n",
              "      <td>1.0</td>\n",
              "      <td>4.0</td>\n",
              "      <td>120.0</td>\n",
              "      <td>229.0</td>\n",
              "      <td>0.0</td>\n",
              "      <td>2.0</td>\n",
              "      <td>129.0</td>\n",
              "      <td>1.0</td>\n",
              "      <td>2.6</td>\n",
              "      <td>2.0</td>\n",
              "      <td>2.0</td>\n",
              "      <td>7.0</td>\n",
              "      <td>1</td>\n",
              "    </tr>\n",
              "    <tr>\n",
              "      <th>3</th>\n",
              "      <td>37.0</td>\n",
              "      <td>1.0</td>\n",
              "      <td>3.0</td>\n",
              "      <td>130.0</td>\n",
              "      <td>250.0</td>\n",
              "      <td>0.0</td>\n",
              "      <td>0.0</td>\n",
              "      <td>187.0</td>\n",
              "      <td>0.0</td>\n",
              "      <td>3.5</td>\n",
              "      <td>3.0</td>\n",
              "      <td>0.0</td>\n",
              "      <td>3.0</td>\n",
              "      <td>0</td>\n",
              "    </tr>\n",
              "    <tr>\n",
              "      <th>4</th>\n",
              "      <td>41.0</td>\n",
              "      <td>0.0</td>\n",
              "      <td>2.0</td>\n",
              "      <td>130.0</td>\n",
              "      <td>204.0</td>\n",
              "      <td>0.0</td>\n",
              "      <td>2.0</td>\n",
              "      <td>172.0</td>\n",
              "      <td>0.0</td>\n",
              "      <td>1.4</td>\n",
              "      <td>1.0</td>\n",
              "      <td>0.0</td>\n",
              "      <td>3.0</td>\n",
              "      <td>0</td>\n",
              "    </tr>\n",
              "  </tbody>\n",
              "</table>\n",
              "</div>"
            ],
            "text/plain": [
              "    age  sex   cp  trestbps   chol  fbs  ...  exang  oldpeak  slope   ca  thal  num\n",
              "0  63.0  1.0  1.0     145.0  233.0  1.0  ...    0.0      2.3    3.0  0.0   6.0    0\n",
              "1  67.0  1.0  4.0     160.0  286.0  0.0  ...    1.0      1.5    2.0  3.0   3.0    1\n",
              "2  67.0  1.0  4.0     120.0  229.0  0.0  ...    1.0      2.6    2.0  2.0   7.0    1\n",
              "3  37.0  1.0  3.0     130.0  250.0  0.0  ...    0.0      3.5    3.0  0.0   3.0    0\n",
              "4  41.0  0.0  2.0     130.0  204.0  0.0  ...    0.0      1.4    1.0  0.0   3.0    0\n",
              "\n",
              "[5 rows x 14 columns]"
            ]
          },
          "metadata": {
            "tags": []
          },
          "execution_count": 3
        }
      ]
    },
    {
      "cell_type": "markdown",
      "metadata": {
        "id": "bAH2GwyttqE9",
        "colab_type": "text"
      },
      "source": [
        "Os próximos passos são dividir o dataset em treino e teste e executar o modelo em questão.\n",
        "\n",
        "Serão utilizados apenas os parâmetros genéricos, que combinam com o dataset em questão."
      ]
    },
    {
      "cell_type": "code",
      "metadata": {
        "id": "rkmSYDAztkIi",
        "colab_type": "code",
        "colab": {}
      },
      "source": [
        "#1. escolher e importar o modelo\n",
        "from xgboost import XGBClassifier\n",
        "\n",
        "#2. instanciar o modelo e definir a parametrização\n",
        "model = XGBClassifier(\n",
        "    learning_rate=0.05,\n",
        "    n_estimator=100,\n",
        "    max_depth=4,\n",
        "    subsample=0.9,\n",
        "    colsample_bytree=0.01,\n",
        "    gamma=1,\n",
        "    random_state=42\n",
        "    )\n",
        "\n",
        "#3. Separar os dados entre variáveis e alvo\n",
        "X = df.drop('num', axis=1)\n",
        "y = df['num']\n",
        "\n",
        "#3.1 dividir o dataset entre treino e teste\n",
        "X_train, X_test, y_train, y_test = train_test_split(X,y, random_state=42)\n",
        "\n",
        "#4. Fit do modelo\n",
        "model.fit(X_train, y_train)\n",
        "\n",
        "#5. Fazer previsões em cima do modelo gerado\n",
        "y_pred_xgb = model.predict(X_test)\n"
      ],
      "execution_count": null,
      "outputs": []
    },
    {
      "cell_type": "markdown",
      "metadata": {
        "id": "nRt4D6sJvTXG",
        "colab_type": "text"
      },
      "source": [
        "Verificando a eficácia do modelo"
      ]
    },
    {
      "cell_type": "code",
      "metadata": {
        "id": "n8mJ252svIGd",
        "colab_type": "code",
        "colab": {
          "base_uri": "https://localhost:8080/",
          "height": 54
        },
        "outputId": "1250312f-e907-4fbe-cdda-c46e9f92899c"
      },
      "source": [
        "print('Acurácia:')\n",
        "print(accuracy_score(y_test, y_pred_xgb))"
      ],
      "execution_count": null,
      "outputs": [
        {
          "output_type": "stream",
          "text": [
            "Acurácia:\n",
            "0.8026315789473685\n"
          ],
          "name": "stdout"
        }
      ]
    }
  ]
}