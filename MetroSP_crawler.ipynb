{
  "nbformat": 4,
  "nbformat_minor": 0,
  "metadata": {
    "colab": {
      "name": "MetroSP-crawler.ipynb",
      "provenance": [],
      "authorship_tag": "ABX9TyMcZP9fqPg1cy9Ipg2C4z/N",
      "include_colab_link": true
    },
    "kernelspec": {
      "name": "python3",
      "display_name": "Python 3"
    }
  },
  "cells": [
    {
      "cell_type": "markdown",
      "metadata": {
        "id": "view-in-github",
        "colab_type": "text"
      },
      "source": [
        "<a href=\"https://colab.research.google.com/github/mabittar/Portfolio/blob/master/MetroSP_crawler.ipynb\" target=\"_parent\"><img src=\"https://colab.research.google.com/assets/colab-badge.svg\" alt=\"Open In Colab\"/></a>"
      ]
    },
    {
      "cell_type": "markdown",
      "metadata": {
        "id": "IbLHbe4ju37D"
      },
      "source": [
        "#Metro Sao Paulo Crawler\n",
        "\n",
        "A proposta desse notebook é criar um web crawler de maneira a registrar o status de serviço do Metrô São Paulo e armazenar os dados obtidos numa planilha do Google Drive.\n",
        "\n",
        "<center>\n",
        "<img src='https://abifer.org.br/wp-content/uploads/2017/12/metrodesaopaulo.png'>\n",
        "</center>\n",
        "\n",
        "Para atingir o objetivo iremos escrever um web scrapper capaz de receber as atualizações diretamente do site do [Metro Linha 4](http://www.viaquatro.com.br/) e extrair o status de operação.\n",
        "\n",
        "A ideia desse post surgiu após a leitura do tópico neste [link](https://towardsdatascience.com/building-a-dataset-for-the-s%C3%A3o-paulo-subway-operation-2d8c5a430688).\n",
        "\n",
        "Esse é apenas um exemplo de aplicação de um Crawler, que pode ser utilizado para registrar preços de um produto, oportunidades de imóveis para venda ou locação, disponibilidade de servidores e assim por diante.\n",
        "\n"
      ]
    },
    {
      "cell_type": "markdown",
      "metadata": {
        "id": "ewWhKV7IBLZs"
      },
      "source": [
        "## Sobre o Metrô de São Paulo\n",
        "\n",
        "Diretamente do [site oficial](http://www.metro.sp.gov.br/) conseguimos entender um pouco mais sobre a história dessa importante companhia de transportes urbanos.\n",
        "\n",
        "A Companhia do Metropolitano de São Paulo – Metrô foi constituída no dia 24 de abril de 1968. É controlada pelo Governo do Estado de São Paulo sob gestão da Secretaria de Estado dos Transportes Metropolitanos (STM). É responsável pela operação e expansão de rede metroviária e pelo planejamento de transporte metropolitano de passageiros da Região Metropolitana de São Paulo.\n",
        "\n",
        "A rede metroviária da cidade de São Paulo é composta por 6 linhas, totalizando 101,1 km de extensão e 89 estações, por onde passam mais de 5 milhões de passageiros diariamente. Está integrada à CPTM nas estações Luz, Tamanduateí, Brás, Palmeiras-Barra Funda, Tatuapé, Corinthians-Itaquera, Pinheiros e Santo Amaro e aos outros modais de transporte na cidade de São Paulo.\n",
        "\n",
        "O Metrô de São Paulo é responsável pela operação das Linhas 1-Azul (Jabaquara - Tucuruvi), 2-Verde (Vila Prudente – Vila Madalena), 3-Vermelha (Corinthians-Itaquera – Palmeiras-Barra Funda) e o Monotrilho da Linha 15-Prata (Vila Prudente – Jardim Planalto), somando 69,7 km de extensão e 62 estações. Pela rede administrada pelo Metrô, passam 4 milhões de passageiros diariamente."
      ]
    },
    {
      "cell_type": "markdown",
      "metadata": {
        "id": "rhyReHBgCFkB"
      },
      "source": [
        "## O Crawler\n",
        "\n",
        "Web Crawler, bot ou web spider é um algoritmo utilizado para encontrar, ler e gravar informações de páginas da internet. É como um robô  que varre o caminho indicado e captura as informações que encontra pela frente.\n",
        "\n",
        "Um dos maiores exemplos de um web crawler é o próprio google. Antes do site estar disponível para pesquisa, um robô lê o web site e cataloga as informações de forma a serem recuperadas numa busca futura.\n",
        "\n",
        "\n",
        "Uma das ferramentas mais utilizadas em Python para criação de algoritmos dessa modalidade é o *BetifulSoup*. Outras informações sobre os recursos podem ser consultadas diretamente na documentação original, pelo [link](https://www.crummy.com/software/BeautifulSoup/bs4/doc/).\n",
        "\n",
        "**Atenção**\n",
        "\n",
        "Antes de iniciar o processo consulte sobre as normas do site sobre a utilização de robôs indexadores, que devem estar configuradas em www.seusite/robot.txt\n",
        "\n",
        "O robots.txt é um arquivo deve ser salvo na pasta raiz do seu site, e indica para os robôs de busca quais as páginas de seu site você não deseja que sejam acessadas por estes mecanismos de pesquisa.\n",
        "\n",
        "Isso ajuda a controlar o acesso de algumas informações importantes, como infográficos e detalhes técnicos de produtos.\n",
        "\n",
        "Entretanto no site da ViaQuatro esse arquivo não foi configurado, pode ser um indicativo que o responsável pelo site não limitou o acesso a essas ferramentas."
      ]
    },
    {
      "cell_type": "code",
      "metadata": {
        "id": "E8WDwOduuTzm"
      },
      "source": [
        "# importando as bibliotecas necessárias\n",
        "from bs4 import BeautifulSoup\n",
        "import requests"
      ],
      "execution_count": 46,
      "outputs": []
    },
    {
      "cell_type": "markdown",
      "metadata": {
        "id": "g8_ZsrxNDz5m"
      },
      "source": [
        "### O alvo\n",
        "\n",
        "No próximo passo indicamos o caminho que o robô irá buscar as informações que desejamos.\n",
        "\n",
        "Iremos utilizar a biblioteca nativa do Python `Requests` que permite o envio de um pacote de requisição HTTP de forma extremamente fácil, mantendo a conexão ativa durante o tempo necessário de forma automática.\n",
        "\n"
      ]
    },
    {
      "cell_type": "code",
      "metadata": {
        "id": "id-2e1gZumQb"
      },
      "source": [
        "# executando o request \n",
        "home_request = requests.get('http://www.viaquatro.com.br')\n",
        "\n",
        "# recuperando todas informações em forma de texto\n",
        "home_content = home_request.text"
      ],
      "execution_count": 47,
      "outputs": []
    },
    {
      "cell_type": "markdown",
      "metadata": {
        "id": "GyKTBC-AEpZS"
      },
      "source": [
        "### BeautifulSoup\n",
        "\n",
        "Agora com a biblioteca BeatifulSoup iremos executar o `parser` da página e extraírmos as informações que desejamos."
      ]
    },
    {
      "cell_type": "code",
      "metadata": {
        "id": "vtbucRCKxZLd",
        "colab": {
          "base_uri": "https://localhost:8080/"
        },
        "outputId": "6de77a79-22de-411d-b1b3-2e0cf3b84250"
      },
      "source": [
        "soup = BeautifulSoup(home_content, 'html.parser')\n",
        "#verificando o título da página\n",
        "soup.title"
      ],
      "execution_count": 48,
      "outputs": [
        {
          "output_type": "execute_result",
          "data": {
            "text/plain": [
              "<title>ViaQuatro | Seja Bem-vindo</title>"
            ]
          },
          "metadata": {
            "tags": []
          },
          "execution_count": 48
        }
      ]
    },
    {
      "cell_type": "markdown",
      "metadata": {
        "id": "awCQSnnlE-S2"
      },
      "source": [
        "### Status de Operação\n",
        "\n",
        "No passo anterior confirmarmos que a variável `soup` contém toda a página alvo do crawler. O próximo passo é executar a inspeção do site e focarmos exclusivamente na informação que desejamos obter *Status de Operação* .\n",
        "\n",
        "Para inspecionar o site no Chrome utilize a tecla `F11` e clique no quadro que deseja, podemos ver que as informações estão dentro da classe html: class_=operacao.\n",
        "\n",
        "Iremos direcionar nosso robô para extrair os dados dessa classe html."
      ]
    },
    {
      "cell_type": "code",
      "metadata": {
        "id": "rkfShjv_xeX_",
        "colab": {
          "base_uri": "https://localhost:8080/"
        },
        "outputId": "2ba84eb4-8c9e-4e55-eb04-704ae89bc4c4"
      },
      "source": [
        "operation_column = soup.find(class_= \"operacao\")\n",
        "operation_column"
      ],
      "execution_count": 49,
      "outputs": [
        {
          "output_type": "execute_result",
          "data": {
            "text/plain": [
              "<section class=\"operacao\">\n",
              "<!-- Current Status -->\n",
              "<div class=\"section-title\">\n",
              "<h3>Operação</h3>\n",
              "<p>Atualizado em <time datetime=\"04/12/2020 17:41\">04/12/2020 17:41</time></p>\n",
              "</div>\n",
              "<a class=\"open-modal\" href=\"#\">\n",
              "<div class=\"main-line\">\n",
              "<span class=\"circle\">4</span>\n",
              "<h2>Amarela</h2>\n",
              "<span class=\"status\">Operação Normal</span>\n",
              "</div>\n",
              "</a>\n",
              "<div class=\"modal-situacao main\">\n",
              "<div class=\"container-modal\">\n",
              "<div class=\"box-modal station-modal\">\n",
              "<div class=\"info\">\n",
              "<h3>Linha Amarela</h3>\n",
              "<p class=\"status-reduzida\">Operação Normal</p>\n",
              "<p></p>\n",
              "<ul>\n",
              "<li>\n",
              "<img alt=\"Telefone\" src=\"/Content/img/ico/ico-tel-black.jpg\"/>\n",
              "</li>\n",
              "<li>\n",
              "\t\t\t\t\t\t\t\t0800-770-7100\n",
              "\t\t\t\t\t\t\t</li>\n",
              "</ul>\n",
              "</div>\n",
              "</div>\n",
              "</div>\n",
              "</div>\n",
              "<div class=\"title-operacao\">\n",
              "<h3>ViaMobilidade</h3>\n",
              "</div>\n",
              "<div class=\"linhas\">\n",
              "<ul>\n",
              "<li>\n",
              "<div class=\"open-modal\">\n",
              "<span class=\"circle linha-5\">5</span>\n",
              "<div class=\"info\">\n",
              "<a href=\"http://www.viamobilidade.com.br/\" target=\"_blank\" title=\"Acesse o site da ViaMobilidade\">\n",
              "<span class=\"title\">Lilás</span>\n",
              "</a>\n",
              "<span class=\"status-normal\">normal</span>\n",
              "</div>\n",
              "</div>\n",
              "</li>\n",
              "</ul>\n",
              "</div>\n",
              "<!-- Current Status -->\n",
              "<!-- Status Metro -->\n",
              "<div class=\"title-operacao\">\n",
              "<h3>Metrô de São Paulo</h3>\n",
              "</div>\n",
              "<div class=\"linhas\">\n",
              "<ul>\n",
              "<li>\n",
              "<div class=\"open-modal\">\n",
              "<span class=\"circle linha-1\">1</span>\n",
              "<div class=\"info\">\n",
              "<a href=\"http://www.metro.sp.gov.br/\" target=\"_blank\" title=\"Acesse o site do Metrô\">\n",
              "<span class=\"title\">Azul</span>\n",
              "</a>\n",
              "<span class=\"status-normal\">normal</span>\n",
              "</div>\n",
              "</div>\n",
              "</li>\n",
              "<li>\n",
              "<div class=\"open-modal\">\n",
              "<span class=\"circle linha-2\">2</span>\n",
              "<div class=\"info\">\n",
              "<a href=\"http://www.metro.sp.gov.br/\" target=\"_blank\" title=\"Acesse o site do Metrô\">\n",
              "<span class=\"title\">Verde</span>\n",
              "</a>\n",
              "<span class=\"status-normal\">normal</span>\n",
              "</div>\n",
              "</div>\n",
              "</li>\n",
              "<li>\n",
              "<div class=\"open-modal\">\n",
              "<span class=\"circle linha-3\">3</span>\n",
              "<div class=\"info\">\n",
              "<a href=\"http://www.metro.sp.gov.br/\" target=\"_blank\" title=\"Acesse o site do Metrô\">\n",
              "<span class=\"title\">Vermelha</span>\n",
              "</a>\n",
              "<span class=\"status-normal\">normal</span>\n",
              "</div>\n",
              "</div>\n",
              "</li>\n",
              "<li>\n",
              "<div class=\"open-modal\">\n",
              "<span class=\"circle linha-15\">15</span>\n",
              "<div class=\"info\">\n",
              "<a href=\"http://www.metro.sp.gov.br/\" target=\"_blank\" title=\"Acesse o site do Metrô\">\n",
              "<span class=\"title\">Prata</span>\n",
              "</a>\n",
              "<span class=\"status-normal\">normal</span>\n",
              "</div>\n",
              "</div>\n",
              "</li>\n",
              "</ul>\n",
              "</div>\n",
              "<!-- Status Metro -->\n",
              "<!-- Status CPTM -->\n",
              "<div class=\"title-operacao\">\n",
              "<h3>CPTM</h3>\n",
              "</div>\n",
              "<div class=\"linhas\">\n",
              "<ul>\n",
              "<li>\n",
              "<div class=\"open-modal\">\n",
              "<span class=\"circle linha-7\">7</span>\n",
              "<div class=\"info\">\n",
              "<a href=\"http://www.cptm.sp.gov.br/\" target=\"_blank\" title=\"Acesse o site da CPTM\">\n",
              "<span class=\"title\">Rubi</span>\n",
              "</a>\n",
              "<span class=\"status-normal\">normal</span>\n",
              "</div>\n",
              "</div>\n",
              "</li>\n",
              "<li>\n",
              "<div class=\"open-modal\">\n",
              "<span class=\"circle linha-8\">8</span>\n",
              "<div class=\"info\">\n",
              "<a href=\"http://www.cptm.sp.gov.br/\" target=\"_blank\" title=\"Acesse o site da CPTM\">\n",
              "<span class=\"title\">Diamante</span>\n",
              "</a>\n",
              "<span class=\"status-normal\">normal</span>\n",
              "</div>\n",
              "</div>\n",
              "</li>\n",
              "<li>\n",
              "<div class=\"open-modal\">\n",
              "<span class=\"circle linha-9\">9</span>\n",
              "<div class=\"info\">\n",
              "<a href=\"http://www.cptm.sp.gov.br/\" target=\"_blank\" title=\"Acesse o site da CPTM\">\n",
              "<span class=\"title\">Esmeralda</span>\n",
              "</a>\n",
              "<span class=\"status-normal\">normal</span>\n",
              "</div>\n",
              "</div>\n",
              "</li>\n",
              "<li>\n",
              "<div class=\"open-modal\">\n",
              "<span class=\"circle linha-10\">10</span>\n",
              "<div class=\"info\">\n",
              "<a href=\"http://www.cptm.sp.gov.br/\" target=\"_blank\" title=\"Acesse o site da CPTM\">\n",
              "<span class=\"title\">Turquesa</span>\n",
              "</a>\n",
              "<span class=\"status-normal\">normal</span>\n",
              "</div>\n",
              "</div>\n",
              "</li>\n",
              "<li>\n",
              "<div class=\"open-modal\">\n",
              "<span class=\"circle linha-11\">11</span>\n",
              "<div class=\"info\">\n",
              "<a href=\"http://www.cptm.sp.gov.br/\" target=\"_blank\" title=\"Acesse o site da CPTM\">\n",
              "<span class=\"title\">Coral</span>\n",
              "</a>\n",
              "<span class=\"status-normal\">normal</span>\n",
              "</div>\n",
              "</div>\n",
              "</li>\n",
              "<li>\n",
              "<div class=\"open-modal\">\n",
              "<span class=\"circle linha-12\">12</span>\n",
              "<div class=\"info\">\n",
              "<a href=\"http://www.cptm.sp.gov.br/\" target=\"_blank\" title=\"Acesse o site da CPTM\">\n",
              "<span class=\"title\">Safira</span>\n",
              "</a>\n",
              "<span class=\"status-normal\">normal</span>\n",
              "</div>\n",
              "</div>\n",
              "</li>\n",
              "<li>\n",
              "<div class=\"open-modal\">\n",
              "<span class=\"circle linha-13\">13</span>\n",
              "<div class=\"info\">\n",
              "<a href=\"http://www.cptm.sp.gov.br/\" target=\"_blank\" title=\"Acesse o site da CPTM\">\n",
              "<span class=\"title\">Jade</span>\n",
              "</a>\n",
              "<span class=\"status-normal\">normal</span>\n",
              "</div>\n",
              "</div>\n",
              "</li>\n",
              "</ul>\n",
              "</div>\n",
              "<!-- Status CPTM -->\n",
              "</section>"
            ]
          },
          "metadata": {
            "tags": []
          },
          "execution_count": 49
        }
      ]
    },
    {
      "cell_type": "markdown",
      "metadata": {
        "id": "LQGfRDlRFy8U"
      },
      "source": [
        "Entretanto dentro dessa classe há uma série de informações que não necessitamos. Iremos criar um filtro de forma a alinhar numa lista que iremos criar o nome da linha e do filtro obter o status de operação."
      ]
    },
    {
      "cell_type": "code",
      "metadata": {
        "id": "Zjt6UJ1RxjXO",
        "colab": {
          "base_uri": "https://localhost:8080/"
        },
        "outputId": "4a034dca-f037-43c4-c7ce-4cd95a36862e"
      },
      "source": [
        "#criando lista das linhas do Metro\n",
        "linhas_metro = ['azul', 'verde', 'vermelha', 'amarela', 'lilás', 'prata']\n",
        "# criando lista das linhas CPTM\n",
        "linhas_cptm  = ['rubi', 'diamante', 'esmeralda', 'turquesa', 'coral', 'safira', 'jade']\n",
        "# criando uma lista única\n",
        "linhas = linhas_metro + linhas_cptm\n",
        "\n",
        "#preparando a lista para obter as informações do crawler\n",
        "extracted_status = {linha:'' for linha in linhas}\n",
        "extracted_status"
      ],
      "execution_count": 50,
      "outputs": [
        {
          "output_type": "execute_result",
          "data": {
            "text/plain": [
              "{'amarela': '',\n",
              " 'azul': '',\n",
              " 'coral': '',\n",
              " 'diamante': '',\n",
              " 'esmeralda': '',\n",
              " 'jade': '',\n",
              " 'lilás': '',\n",
              " 'prata': '',\n",
              " 'rubi': '',\n",
              " 'safira': '',\n",
              " 'turquesa': '',\n",
              " 'verde': '',\n",
              " 'vermelha': ''}"
            ]
          },
          "metadata": {
            "tags": []
          },
          "execution_count": 50
        }
      ]
    },
    {
      "cell_type": "markdown",
      "metadata": {
        "id": "QTsf1QhoGX4q"
      },
      "source": [
        "### O Filtro\n",
        "\n",
        "Agora que temos uma lista com o nome das linhas já criado é possível filtrar das informações obtidas pelo robô o status de operação correspondente a linha definida na lista anterior."
      ]
    },
    {
      "cell_type": "code",
      "metadata": {
        "id": "f4OehtZixz_F",
        "colab": {
          "base_uri": "https://localhost:8080/"
        },
        "outputId": "995f3319-0dae-4f5f-a845-c3e09f909378"
      },
      "source": [
        "lines_containers = operation_column.find_all(class_ = \"linhas\")\n",
        "\n",
        "for container in lines_containers:\n",
        "       line_info_divs = container.find_all(class_ = \"info\")\n",
        "       for div in line_info_divs:\n",
        "           line_title  = ''\n",
        "           line_status = ''\n",
        "           spans = div.find_all(\"span\")\n",
        "           line_title = spans[0].text.lower()\n",
        "           line_status = spans[1].text.lower()\n",
        "           extracted_status[line_title] = line_status\n",
        "\n",
        "extracted_status"
      ],
      "execution_count": 51,
      "outputs": [
        {
          "output_type": "execute_result",
          "data": {
            "text/plain": [
              "{'amarela': '',\n",
              " 'azul': 'normal',\n",
              " 'coral': 'normal',\n",
              " 'diamante': 'normal',\n",
              " 'esmeralda': 'normal',\n",
              " 'jade': 'normal',\n",
              " 'lilás': 'normal',\n",
              " 'prata': 'normal',\n",
              " 'rubi': 'normal',\n",
              " 'safira': 'normal',\n",
              " 'turquesa': 'normal',\n",
              " 'verde': 'normal',\n",
              " 'vermelha': 'normal'}"
            ]
          },
          "metadata": {
            "tags": []
          },
          "execution_count": 51
        }
      ]
    },
    {
      "cell_type": "code",
      "metadata": {
        "id": "2pq1PzeUyAwJ",
        "colab": {
          "base_uri": "https://localhost:8080/",
          "height": 35
        },
        "outputId": "c95e65e5-9431-4e75-9b2b-32f1a9770902"
      },
      "source": [
        "# Extraindo a data e horário da última atualização do site.\n",
        "time_data = soup.find('time').text\n",
        "time_data\n"
      ],
      "execution_count": 52,
      "outputs": [
        {
          "output_type": "execute_result",
          "data": {
            "application/vnd.google.colaboratory.intrinsic+json": {
              "type": "string"
            },
            "text/plain": [
              "'04/12/2020 17:41'"
            ]
          },
          "metadata": {
            "tags": []
          },
          "execution_count": 52
        }
      ]
    },
    {
      "cell_type": "markdown",
      "metadata": {
        "id": "_fWT4hLIHfJl"
      },
      "source": [
        "## A comemoração\n",
        "\n",
        "Pronto! Se você seguiu os passos até aqui já está de posse de todas as informações que você necessitava.\n",
        "\n",
        "<center><img src=\"https://www.juicysantos.com.br/wp-content/uploads/2017/10/cheers.jpg\" width=35%></center>\n",
        "\n",
        "[fonte](https://www.juicysantos.com.br/diversao/agenda-de-santos-e-regiao/festival-cheers-o-seu-role-nesse-feriadao/)"
      ]
    },
    {
      "cell_type": "markdown",
      "metadata": {
        "id": "8743duJ2JqdI"
      },
      "source": [
        "## A Cereja do Bolo\n",
        "\n",
        "Até aqui tudo fácil e rápido, mas podemos ainda utilizando uma planilha do google drive armazenar as informações coletadas para estudos futuros.\n",
        "\n",
        "Então vamos quais seriam os próximos passos?\n",
        "\n",
        "1. Como obter as informações de acesso e autorizar o acesso a planilha?\n",
        "2. O notebook irá solicitar as informações de acesso do Google Drive \n",
        "3. Escrever as informações obtidas numa planilha que estará compartilhada publicamente.\n",
        "\n",
        "\n",
        " Para a primeira etapa siga o procedimento da [documentação oficial](https://gspread.readthedocs.io/en/latest/oauth2.html):\n",
        "\n",
        "Acesse a Página de Desenvolvedor do Google diretamente do link:\n",
        "[https://console.developers.google.com/](https://console.developers.google.com/)e depois:\n",
        "\n",
        " - Enable API Access for a Project if you haven’t done it yet.\n",
        " - Go to “APIs & Services > Credentials” and choose “Create credentials > Service account key”.\n",
        " - Fill out the form\n",
        " - Click “Create key”\n",
        " - Select “JSON” and click “Create”\n",
        "\n",
        "No último passo será gerado um arquivo .json para ser salvo em seu computador. Guarde esse arquivo.\n",
        "Lembre-se de salvá-lo em uma pasta de fácil acesso, pois ele será utilizado para permitir o notebook acessar a planilha.  Depois criei uma nova planilha diretamente no Google Drive e compartilhe com o e-mail castrado na sua API, se você não se recorda, abra o arquivo json que você acabou de salva e busque a informação no campo client_email.\n",
        "\n",
        "No meu caso abri uma subpasta na minha pasta de Projetos com o nome de MetroSP-Crawler, assim fica fácil de lembrar onde o arquivo está salvo.\n"
      ]
    },
    {
      "cell_type": "code",
      "metadata": {
        "colab": {
          "resources": {
            "http://localhost:8080/nbextensions/google.colab/files.js": {
              "data": "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",
              "ok": true,
              "headers": [
                [
                  "content-type",
                  "application/javascript"
                ]
              ],
              "status": 200,
              "status_text": ""
            }
          },
          "base_uri": "https://localhost:8080/",
          "height": 89
        },
        "id": "CEFqDG04OZqH",
        "outputId": "a418298d-7096-491d-f724-4a71b73aa811"
      },
      "source": [
        "from google.colab import files\n",
        "import json \n",
        "# fazendo o upload da credencial gerada anteriormente.\n",
        "uploaded = files.upload()\n",
        "\n",
        "for fn in uploaded.keys():\n",
        "  print('User uploaded file \"{name}\" with length {length} bytes'.format(\n",
        "      name=fn, length=len(uploaded[fn])))\n",
        "  \n",
        "# lendo as informações do arquivo\n",
        "data = next(iter(uploaded.values()))\n",
        "key = json.loads(data.decode())"
      ],
      "execution_count": null,
      "outputs": [
        {
          "output_type": "display_data",
          "data": {
            "text/html": [
              "\n",
              "     <input type=\"file\" id=\"files-3096f105-dd09-495b-a33c-c85088b72f69\" name=\"files[]\" multiple disabled\n",
              "        style=\"border:none\" />\n",
              "     <output id=\"result-3096f105-dd09-495b-a33c-c85088b72f69\">\n",
              "      Upload widget is only available when the cell has been executed in the\n",
              "      current browser session. Please rerun this cell to enable.\n",
              "      </output>\n",
              "      <script src=\"/nbextensions/google.colab/files.js\"></script> "
            ],
            "text/plain": [
              "<IPython.core.display.HTML object>"
            ]
          },
          "metadata": {
            "tags": []
          }
        },
        {
          "output_type": "stream",
          "text": [
            "Saving metrosp-crawler-a0056d486cda.json to metrosp-crawler-a0056d486cda.json\n",
            "User uploaded file \"metrosp-crawler-a0056d486cda.json\" with length 2330 bytes\n"
          ],
          "name": "stdout"
        }
      ]
    },
    {
      "cell_type": "code",
      "metadata": {
        "id": "TXO-Q5HjUKg8"
      },
      "source": [
        "# para facilitar iremos renomear o arquivo json para auth.json\n",
        "import glob\n",
        "import os\n",
        "\n",
        "for source_name in glob.glob(\"/content/*.json\"):\n",
        "    path, fullname = os.path.split(source_name)\n",
        "    basename, ext = os.path.splitext(fullname)\n",
        "    target_name = os.path.join(path, '{}{}'.format('auth', ext))\n",
        "    os.rename(source_name, target_name)"
      ],
      "execution_count": null,
      "outputs": []
    },
    {
      "cell_type": "code",
      "metadata": {
        "id": "mrhEemeUyZbN"
      },
      "source": [
        "import gspread\n",
        "from oauth2client.service_account import ServiceAccountCredentials\n",
        "\n",
        "scope = ['https://spreadsheets.google.com/feeds', 'https://www.googleapis.com/auth/drive']\n",
        "\n",
        "creds = ServiceAccountCredentials.from_json_keyfile_name('auth.json', scope)"
      ],
      "execution_count": null,
      "outputs": []
    },
    {
      "cell_type": "markdown",
      "metadata": {
        "id": "-xQmjOytVHZs"
      },
      "source": [
        "Agora vamos autorizar o acesso utilizando nossas credenciais e inicializar  a planilha.\n",
        "\n",
        "Nesse ponto é necessário observar o id da planilha que pode ser obtido abrindo a planilha em uma outra janela e copiando do endereço do navegador o trecho equivalente destacado em negrito:\n",
        "'docs.google.com/spreadsheets/d/**10MQxF_-WHXFpYaM_FJWwtPGtF3zjp2_WVnQ_OtC3pdA**/edit#gid=0"
      ]
    },
    {
      "cell_type": "code",
      "metadata": {
        "id": "hI4SvXGBVGsu"
      },
      "source": [
        "#autorizando o acesso\n",
        "client = gspread.authorize(creds)\n",
        "\n",
        "#identificando a planilha\n",
        "SPREADSHEET_ID = \"10MQxF_-WHXFpYaM_FJWwtPGtF3zjp2_WVnQ_OtC3pdA\"\n",
        "\n",
        "# abrindo a planilha - atenção ao nome da aba que você vai usar\n",
        "data_sheet = client.open_by_key(SPREADSHEET_ID).worksheet(\"data\")\n"
      ],
      "execution_count": null,
      "outputs": []
    },
    {
      "cell_type": "markdown",
      "metadata": {
        "id": "lVCp2xmMWHOC"
      },
      "source": [
        "Agora que estamos com o arquivo aberto iremos escrever as informações obtidas do crawler"
      ]
    },
    {
      "cell_type": "code",
      "metadata": {
        "id": "qd6YtsFoV7O1"
      },
      "source": [
        "for linha in linhas:\n",
        "    data_sheet.append_row([time_data, linha, extracted_status[linha]])"
      ],
      "execution_count": 53,
      "outputs": []
    },
    {
      "cell_type": "markdown",
      "metadata": {
        "id": "Vli7G4dfZ-T5"
      },
      "source": [
        "<img src=\"https://raw.githubusercontent.com/mabittar/Portfolio/master/img/Crawler-spreedsheet.jpg\">"
      ]
    },
    {
      "cell_type": "code",
      "metadata": {
        "id": "ynw8NZhpawo0"
      },
      "source": [
        ""
      ],
      "execution_count": null,
      "outputs": []
    }
  ]
}