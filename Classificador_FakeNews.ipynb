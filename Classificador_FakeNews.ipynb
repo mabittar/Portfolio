{
  "nbformat": 4,
  "nbformat_minor": 0,
  "metadata": {
    "colab": {
      "name": "Classificador FakeNews.ipynb",
      "provenance": [],
      "authorship_tag": "ABX9TyOilNRMi2fInVL1xhl8V0Qv",
      "include_colab_link": true
    },
    "kernelspec": {
      "name": "python3",
      "display_name": "Python 3"
    },
    "accelerator": "GPU"
  },
  "cells": [
    {
      "cell_type": "markdown",
      "metadata": {
        "id": "view-in-github",
        "colab_type": "text"
      },
      "source": [
        "<a href=\"https://colab.research.google.com/github/mabittar/Portfolio/blob/master/Classificador_FakeNews.ipynb\" target=\"_parent\"><img src=\"https://colab.research.google.com/assets/colab-badge.svg\" alt=\"Open In Colab\"/></a>"
      ]
    },
    {
      "cell_type": "markdown",
      "metadata": {
        "id": "VunH3P2OrBKq"
      },
      "source": [
        "# Classificador de Fake News\n",
        "\n",
        "Apesar de parecer recente, o termo fake news, ou notícia falsa, em português, é mais antigo do que aparenta. Segundo o dicionário Merriam-Webster, essa expressão é usada desde o final do século XIX. O termo é em inglês, mas se tornou popular em todo o mundo para denominar informações falsas que são publicadas, principalmente, em redes sociais.\n",
        "\n",
        "Mas o que é Fake News?\n",
        "\n",
        "Conforme definido pelo site [Mundo Educação](https://mundoeducacao.uol.com.br/curiosidades/fake-news.htm).\n",
        "\n",
        "Não é de hoje que mentiras são divulgadas como verdades, mas foi com o advento das redes sociais que esse tipo de publicação popularizou-se. A imprensa internacional começou a usar com mais frequência o termo fake news durante a eleição de 2016 nos Estados Unidos, na qual Donald Trump tornou-se presidente. *Fake news é um termo em inglês e é usado para referir-se a falsas informações divulgadas, principalmente, em redes sociais*.\n",
        "\n",
        "Na época em que Trump foi eleito, algumas empresas especializadas identificaram uma série de sites com conteúdo duvidoso. A maioria das notícias divulgadas por esses sites explorava conteúdos sensacionalistas, envolvendo, em alguns casos, personalidades importantes, como a adversária de Trump, Hillary Clinton.\n",
        "\n",
        "\n",
        "Qual o impacto das Fakes News?\n",
        "\n",
        "Um caso que ficou conhecido e chegou ao extremo foi o da dona de casa Fabiane Maria de Jesus, que morreu após ter sido espancada por dezenas de moradores de Guarujá, no litoral de São Paulo, em 2014. A revolta dos moradores foi em virtude de informações publicadas em uma rede social, com um retrato falado de uma possível sequestradora de crianças para rituais de magia negra. A dona de casa foi confundida com a criminosa e acabou linchada por moradores.\n",
        "\n",
        "Outro boato que tomou conta das redes e influenciou diretamente o calendário de vacinação infantil foi o de que algumas vacinas seriam mortais e teriam matado milhares de crianças. O impacto foi tão grande que doenças como o sarampo, do qual o Brasil era considerado livre, voltaram a acometer crianças."
      ]
    },
    {
      "cell_type": "markdown",
      "metadata": {
        "id": "vMpAu7BCr-rk"
      },
      "source": [
        "## O Projeto\n",
        "\n",
        "Hoje em dia, podemos contar com ferramentas que nos ajudem a identificar e filtrar notícias falsas. Com técnicas de *Machine Learninr* como **Redes Neurais** essa tarefa de vasculhar diversas fontes de notícias para descobrir o que é falso e o que é factual fica mais fácil.\n",
        "\n",
        "> O objetivo do projeto é treinar um modelo que seja capaz de classificar notícias, com a melhor acurácia possível, entre falsas ou factuais.\n",
        "\n",
        "Para isso, usaremos a biblioteca ***Tensorflow*** para treinar Redes Neurais que façam esse trabalho por nós.\n",
        "\n",
        "Nesse notebook irei apresentar os passos para criarmos um identificador de fake news.\n",
        "\n",
        "<p align=center>\n",
        "  <img src=\"https://www.promoview.com.br/uploads/2018/03/images/02.03/fake_news_artigo_1.jpg\">\n",
        "\n",
        "</p>\n"
      ]
    },
    {
      "cell_type": "markdown",
      "metadata": {
        "id": "TvERpDQ_tLT5"
      },
      "source": [
        "---\n",
        "Esse projeto é parte do **Data Science na Prática 2.0**\n",
        "*by [sigmoidal.ai](https://sigmoidal.ai)*  \n",
        "\n",
        "\n",
        "<img alt=\"Colaboratory logo\" width=\"15%\" src=\"https://raw.githubusercontent.com/carlosfab/escola-data-science/master/img/novo_logo_bg_claro.png\">\n",
        "\n",
        "Caso você também queria aprender em profundidade esse tema ou outros ligados a Ciência de Dados procure a comunidade Sigmoidal.\n",
        "\n",
        "---"
      ]
    },
    {
      "cell_type": "code",
      "metadata": {
        "id": "acUDtf0jqxCq"
      },
      "source": [
        "# importando os pacotes necessários\n",
        "import pandas as pd\n",
        "import numpy as np\n",
        "import matplotlib.pyplot as plt\n",
        "import seaborn as sns\n",
        "\n",
        "sns.set_style()"
      ],
      "execution_count": 1,
      "outputs": []
    },
    {
      "cell_type": "code",
      "metadata": {
        "colab": {
          "base_uri": "https://localhost:8080/"
        },
        "id": "vz9X7GFlvA85",
        "outputId": "927f549e-2455-43ba-b5cc-29c3d8570d11"
      },
      "source": [
        "data = \"https://www.dropbox.com/s/g9snf1eozls46kq/fake_news.csv?dl=1\"\n",
        "\n",
        "df = pd.read_csv(data)\n",
        "print(df.shape)"
      ],
      "execution_count": 2,
      "outputs": [
        {
          "output_type": "stream",
          "text": [
            "(44898, 5)\n"
          ],
          "name": "stdout"
        }
      ]
    },
    {
      "cell_type": "code",
      "metadata": {
        "colab": {
          "base_uri": "https://localhost:8080/",
          "height": 204
        },
        "id": "_89NDIGIwKY5",
        "outputId": "d0e3d5b1-83bb-422c-d286-39afe94cde9f"
      },
      "source": [
        "#vizualizando os textos importados\n",
        "df.head()"
      ],
      "execution_count": 3,
      "outputs": [
        {
          "output_type": "execute_result",
          "data": {
            "text/html": [
              "<div>\n",
              "<style scoped>\n",
              "    .dataframe tbody tr th:only-of-type {\n",
              "        vertical-align: middle;\n",
              "    }\n",
              "\n",
              "    .dataframe tbody tr th {\n",
              "        vertical-align: top;\n",
              "    }\n",
              "\n",
              "    .dataframe thead th {\n",
              "        text-align: right;\n",
              "    }\n",
              "</style>\n",
              "<table border=\"1\" class=\"dataframe\">\n",
              "  <thead>\n",
              "    <tr style=\"text-align: right;\">\n",
              "      <th></th>\n",
              "      <th>title</th>\n",
              "      <th>text</th>\n",
              "      <th>subject</th>\n",
              "      <th>date</th>\n",
              "      <th>Target</th>\n",
              "    </tr>\n",
              "  </thead>\n",
              "  <tbody>\n",
              "    <tr>\n",
              "      <th>0</th>\n",
              "      <td>BREAKING: GOP Chairman Grassley Has Had Enoug...</td>\n",
              "      <td>Donald Trump s White House is in chaos, and th...</td>\n",
              "      <td>News</td>\n",
              "      <td>July 21, 2017</td>\n",
              "      <td>1</td>\n",
              "    </tr>\n",
              "    <tr>\n",
              "      <th>1</th>\n",
              "      <td>Failed GOP Candidates Remembered In Hilarious...</td>\n",
              "      <td>Now that Donald Trump is the presumptive GOP n...</td>\n",
              "      <td>News</td>\n",
              "      <td>May 7, 2016</td>\n",
              "      <td>1</td>\n",
              "    </tr>\n",
              "    <tr>\n",
              "      <th>2</th>\n",
              "      <td>Mike Pence’s New DC Neighbors Are HILARIOUSLY...</td>\n",
              "      <td>Mike Pence is a huge homophobe. He supports ex...</td>\n",
              "      <td>News</td>\n",
              "      <td>December 3, 2016</td>\n",
              "      <td>1</td>\n",
              "    </tr>\n",
              "    <tr>\n",
              "      <th>3</th>\n",
              "      <td>California AG pledges to defend birth control ...</td>\n",
              "      <td>SAN FRANCISCO (Reuters) - California Attorney ...</td>\n",
              "      <td>politicsNews</td>\n",
              "      <td>October 6, 2017</td>\n",
              "      <td>0</td>\n",
              "    </tr>\n",
              "    <tr>\n",
              "      <th>4</th>\n",
              "      <td>AZ RANCHERS Living On US-Mexico Border Destroy...</td>\n",
              "      <td>Twisted reasoning is all that comes from Pelos...</td>\n",
              "      <td>politics</td>\n",
              "      <td>Apr 25, 2017</td>\n",
              "      <td>1</td>\n",
              "    </tr>\n",
              "  </tbody>\n",
              "</table>\n",
              "</div>"
            ],
            "text/plain": [
              "                                               title  ... Target\n",
              "0   BREAKING: GOP Chairman Grassley Has Had Enoug...  ...      1\n",
              "1   Failed GOP Candidates Remembered In Hilarious...  ...      1\n",
              "2   Mike Pence’s New DC Neighbors Are HILARIOUSLY...  ...      1\n",
              "3  California AG pledges to defend birth control ...  ...      0\n",
              "4  AZ RANCHERS Living On US-Mexico Border Destroy...  ...      1\n",
              "\n",
              "[5 rows x 5 columns]"
            ]
          },
          "metadata": {
            "tags": []
          },
          "execution_count": 3
        }
      ]
    },
    {
      "cell_type": "markdown",
      "metadata": {
        "id": "htmo3dOPwZ95"
      },
      "source": [
        "### Os Dados\n",
        "\n",
        "Estamos tratando um dataset com aproximadamente 45 mil entradas, divididas em 5 variáveis:\n",
        "* title: Título do post\n",
        "* text: Texto da notícia\n",
        "* subject: Assunto da notícia\n",
        "* date: data de postagem\n",
        "* Target: vetor alvo e está dividida em:\n",
        " * True (Favtual) = 0\n",
        " * False (Falso) = 1 "
      ]
    },
    {
      "cell_type": "markdown",
      "metadata": {
        "id": "uhQOnOIIxLrs"
      },
      "source": [
        "### Tratando os Dados\n",
        "\n",
        "Para lidarmos com linguagem natural, precisamos de alguns conhecimentos de NLP para tratar esses dados da melhor forma, para que possam ser passados ao nosso modelo com sucesso e obtermos resultados desejados"
      ]
    },
    {
      "cell_type": "code",
      "metadata": {
        "colab": {
          "base_uri": "https://localhost:8080/",
          "height": 204
        },
        "id": "pXX0CAq0wYAR",
        "outputId": "8e8f9996-a1dd-4506-b796-584e7d3d1774"
      },
      "source": [
        "### tratando o texto das notícias\n",
        "import string\n",
        "\n",
        "def limp_texto(text):\n",
        "  words = str(text).split()\n",
        "  words = [i.lower() + \"\" for i in words]\n",
        "  words = \" \".join(words)\n",
        "  words = words.translate(words.maketrans('', '', string.punctuation))\n",
        "  return words\n",
        "\n",
        "df['text'] = df['text'].apply(limp_texto)\n",
        "df.head()"
      ],
      "execution_count": 4,
      "outputs": [
        {
          "output_type": "execute_result",
          "data": {
            "text/html": [
              "<div>\n",
              "<style scoped>\n",
              "    .dataframe tbody tr th:only-of-type {\n",
              "        vertical-align: middle;\n",
              "    }\n",
              "\n",
              "    .dataframe tbody tr th {\n",
              "        vertical-align: top;\n",
              "    }\n",
              "\n",
              "    .dataframe thead th {\n",
              "        text-align: right;\n",
              "    }\n",
              "</style>\n",
              "<table border=\"1\" class=\"dataframe\">\n",
              "  <thead>\n",
              "    <tr style=\"text-align: right;\">\n",
              "      <th></th>\n",
              "      <th>title</th>\n",
              "      <th>text</th>\n",
              "      <th>subject</th>\n",
              "      <th>date</th>\n",
              "      <th>Target</th>\n",
              "    </tr>\n",
              "  </thead>\n",
              "  <tbody>\n",
              "    <tr>\n",
              "      <th>0</th>\n",
              "      <td>BREAKING: GOP Chairman Grassley Has Had Enoug...</td>\n",
              "      <td>donald trump s white house is in chaos and the...</td>\n",
              "      <td>News</td>\n",
              "      <td>July 21, 2017</td>\n",
              "      <td>1</td>\n",
              "    </tr>\n",
              "    <tr>\n",
              "      <th>1</th>\n",
              "      <td>Failed GOP Candidates Remembered In Hilarious...</td>\n",
              "      <td>now that donald trump is the presumptive gop n...</td>\n",
              "      <td>News</td>\n",
              "      <td>May 7, 2016</td>\n",
              "      <td>1</td>\n",
              "    </tr>\n",
              "    <tr>\n",
              "      <th>2</th>\n",
              "      <td>Mike Pence’s New DC Neighbors Are HILARIOUSLY...</td>\n",
              "      <td>mike pence is a huge homophobe he supports exg...</td>\n",
              "      <td>News</td>\n",
              "      <td>December 3, 2016</td>\n",
              "      <td>1</td>\n",
              "    </tr>\n",
              "    <tr>\n",
              "      <th>3</th>\n",
              "      <td>California AG pledges to defend birth control ...</td>\n",
              "      <td>san francisco reuters  california attorney gen...</td>\n",
              "      <td>politicsNews</td>\n",
              "      <td>October 6, 2017</td>\n",
              "      <td>0</td>\n",
              "    </tr>\n",
              "    <tr>\n",
              "      <th>4</th>\n",
              "      <td>AZ RANCHERS Living On US-Mexico Border Destroy...</td>\n",
              "      <td>twisted reasoning is all that comes from pelos...</td>\n",
              "      <td>politics</td>\n",
              "      <td>Apr 25, 2017</td>\n",
              "      <td>1</td>\n",
              "    </tr>\n",
              "  </tbody>\n",
              "</table>\n",
              "</div>"
            ],
            "text/plain": [
              "                                               title  ... Target\n",
              "0   BREAKING: GOP Chairman Grassley Has Had Enoug...  ...      1\n",
              "1   Failed GOP Candidates Remembered In Hilarious...  ...      1\n",
              "2   Mike Pence’s New DC Neighbors Are HILARIOUSLY...  ...      1\n",
              "3  California AG pledges to defend birth control ...  ...      0\n",
              "4  AZ RANCHERS Living On US-Mexico Border Destroy...  ...      1\n",
              "\n",
              "[5 rows x 5 columns]"
            ]
          },
          "metadata": {
            "tags": []
          },
          "execution_count": 4
        }
      ]
    },
    {
      "cell_type": "markdown",
      "metadata": {
        "id": "gYRrOoqFd1Ay"
      },
      "source": [
        "Agora, o que precisamos é separar nossos dados em treino, validação e teste."
      ]
    },
    {
      "cell_type": "code",
      "metadata": {
        "id": "w1pVTvePx-7g",
        "colab": {
          "base_uri": "https://localhost:8080/"
        },
        "outputId": "28fce33f-b0ca-4049-e34b-8c4f83230416"
      },
      "source": [
        "from sklearn.model_selection import train_test_split\n",
        "np.random.seed(42)\n",
        "\n",
        "train, test = train_test_split(df)\n",
        "train, validation = train_test_split(train, test_size = 0.2)\n",
        "\n",
        "#verificando  dataset\n",
        "print(\"Entradas por Dataset\")\n",
        "print(\"Dataset de treino:\", len(train))\n",
        "print(\"Dataset de Validação:\", len(validation))\n",
        "print(\"dataset de teste:\", len(test))"
      ],
      "execution_count": 5,
      "outputs": [
        {
          "output_type": "stream",
          "text": [
            "Entradas por Dataset\n",
            "Dataset de treino: 26938\n",
            "Dataset de Validação: 6735\n",
            "dataset de teste: 11225\n"
          ],
          "name": "stdout"
        }
      ]
    },
    {
      "cell_type": "markdown",
      "metadata": {
        "id": "dFYuj-5gfLmY"
      },
      "source": [
        "### Pré-Processamento de Strings - NLP\n",
        "\n",
        "Aqui neste projeto estamos focando em ***Deep Learning*** e a implementação de **Redes Neurais**, por isso, não iremos nos extender em pré-processamento de Strings.\n",
        "\n",
        "De qualquer forma, esse é um ponto importante do projeto. Aqui, basicamente o que queremos é simplificar o texto, para que seja mais fácil do nosso modelo processar e entender. Por isso, iremos utilizar uma técnica que se chama ***Tokenizing***.\n",
        "\n",
        "Em suma, Tokenizing, ou Tokenização, em tradução livre, é um passo que separa longos textos de strings em pedaços de textos mais curtos, chamados de tokens.\n",
        "\n",
        "<p align=center>\n",
        "  <img src=\"https://www.kdnuggets.com/wp-content/uploads/text-tokens-tokenization-manning.jpg\" height=\"30%\">\n",
        "</p>\n",
        "\n",
        "Para ler mais sobre esse assunto e entender melhor os passos e parâmetros abaixo, deixarei links de referência [aqui](https://www.kdnuggets.com/2017/12/general-approach-preprocessing-text-data.html) e [aqui](https://www.kdnuggets.com/2020/03/tensorflow-keras-tokenization-text-data-prep.html).\n"
      ]
    },
    {
      "cell_type": "code",
      "metadata": {
        "id": "lt1R6c1heynk"
      },
      "source": [
        "#importando bilbiotecas necessárias\n",
        "import tensorflow as tf\n",
        "from tensorflow import keras\n",
        "from tensorflow.keras.preprocessing.text import Tokenizer\n",
        "from tensorflow.keras.preprocessing.sequence import pad_sequences\n",
        "\n",
        "\n",
        "vocab_size = 10000\n",
        "trunc_type = \"post\"\n",
        "pad_type = \"post\"\n",
        "oov_tok = \"<OOV>\"\n",
        "tokenizer = Tokenizer(num_words = vocab_size, oov_token=oov_tok)\n",
        "tokenizer.fit_on_texts(train.text)\n",
        "word_index = tokenizer.word_index\n",
        "\n",
        "# aplicando técnicas de tokenizing e padding\n",
        "training_sequences = tokenizer.texts_to_sequences(np.array(train.text))\n",
        "training_padded = pad_sequences(training_sequences, truncating=trunc_type, padding=pad_type)\n",
        "\n",
        "max_lenght = len(training_padded[0])\n",
        "\n",
        "validation_sequences = tokenizer.texts_to_sequences(np.array(validation.text))\n",
        "validation_padded = pad_sequences(validation_sequences, padding=pad_type, truncating=trunc_type, maxlen = max_lenght)"
      ],
      "execution_count": 6,
      "outputs": []
    },
    {
      "cell_type": "code",
      "metadata": {
        "colab": {
          "base_uri": "https://localhost:8080/"
        },
        "id": "nJGbmSo5hDAo",
        "outputId": "b9c379dd-e6ea-43f0-ea8f-221513d60ac9"
      },
      "source": [
        "# criando arrays com inputs\n",
        "\n",
        "x_train = np.copy(training_padded)\n",
        "x_val = np.copy(validation_padded)\n",
        "y_train = train['Target'].values\n",
        "y_val = validation['Target'].values\n",
        "\n",
        "# verificando os datasets\n",
        "print(\"Tamanho dos datasets\")\n",
        "print(\"treino: \", len(x_train), \"entradas.\")\n",
        "print(\"respostas: \", len(y_train), \"entradas.\")"
      ],
      "execution_count": 7,
      "outputs": [
        {
          "output_type": "stream",
          "text": [
            "Tamanho dos datasets\n",
            "treino:  26938 entradas.\n",
            "respostas:  26938 entradas.\n"
          ],
          "name": "stdout"
        }
      ]
    },
    {
      "cell_type": "markdown",
      "metadata": {
        "id": "4Ye5E4mRip7L"
      },
      "source": [
        "### Preparando, Instanciando e Treinando o Modelo\n",
        "\n",
        "Agora que nossos dados estão prontos, é hora de ir ao que interessa.\n",
        "\n",
        "Foi feito um RandomSearch para encontrar os melhores parâmetros, em um processo lento e externo a este notebook, e instanciado um modelo que usa os melhores parâmetros encontrados."
      ]
    },
    {
      "cell_type": "code",
      "metadata": {
        "colab": {
          "base_uri": "https://localhost:8080/"
        },
        "id": "cQBrg1igihO2",
        "outputId": "ce5e53df-2967-4e76-f7dd-7f70c35e8135"
      },
      "source": [
        "# instanciando e fit no modelo\n",
        "\n",
        "model = tf.keras.Sequential([\n",
        "                             tf.keras.layers.Embedding(vocab_size, (155), input_length=max_lenght),\n",
        "                             tf.keras.layers.Conv1D(16, 5, activation='relu'),\n",
        "                             tf.keras.layers.GlobalMaxPool1D(),\n",
        "                             tf.keras.layers.Dense(1, activation='sigmoid')\n",
        "                             ])\n",
        "\n",
        "model.compile(loss='binary_crossentropy',\n",
        "              optimizer=tf.keras.optimizers.Adam(learning_rate= 0.001),\n",
        "              metrics=['accuracy'])\n",
        "\n",
        "history= model.fit(x_train, y_train, verbose = 2, epochs = 3, validation_data = (x_val, y_val),\n",
        "                   callbacks=[tf.keras.callbacks.EarlyStopping('val_loss', patience=6)])"
      ],
      "execution_count": 8,
      "outputs": [
        {
          "output_type": "stream",
          "text": [
            "Epoch 1/3\n",
            "842/842 - 81s - loss: 0.0720 - accuracy: 0.9756 - val_loss: 0.0114 - val_accuracy: 0.9963\n",
            "Epoch 2/3\n",
            "842/842 - 81s - loss: 0.0050 - accuracy: 0.9987 - val_loss: 0.0061 - val_accuracy: 0.9984\n",
            "Epoch 3/3\n",
            "842/842 - 81s - loss: 0.0014 - accuracy: 0.9996 - val_loss: 0.0055 - val_accuracy: 0.9990\n"
          ],
          "name": "stdout"
        }
      ]
    },
    {
      "cell_type": "markdown",
      "metadata": {
        "id": "lMLOX1R6kYKc"
      },
      "source": [
        "Os resultados são bem promissores, apesar de carecerem de uma maior investigação. No entanto, cumpriu o objetivo de demonstrar o poder das Redes Neurais.\n"
      ]
    },
    {
      "cell_type": "code",
      "metadata": {
        "colab": {
          "base_uri": "https://localhost:8080/",
          "height": 541
        },
        "id": "1816xuYrj74T",
        "outputId": "1e60b7ae-b55f-4418-d504-28dfc3f7a2ee"
      },
      "source": [
        "# visualizando os resultados\n",
        "def plot_graphs(history, string):\n",
        "  plt.plot(history.history[string])\n",
        "  plt.plot(history.history['val_'+string])\n",
        "  plt.xlabel(\"Epochs\")\n",
        "  plt.ylabel(string)\n",
        "  plt.legend([string, 'val_'+string])\n",
        "  plt.show()\n",
        "\n",
        "plot_graphs(history, \"accuracy\")\n",
        "plot_graphs(history, \"loss\")"
      ],
      "execution_count": 11,
      "outputs": [
        {
          "output_type": "display_data",
          "data": {
            "image/png": "[encoded data removed]",
            "text/plain": [
              "<Figure size 432x288 with 1 Axes>"
            ]
          },
          "metadata": {
            "tags": [],
            "needs_background": "light"
          }
        },
        {
          "output_type": "display_data",
          "data": {
            "image/png": "[encoded data removed]",
            "text/plain": [
              "<Figure size 432x288 with 1 Axes>"
            ]
          },
          "metadata": {
            "tags": [],
            "needs_background": "light"
          }
        }
      ]
    },
    {
      "cell_type": "markdown",
      "metadata": {
        "id": "6VoM_TBwn1qi"
      },
      "source": [
        "### Fazendo Previsões no Conjunto de Teste\n",
        "\n",
        "Por fim, temos o pipeline ideal para tratar nossos dados, já treinamos, tunamos e obtivemos excelentes resultados em nosso conjunto de validação. Nosso modelo está pronto, mas ele tem mais uma missão a cumprir. \n",
        "\n",
        "Vamos apresentar dados completamente novos a ele, fazer previsõs e ver como ele se sai."
      ]
    },
    {
      "cell_type": "code",
      "metadata": {
        "colab": {
          "base_uri": "https://localhost:8080/"
        },
        "id": "pq033f9xn2jA",
        "outputId": "af35cde1-8199-4d9c-8cdc-543e649c2191"
      },
      "source": [
        "# tratando os dados de teste\n",
        "test_sequences = tokenizer.texts_to_sequences(np.array(test.text))\n",
        "test_padded = pad_sequences(test_sequences, padding=pad_type, truncating=trunc_type, maxlen = max_lenght)\n",
        "\n",
        "# fazendo previsões\n",
        "preds = np.round(model.predict(test_padded))\n",
        "\n",
        "# check do tamanho\n",
        "len(preds)"
      ],
      "execution_count": 13,
      "outputs": [
        {
          "output_type": "execute_result",
          "data": {
            "text/plain": [
              "11225"
            ]
          },
          "metadata": {
            "tags": []
          },
          "execution_count": 13
        }
      ]
    },
    {
      "cell_type": "code",
      "metadata": {
        "colab": {
          "base_uri": "https://localhost:8080/"
        },
        "id": "oYLkUf3Qocuk",
        "outputId": "2b848894-734a-4b7e-d7dd-a84b802b78e2"
      },
      "source": [
        "# verificando a acurácia\n",
        "acc = np.sum(1 if i==j else 0 for i,j in zip(preds, test[\"Target\"].values)) / len(test)\n",
        "print(\"Accuracy: \", acc )"
      ],
      "execution_count": 18,
      "outputs": [
        {
          "output_type": "stream",
          "text": [
            "Accuracy:  0.9984855233853007\n"
          ],
          "name": "stdout"
        },
        {
          "output_type": "stream",
          "text": [
            "/usr/local/lib/python3.6/dist-packages/ipykernel_launcher.py:2: DeprecationWarning: Calling np.sum(generator) is deprecated, and in the future will give a different result. Use np.sum(np.fromiter(generator)) or the python sum builtin instead.\n",
            "  \n"
          ],
          "name": "stderr"
        }
      ]
    },
    {
      "cell_type": "code",
      "metadata": {
        "id": "V6QiVJXmotni"
      },
      "source": [
        ""
      ],
      "execution_count": null,
      "outputs": []
    }
  ]
}